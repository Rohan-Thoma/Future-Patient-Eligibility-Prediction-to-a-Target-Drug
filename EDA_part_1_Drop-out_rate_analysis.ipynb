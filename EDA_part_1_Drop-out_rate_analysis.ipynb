{
 "cells": [
  {
   "cell_type": "markdown",
   "metadata": {},
   "source": [
    "## EDA Part-1 Drop-out rate analysis"
   ]
  },
  {
   "cell_type": "markdown",
   "metadata": {},
   "source": [
    "Drugs are generally administered/prescribed by the physicians for a certain\n",
    "period of time or they are administered at regular intervals, but for various reasons patients\n",
    "might stop taking the treatment . <br><br> Consider following example for better understanding\n",
    "Let’s say you get a throat infection, the physician prescribes you an antibiotic for 10 days,\n",
    "but you stop taking the treatment after 3 days because of some adverse events.\n",
    "In the above example ideal treatment duration is 10 days but patients stopped taking\n",
    "treatment after 3 days due to adverse events. Patients stopping a treatment is called dropoff.\n",
    "We want to study dropoff for “Target Drug”, the aim is to generate insights on what events\n",
    "lead to patients stopping on “Target Drug”.\n",
    "\n",
    "* Assume ideal treatment duration for “Target Drug” is 1 year, come up with analysis showing\n",
    "how drop-off rate is, dropoff rate is defined as number of patients dropping off each month.\n",
    "Then come up with analysis to generate insights on what events are driving a patient to stop\n",
    "taking “Target Drug”."
   ]
  },
  {
   "cell_type": "code",
   "execution_count": 7,
   "metadata": {},
   "outputs": [
    {
     "data": {
      "text/html": [
       "<div>\n",
       "<style scoped>\n",
       "    .dataframe tbody tr th:only-of-type {\n",
       "        vertical-align: middle;\n",
       "    }\n",
       "\n",
       "    .dataframe tbody tr th {\n",
       "        vertical-align: top;\n",
       "    }\n",
       "\n",
       "    .dataframe thead th {\n",
       "        text-align: right;\n",
       "    }\n",
       "</style>\n",
       "<table border=\"1\" class=\"dataframe\">\n",
       "  <thead>\n",
       "    <tr style=\"text-align: right;\">\n",
       "      <th></th>\n",
       "      <th>Patient-Uid</th>\n",
       "      <th>Date</th>\n",
       "      <th>Incident</th>\n",
       "    </tr>\n",
       "  </thead>\n",
       "  <tbody>\n",
       "    <tr>\n",
       "      <th>0</th>\n",
       "      <td>a0db1e73-1c7c-11ec-ae39-16262ee38c7f</td>\n",
       "      <td>2019-03-09</td>\n",
       "      <td>PRIMARY_DIAGNOSIS</td>\n",
       "    </tr>\n",
       "    <tr>\n",
       "      <th>1</th>\n",
       "      <td>a0dc93f2-1c7c-11ec-9cd2-16262ee38c7f</td>\n",
       "      <td>2015-05-16</td>\n",
       "      <td>PRIMARY_DIAGNOSIS</td>\n",
       "    </tr>\n",
       "    <tr>\n",
       "      <th>3</th>\n",
       "      <td>a0dc94c6-1c7c-11ec-a3a0-16262ee38c7f</td>\n",
       "      <td>2018-01-30</td>\n",
       "      <td>SYMPTOM_TYPE_0</td>\n",
       "    </tr>\n",
       "    <tr>\n",
       "      <th>4</th>\n",
       "      <td>a0dc950b-1c7c-11ec-b6ec-16262ee38c7f</td>\n",
       "      <td>2015-04-22</td>\n",
       "      <td>DRUG_TYPE_0</td>\n",
       "    </tr>\n",
       "    <tr>\n",
       "      <th>8</th>\n",
       "      <td>a0dc9543-1c7c-11ec-bb63-16262ee38c7f</td>\n",
       "      <td>2016-06-18</td>\n",
       "      <td>DRUG_TYPE_1</td>\n",
       "    </tr>\n",
       "  </tbody>\n",
       "</table>\n",
       "</div>"
      ],
      "text/plain": [
       "                            Patient-Uid       Date           Incident\n",
       "0  a0db1e73-1c7c-11ec-ae39-16262ee38c7f 2019-03-09  PRIMARY_DIAGNOSIS\n",
       "1  a0dc93f2-1c7c-11ec-9cd2-16262ee38c7f 2015-05-16  PRIMARY_DIAGNOSIS\n",
       "3  a0dc94c6-1c7c-11ec-a3a0-16262ee38c7f 2018-01-30     SYMPTOM_TYPE_0\n",
       "4  a0dc950b-1c7c-11ec-b6ec-16262ee38c7f 2015-04-22        DRUG_TYPE_0\n",
       "8  a0dc9543-1c7c-11ec-bb63-16262ee38c7f 2016-06-18        DRUG_TYPE_1"
      ]
     },
     "execution_count": 7,
     "metadata": {},
     "output_type": "execute_result"
    }
   ],
   "source": [
    "#read the data first\n",
    "import pandas as pd\n",
    "\n",
    "train_data = pd.read_parquet(\"Structured_Data_Assignment/train.parquet\")\n",
    "\n",
    "train_data.head()"
   ]
  },
  {
   "cell_type": "markdown",
   "metadata": {},
   "source": [
    "### Group each patient data in to a single row"
   ]
  },
  {
   "cell_type": "code",
   "execution_count": 9,
   "metadata": {},
   "outputs": [
    {
     "data": {
      "text/html": [
       "<div>\n",
       "<style scoped>\n",
       "    .dataframe tbody tr th:only-of-type {\n",
       "        vertical-align: middle;\n",
       "    }\n",
       "\n",
       "    .dataframe tbody tr th {\n",
       "        vertical-align: top;\n",
       "    }\n",
       "\n",
       "    .dataframe thead th {\n",
       "        text-align: right;\n",
       "    }\n",
       "</style>\n",
       "<table border=\"1\" class=\"dataframe\">\n",
       "  <thead>\n",
       "    <tr style=\"text-align: right;\">\n",
       "      <th></th>\n",
       "      <th>Patient-Uid</th>\n",
       "      <th>Incident</th>\n",
       "    </tr>\n",
       "  </thead>\n",
       "  <tbody>\n",
       "    <tr>\n",
       "      <th>0</th>\n",
       "      <td>a0db1e73-1c7c-11ec-ae39-16262ee38c7f</td>\n",
       "      <td>DRUG_TYPE_7 SYMPTOM_TYPE_2 DRUG_TYPE_7 SYMPTOM...</td>\n",
       "    </tr>\n",
       "    <tr>\n",
       "      <th>1</th>\n",
       "      <td>a0dc93f2-1c7c-11ec-9cd2-16262ee38c7f</td>\n",
       "      <td>DRUG_TYPE_0 DRUG_TYPE_2 DRUG_TYPE_0 PRIMARY_DI...</td>\n",
       "    </tr>\n",
       "    <tr>\n",
       "      <th>2</th>\n",
       "      <td>a0dc94c6-1c7c-11ec-a3a0-16262ee38c7f</td>\n",
       "      <td>DRUG_TYPE_0 PRIMARY_DIAGNOSIS DRUG_TYPE_7 DRUG...</td>\n",
       "    </tr>\n",
       "    <tr>\n",
       "      <th>3</th>\n",
       "      <td>a0dc950b-1c7c-11ec-b6ec-16262ee38c7f</td>\n",
       "      <td>DRUG_TYPE_0 DRUG_TYPE_7 DRUG_TYPE_2 PRIMARY_DI...</td>\n",
       "    </tr>\n",
       "    <tr>\n",
       "      <th>4</th>\n",
       "      <td>a0dc9543-1c7c-11ec-bb63-16262ee38c7f</td>\n",
       "      <td>DRUG_TYPE_1 TEST_TYPE_1 SYMPTOM_TYPE_8 DRUG_TY...</td>\n",
       "    </tr>\n",
       "  </tbody>\n",
       "</table>\n",
       "</div>"
      ],
      "text/plain": [
       "                            Patient-Uid  \\\n",
       "0  a0db1e73-1c7c-11ec-ae39-16262ee38c7f   \n",
       "1  a0dc93f2-1c7c-11ec-9cd2-16262ee38c7f   \n",
       "2  a0dc94c6-1c7c-11ec-a3a0-16262ee38c7f   \n",
       "3  a0dc950b-1c7c-11ec-b6ec-16262ee38c7f   \n",
       "4  a0dc9543-1c7c-11ec-bb63-16262ee38c7f   \n",
       "\n",
       "                                            Incident  \n",
       "0  DRUG_TYPE_7 SYMPTOM_TYPE_2 DRUG_TYPE_7 SYMPTOM...  \n",
       "1  DRUG_TYPE_0 DRUG_TYPE_2 DRUG_TYPE_0 PRIMARY_DI...  \n",
       "2  DRUG_TYPE_0 PRIMARY_DIAGNOSIS DRUG_TYPE_7 DRUG...  \n",
       "3  DRUG_TYPE_0 DRUG_TYPE_7 DRUG_TYPE_2 PRIMARY_DI...  \n",
       "4  DRUG_TYPE_1 TEST_TYPE_1 SYMPTOM_TYPE_8 DRUG_TY...  "
      ]
     },
     "execution_count": 9,
     "metadata": {},
     "output_type": "execute_result"
    }
   ],
   "source": [
    "# Converting the 'Date' column to datetime\n",
    "train_data['Date'] = pd.to_datetime(train_data['Date'])\n",
    "\n",
    "# Sorting the DataFrame by 'patient_id' and 'Date'\n",
    "train_data.sort_values(by=['Patient-Uid', 'Date'], inplace=True)\n",
    "\n",
    "#There is space in the name which will create problems in the future sow e replace it with '_'\n",
    "train_data['Incident'] = train_data['Incident'].replace('TARGET DRUG', 'TARGET_DRUG')\n",
    "\n",
    "# Grouping by 'patient_id' and aggregating 'Incident' column\n",
    "grouped = train_data.groupby('Patient-Uid')['Incident'].apply(lambda x: ' '.join(x)).reset_index()\n",
    "\n",
    "grouped.head()"
   ]
  },
  {
   "cell_type": "code",
   "execution_count": 13,
   "metadata": {},
   "outputs": [
    {
     "data": {
      "text/plain": [
       "(27033, 2)"
      ]
     },
     "execution_count": 13,
     "metadata": {},
     "output_type": "execute_result"
    }
   ],
   "source": [
    "grouped.shape"
   ]
  },
  {
   "cell_type": "markdown",
   "metadata": {},
   "source": [
    "### Filter the required data ( which is --> patients who have taken 'TARGET_DRUG')"
   ]
  },
  {
   "cell_type": "code",
   "execution_count": 14,
   "metadata": {},
   "outputs": [
    {
     "data": {
      "text/plain": [
       "(9374, 2)"
      ]
     },
     "execution_count": 14,
     "metadata": {},
     "output_type": "execute_result"
    }
   ],
   "source": [
    "# Filter rows containing the TARGET_DRUG\n",
    "filtered_df = grouped[grouped['Incident'].str.contains('TARGET_DRUG')]\n",
    "\n",
    "filtered_df.shape"
   ]
  },
  {
   "cell_type": "code",
   "execution_count": 22,
   "metadata": {},
   "outputs": [
    {
     "data": {
      "text/html": [
       "<div>\n",
       "<style scoped>\n",
       "    .dataframe tbody tr th:only-of-type {\n",
       "        vertical-align: middle;\n",
       "    }\n",
       "\n",
       "    .dataframe tbody tr th {\n",
       "        vertical-align: top;\n",
       "    }\n",
       "\n",
       "    .dataframe thead th {\n",
       "        text-align: right;\n",
       "    }\n",
       "</style>\n",
       "<table border=\"1\" class=\"dataframe\">\n",
       "  <thead>\n",
       "    <tr style=\"text-align: right;\">\n",
       "      <th></th>\n",
       "      <th>Patient-Uid</th>\n",
       "      <th>Incident</th>\n",
       "    </tr>\n",
       "  </thead>\n",
       "  <tbody>\n",
       "    <tr>\n",
       "      <th>17659</th>\n",
       "      <td>a0e9c384-1c7c-11ec-81a0-16262ee38c7f</td>\n",
       "      <td>DRUG_TYPE_7 TEST_TYPE_0 DRUG_TYPE_0 DRUG_TYPE_...</td>\n",
       "    </tr>\n",
       "    <tr>\n",
       "      <th>17660</th>\n",
       "      <td>a0e9c3b3-1c7c-11ec-ae8e-16262ee38c7f</td>\n",
       "      <td>PRIMARY_DIAGNOSIS DRUG_TYPE_2 DRUG_TYPE_2 PRIM...</td>\n",
       "    </tr>\n",
       "    <tr>\n",
       "      <th>17661</th>\n",
       "      <td>a0e9c3e3-1c7c-11ec-a8b9-16262ee38c7f</td>\n",
       "      <td>DRUG_TYPE_5 DRUG_TYPE_5 DRUG_TYPE_7 SYMPTOM_TY...</td>\n",
       "    </tr>\n",
       "    <tr>\n",
       "      <th>17662</th>\n",
       "      <td>a0e9c414-1c7c-11ec-889a-16262ee38c7f</td>\n",
       "      <td>DRUG_TYPE_9 DRUG_TYPE_7 DRUG_TYPE_7 SYMPTOM_TY...</td>\n",
       "    </tr>\n",
       "    <tr>\n",
       "      <th>17663</th>\n",
       "      <td>a0e9c443-1c7c-11ec-9eb0-16262ee38c7f</td>\n",
       "      <td>DRUG_TYPE_8 DRUG_TYPE_7 SYMPTOM_TYPE_0 DRUG_TY...</td>\n",
       "    </tr>\n",
       "  </tbody>\n",
       "</table>\n",
       "</div>"
      ],
      "text/plain": [
       "                                Patient-Uid  \\\n",
       "17659  a0e9c384-1c7c-11ec-81a0-16262ee38c7f   \n",
       "17660  a0e9c3b3-1c7c-11ec-ae8e-16262ee38c7f   \n",
       "17661  a0e9c3e3-1c7c-11ec-a8b9-16262ee38c7f   \n",
       "17662  a0e9c414-1c7c-11ec-889a-16262ee38c7f   \n",
       "17663  a0e9c443-1c7c-11ec-9eb0-16262ee38c7f   \n",
       "\n",
       "                                                Incident  \n",
       "17659  DRUG_TYPE_7 TEST_TYPE_0 DRUG_TYPE_0 DRUG_TYPE_...  \n",
       "17660  PRIMARY_DIAGNOSIS DRUG_TYPE_2 DRUG_TYPE_2 PRIM...  \n",
       "17661  DRUG_TYPE_5 DRUG_TYPE_5 DRUG_TYPE_7 SYMPTOM_TY...  \n",
       "17662  DRUG_TYPE_9 DRUG_TYPE_7 DRUG_TYPE_7 SYMPTOM_TY...  \n",
       "17663  DRUG_TYPE_8 DRUG_TYPE_7 SYMPTOM_TYPE_0 DRUG_TY...  "
      ]
     },
     "execution_count": 22,
     "metadata": {},
     "output_type": "execute_result"
    }
   ],
   "source": [
    "filtered_df.head()"
   ]
  },
  {
   "cell_type": "markdown",
   "metadata": {},
   "source": [
    "### Make a list all the incident dates for each patient and add it to the dataset"
   ]
  },
  {
   "cell_type": "code",
   "execution_count": 23,
   "metadata": {},
   "outputs": [
    {
     "name": "stderr",
     "output_type": "stream",
     "text": [
      "100%|██████████| 9374/9374 [26:34<00:00,  5.88it/s]"
     ]
    },
    {
     "name": "stdout",
     "output_type": "stream",
     "text": [
      "9374\n"
     ]
    },
    {
     "name": "stderr",
     "output_type": "stream",
     "text": [
      "\n"
     ]
    }
   ],
   "source": [
    "from tqdm import tqdm\n",
    "\n",
    "Patient_dates=[]\n",
    "\n",
    "for patient_id in tqdm(list(filtered_df['Patient-Uid'].values)):\n",
    "    each_patient_data = train_data[train_data['Patient-Uid']==patient_id]['Date'].values\n",
    "    Patient_dates.append(each_patient_data)\n",
    "\n",
    "print(len(Patient_dates))"
   ]
  },
  {
   "cell_type": "code",
   "execution_count": 25,
   "metadata": {},
   "outputs": [
    {
     "data": {
      "text/html": [
       "<div>\n",
       "<style scoped>\n",
       "    .dataframe tbody tr th:only-of-type {\n",
       "        vertical-align: middle;\n",
       "    }\n",
       "\n",
       "    .dataframe tbody tr th {\n",
       "        vertical-align: top;\n",
       "    }\n",
       "\n",
       "    .dataframe thead th {\n",
       "        text-align: right;\n",
       "    }\n",
       "</style>\n",
       "<table border=\"1\" class=\"dataframe\">\n",
       "  <thead>\n",
       "    <tr style=\"text-align: right;\">\n",
       "      <th></th>\n",
       "      <th>Patient-Uid</th>\n",
       "      <th>Incident</th>\n",
       "      <th>Date_sequence</th>\n",
       "    </tr>\n",
       "  </thead>\n",
       "  <tbody>\n",
       "    <tr>\n",
       "      <th>17659</th>\n",
       "      <td>a0e9c384-1c7c-11ec-81a0-16262ee38c7f</td>\n",
       "      <td>DRUG_TYPE_7 TEST_TYPE_0 DRUG_TYPE_0 DRUG_TYPE_...</td>\n",
       "      <td>[2015-04-14T00:00:00.000000000, 2015-09-07T00:...</td>\n",
       "    </tr>\n",
       "    <tr>\n",
       "      <th>17660</th>\n",
       "      <td>a0e9c3b3-1c7c-11ec-ae8e-16262ee38c7f</td>\n",
       "      <td>PRIMARY_DIAGNOSIS DRUG_TYPE_2 DRUG_TYPE_2 PRIM...</td>\n",
       "      <td>[2015-04-16T00:00:00.000000000, 2015-04-23T00:...</td>\n",
       "    </tr>\n",
       "    <tr>\n",
       "      <th>17661</th>\n",
       "      <td>a0e9c3e3-1c7c-11ec-a8b9-16262ee38c7f</td>\n",
       "      <td>DRUG_TYPE_5 DRUG_TYPE_5 DRUG_TYPE_7 SYMPTOM_TY...</td>\n",
       "      <td>[2015-09-16T00:00:00.000000000, 2015-11-13T00:...</td>\n",
       "    </tr>\n",
       "    <tr>\n",
       "      <th>17662</th>\n",
       "      <td>a0e9c414-1c7c-11ec-889a-16262ee38c7f</td>\n",
       "      <td>DRUG_TYPE_9 DRUG_TYPE_7 DRUG_TYPE_7 SYMPTOM_TY...</td>\n",
       "      <td>[2015-05-01T00:00:00.000000000, 2015-05-01T00:...</td>\n",
       "    </tr>\n",
       "    <tr>\n",
       "      <th>17663</th>\n",
       "      <td>a0e9c443-1c7c-11ec-9eb0-16262ee38c7f</td>\n",
       "      <td>DRUG_TYPE_8 DRUG_TYPE_7 SYMPTOM_TYPE_0 DRUG_TY...</td>\n",
       "      <td>[2015-04-16T00:00:00.000000000, 2015-09-11T00:...</td>\n",
       "    </tr>\n",
       "  </tbody>\n",
       "</table>\n",
       "</div>"
      ],
      "text/plain": [
       "                                Patient-Uid  \\\n",
       "17659  a0e9c384-1c7c-11ec-81a0-16262ee38c7f   \n",
       "17660  a0e9c3b3-1c7c-11ec-ae8e-16262ee38c7f   \n",
       "17661  a0e9c3e3-1c7c-11ec-a8b9-16262ee38c7f   \n",
       "17662  a0e9c414-1c7c-11ec-889a-16262ee38c7f   \n",
       "17663  a0e9c443-1c7c-11ec-9eb0-16262ee38c7f   \n",
       "\n",
       "                                                Incident  \\\n",
       "17659  DRUG_TYPE_7 TEST_TYPE_0 DRUG_TYPE_0 DRUG_TYPE_...   \n",
       "17660  PRIMARY_DIAGNOSIS DRUG_TYPE_2 DRUG_TYPE_2 PRIM...   \n",
       "17661  DRUG_TYPE_5 DRUG_TYPE_5 DRUG_TYPE_7 SYMPTOM_TY...   \n",
       "17662  DRUG_TYPE_9 DRUG_TYPE_7 DRUG_TYPE_7 SYMPTOM_TY...   \n",
       "17663  DRUG_TYPE_8 DRUG_TYPE_7 SYMPTOM_TYPE_0 DRUG_TY...   \n",
       "\n",
       "                                           Date_sequence  \n",
       "17659  [2015-04-14T00:00:00.000000000, 2015-09-07T00:...  \n",
       "17660  [2015-04-16T00:00:00.000000000, 2015-04-23T00:...  \n",
       "17661  [2015-09-16T00:00:00.000000000, 2015-11-13T00:...  \n",
       "17662  [2015-05-01T00:00:00.000000000, 2015-05-01T00:...  \n",
       "17663  [2015-04-16T00:00:00.000000000, 2015-09-11T00:...  "
      ]
     },
     "execution_count": 25,
     "metadata": {},
     "output_type": "execute_result"
    }
   ],
   "source": [
    "filtered_df['Date_sequence']=Patient_dates\n",
    "filtered_df.head()"
   ]
  },
  {
   "cell_type": "code",
   "execution_count": 29,
   "metadata": {},
   "outputs": [
    {
     "data": {
      "text/plain": [
       "(9374, 3)"
      ]
     },
     "execution_count": 29,
     "metadata": {},
     "output_type": "execute_result"
    }
   ],
   "source": [
    "filtered_df.shape"
   ]
  },
  {
   "cell_type": "markdown",
   "metadata": {},
   "source": [
    "### Make a list of only those dates in which the target_drug is taken by the patient and add it also to the dataset"
   ]
  },
  {
   "cell_type": "code",
   "execution_count": 31,
   "metadata": {},
   "outputs": [
    {
     "name": "stderr",
     "output_type": "stream",
     "text": [
      "100%|██████████| 9374/9374 [00:04<00:00, 2264.14it/s]\n"
     ]
    }
   ],
   "source": [
    "target_drug_used_dates=[]\n",
    "for j in tqdm(range(filtered_df.shape[0])):\n",
    "    target_drug_used_dates_each_patient=[]\n",
    "    for i, incident in enumerate(filtered_df.iloc[j]['Incident'].split()):\n",
    "        if incident==\"TARGET_DRUG\":\n",
    "            target_drug_used_dates_each_patient.append(filtered_df.iloc[j]['Date_sequence'][i])\n",
    "    \n",
    "    target_drug_used_dates.append(target_drug_used_dates_each_patient)\n",
    "        "
   ]
  },
  {
   "cell_type": "code",
   "execution_count": 62,
   "metadata": {},
   "outputs": [
    {
     "data": {
      "text/html": [
       "<div>\n",
       "<style scoped>\n",
       "    .dataframe tbody tr th:only-of-type {\n",
       "        vertical-align: middle;\n",
       "    }\n",
       "\n",
       "    .dataframe tbody tr th {\n",
       "        vertical-align: top;\n",
       "    }\n",
       "\n",
       "    .dataframe thead th {\n",
       "        text-align: right;\n",
       "    }\n",
       "</style>\n",
       "<table border=\"1\" class=\"dataframe\">\n",
       "  <thead>\n",
       "    <tr style=\"text-align: right;\">\n",
       "      <th></th>\n",
       "      <th>Patient-Uid</th>\n",
       "      <th>Incident</th>\n",
       "      <th>Date_sequence</th>\n",
       "      <th>target_drug_used_dates</th>\n",
       "    </tr>\n",
       "  </thead>\n",
       "  <tbody>\n",
       "    <tr>\n",
       "      <th>17659</th>\n",
       "      <td>a0e9c384-1c7c-11ec-81a0-16262ee38c7f</td>\n",
       "      <td>DRUG_TYPE_7 TEST_TYPE_0 DRUG_TYPE_0 DRUG_TYPE_...</td>\n",
       "      <td>[2015-04-14T00:00:00.000000000, 2015-09-07T00:...</td>\n",
       "      <td>[2020-07-08T00:00:00.000000000, 2020-08-05T00:...</td>\n",
       "    </tr>\n",
       "    <tr>\n",
       "      <th>17660</th>\n",
       "      <td>a0e9c3b3-1c7c-11ec-ae8e-16262ee38c7f</td>\n",
       "      <td>PRIMARY_DIAGNOSIS DRUG_TYPE_2 DRUG_TYPE_2 PRIM...</td>\n",
       "      <td>[2015-04-16T00:00:00.000000000, 2015-04-23T00:...</td>\n",
       "      <td>[2018-04-24T00:00:00.000000000, 2018-05-17T00:...</td>\n",
       "    </tr>\n",
       "    <tr>\n",
       "      <th>17661</th>\n",
       "      <td>a0e9c3e3-1c7c-11ec-a8b9-16262ee38c7f</td>\n",
       "      <td>DRUG_TYPE_5 DRUG_TYPE_5 DRUG_TYPE_7 SYMPTOM_TY...</td>\n",
       "      <td>[2015-09-16T00:00:00.000000000, 2015-11-13T00:...</td>\n",
       "      <td>[2019-10-31T00:00:00.000000000, 2019-12-12T00:...</td>\n",
       "    </tr>\n",
       "    <tr>\n",
       "      <th>17662</th>\n",
       "      <td>a0e9c414-1c7c-11ec-889a-16262ee38c7f</td>\n",
       "      <td>DRUG_TYPE_9 DRUG_TYPE_7 DRUG_TYPE_7 SYMPTOM_TY...</td>\n",
       "      <td>[2015-05-01T00:00:00.000000000, 2015-05-01T00:...</td>\n",
       "      <td>[2018-04-05T00:00:00.000000000, 2018-06-24T00:...</td>\n",
       "    </tr>\n",
       "    <tr>\n",
       "      <th>17663</th>\n",
       "      <td>a0e9c443-1c7c-11ec-9eb0-16262ee38c7f</td>\n",
       "      <td>DRUG_TYPE_8 DRUG_TYPE_7 SYMPTOM_TYPE_0 DRUG_TY...</td>\n",
       "      <td>[2015-04-16T00:00:00.000000000, 2015-09-11T00:...</td>\n",
       "      <td>[2019-09-10T00:00:00.000000000, 2019-10-10T00:...</td>\n",
       "    </tr>\n",
       "  </tbody>\n",
       "</table>\n",
       "</div>"
      ],
      "text/plain": [
       "                                Patient-Uid  \\\n",
       "17659  a0e9c384-1c7c-11ec-81a0-16262ee38c7f   \n",
       "17660  a0e9c3b3-1c7c-11ec-ae8e-16262ee38c7f   \n",
       "17661  a0e9c3e3-1c7c-11ec-a8b9-16262ee38c7f   \n",
       "17662  a0e9c414-1c7c-11ec-889a-16262ee38c7f   \n",
       "17663  a0e9c443-1c7c-11ec-9eb0-16262ee38c7f   \n",
       "\n",
       "                                                Incident  \\\n",
       "17659  DRUG_TYPE_7 TEST_TYPE_0 DRUG_TYPE_0 DRUG_TYPE_...   \n",
       "17660  PRIMARY_DIAGNOSIS DRUG_TYPE_2 DRUG_TYPE_2 PRIM...   \n",
       "17661  DRUG_TYPE_5 DRUG_TYPE_5 DRUG_TYPE_7 SYMPTOM_TY...   \n",
       "17662  DRUG_TYPE_9 DRUG_TYPE_7 DRUG_TYPE_7 SYMPTOM_TY...   \n",
       "17663  DRUG_TYPE_8 DRUG_TYPE_7 SYMPTOM_TYPE_0 DRUG_TY...   \n",
       "\n",
       "                                           Date_sequence  \\\n",
       "17659  [2015-04-14T00:00:00.000000000, 2015-09-07T00:...   \n",
       "17660  [2015-04-16T00:00:00.000000000, 2015-04-23T00:...   \n",
       "17661  [2015-09-16T00:00:00.000000000, 2015-11-13T00:...   \n",
       "17662  [2015-05-01T00:00:00.000000000, 2015-05-01T00:...   \n",
       "17663  [2015-04-16T00:00:00.000000000, 2015-09-11T00:...   \n",
       "\n",
       "                                  target_drug_used_dates  \n",
       "17659  [2020-07-08T00:00:00.000000000, 2020-08-05T00:...  \n",
       "17660  [2018-04-24T00:00:00.000000000, 2018-05-17T00:...  \n",
       "17661  [2019-10-31T00:00:00.000000000, 2019-12-12T00:...  \n",
       "17662  [2018-04-05T00:00:00.000000000, 2018-06-24T00:...  \n",
       "17663  [2019-09-10T00:00:00.000000000, 2019-10-10T00:...  "
      ]
     },
     "execution_count": 62,
     "metadata": {},
     "output_type": "execute_result"
    }
   ],
   "source": [
    "filtered_df['target_drug_used_dates']=target_drug_used_dates\n",
    "filtered_df.head()"
   ]
  },
  {
   "cell_type": "markdown",
   "metadata": {},
   "source": [
    "### PART-1 Computing the drop-off rates "
   ]
  },
  {
   "cell_type": "markdown",
   "metadata": {},
   "source": [
    "As it is given that the ideal duration for the TARGET_DRUG is 1 year, we can see when did the patient start using it and when did the patient stop using it. Then we can check if the duration is an year.\n",
    "* If the duration is not 1 year, then we can treat it as dropoff case and record the stoppage date for further analysis. "
   ]
  },
  {
   "cell_type": "code",
   "execution_count": 64,
   "metadata": {},
   "outputs": [
    {
     "name": "stderr",
     "output_type": "stream",
     "text": [
      "100%|██████████| 9374/9374 [00:00<00:00, 67741.33it/s]\n"
     ]
    },
    {
     "data": {
      "text/plain": [
       "{'2020-07': 269,\n",
       " '2019-10': 325,\n",
       " '2019-09': 230,\n",
       " '2020-02': 225,\n",
       " '2020-06': 258,\n",
       " '2018-12': 133,\n",
       " '2019-03': 110,\n",
       " '2018-08': 167,\n",
       " '2019-01': 141,\n",
       " '2018-05': 185,\n",
       " '2020-04': 293,\n",
       " '2019-05': 190,\n",
       " '2018-06': 187,\n",
       " '2019-02': 107,\n",
       " '2018-11': 128,\n",
       " '2019-11': 252,\n",
       " '2018-10': 142,\n",
       " '2018-03': 183,\n",
       " '2019-07': 167,\n",
       " '2019-12': 279,\n",
       " '2019-04': 148,\n",
       " '2019-06': 163,\n",
       " '2020-01': 254,\n",
       " '2020-03': 233,\n",
       " '2020-05': 256,\n",
       " '2018-09': 131,\n",
       " '2017-12': 4,\n",
       " '2018-07': 155,\n",
       " '2018-04': 215,\n",
       " '2017-10': 4,\n",
       " '2019-08': 239,\n",
       " '2018-01': 5,\n",
       " '2018-02': 6,\n",
       " '2017-11': 1,\n",
       " '2017-08': 2}"
      ]
     },
     "execution_count": 64,
     "metadata": {},
     "output_type": "execute_result"
    }
   ],
   "source": [
    "import numpy as np\n",
    "\n",
    "#Here we are storing the number of patients dropping of each month with the help of a dictionary\n",
    "counts_per_month={}\n",
    "\n",
    "#We are also collecting the list of patients who stopped using target_drug \n",
    "list_of_dropoff_patients=[]\n",
    "\n",
    "#Loop through the target_drug usage dates of each patient\n",
    "for i,L in enumerate(tqdm(target_drug_used_dates)):\n",
    "\n",
    "    #Now check the difference in dates of first usage and last usage if it is < 365, then it is the case of droppoff\n",
    "    if int((L[-1]-L[0])/ np.timedelta64(1, 'D')) < 365:\n",
    "        list_of_dropoff_patients.append(i)\n",
    "        if np.datetime_as_string(L[0], unit='M') not in counts_per_month:\n",
    "            counts_per_month[np.datetime_as_string(L[0], unit='M')]=1\n",
    "        else:\n",
    "            counts_per_month[np.datetime_as_string(L[0], unit='M')]+=1\n",
    "\n",
    "counts_per_month\n"
   ]
  },
  {
   "cell_type": "markdown",
   "metadata": {},
   "source": [
    "### Plot the dropoff rates per each month"
   ]
  },
  {
   "cell_type": "code",
   "execution_count": 65,
   "metadata": {},
   "outputs": [
    {
     "data": {
      "image/png": "[encoded data removed]",
      "text/plain": [
       "<Figure size 900x400 with 1 Axes>"
      ]
     },
     "metadata": {},
     "output_type": "display_data"
    }
   ],
   "source": [
    "import matplotlib.pyplot as plt\n",
    "\n",
    "#Sort the keys in order, so that we have the x-axis as the timeline\n",
    "keys_list = sorted(list(counts_per_month.keys()))\n",
    "#also get the coreesponding values\n",
    "values_list= [counts_per_month[key] for key in keys_list]\n",
    "\n",
    "#Plot in the format of a bar graph\n",
    "plt.figure(figsize=(9,4))\n",
    "plt.bar(keys_list,values_list)\n",
    "plt.title(\"Dropoff rates per month\")\n",
    "plt.xlabel('Months -->')\n",
    "plt.ylabel('number of patients dropping off --> ')\n",
    "plt.xticks(rotation=90)\n",
    "plt.show()"
   ]
  },
  {
   "cell_type": "markdown",
   "metadata": {},
   "source": [
    "### PART-2 Gaining insight on which events are leading to drop off"
   ]
  },
  {
   "cell_type": "markdown",
   "metadata": {},
   "source": [
    "For analysing what events are leading to patients stopping the target_drug, we need to get the list of symptoms on the dates before the date of stoppage of the target drug for the patients who are stopping it.\n",
    "\n",
    "* We already got the dropoff patients list from the above, lets check the events before the drop-off dates.\n",
    "* Let us take an average span of 3 incidents that happened before the last incident of target_drug taken by the patient. "
   ]
  },
  {
   "cell_type": "code",
   "execution_count": 66,
   "metadata": {},
   "outputs": [
    {
     "name": "stderr",
     "output_type": "stream",
     "text": [
      "100%|██████████| 5787/5787 [00:04<00:00, 1228.36it/s]\n"
     ]
    }
   ],
   "source": [
    "#Store the events in the form of a dictionary with the counts of how many times they led to drop-off\n",
    "events_dictionary={}\n",
    "\n",
    "#iterate through the drop-off patients \n",
    "for position in tqdm(list_of_dropoff_patients):\n",
    "\n",
    "    #get all the data regarding the drop-off patient wrt to the index\n",
    "    row=filtered_df.iloc[position]\n",
    "\n",
    "    #get all the incidents list of the patient first, then we can go through this list to find the events before dropoff\n",
    "    all_incidents = row['Incident'].split()\n",
    "    \n",
    "    #This index stores the index of the date where the target_drug was taken last\n",
    "    stopping_index=0\n",
    "\n",
    "    #iterate through the dates and check if the last target_drug usage date matches any, if yes then note down its index \n",
    "    for i,current_date in enumerate(row['Date_sequence']):\n",
    "        if current_date == row['target_drug_used_dates'][-1]:\n",
    "            stopping_index =i\n",
    "            break\n",
    "    \n",
    "    count=0 #This is for keeping track of the number of events noted down before the stoppage\n",
    "    iter_index=stopping_index-1 #This is for getting the index of those events which lead to stoppage of the target_drug\n",
    "    \n",
    "    #use a while loop since we do not want to record the if the target drug itself was the event which doesnot make sense.\n",
    "    while count < 3:\n",
    "        #check if the previous incident is a target_drug, if yes then skip to the incident before it\n",
    "        if all_incidents[iter_index] != 'TARGET_DRUG':\n",
    "            #add the event to the dictionary if it is not present, else add to the counts of it\n",
    "            if all_incidents[iter_index] not in events_dictionary:\n",
    "                events_dictionary[all_incidents[iter_index]]=1\n",
    "            else:\n",
    "                events_dictionary[all_incidents[iter_index]]+=1\n",
    "            count+=1\n",
    "        \n",
    "        #now to avoid error incase anny event is not found we stop searching\n",
    "        if iter_index==0:\n",
    "            break\n",
    "        else:\n",
    "            iter_index-=1"
   ]
  },
  {
   "cell_type": "markdown",
   "metadata": {},
   "source": [
    "### These are events which happened before the patient stopped using the target_drug"
   ]
  },
  {
   "cell_type": "code",
   "execution_count": 67,
   "metadata": {},
   "outputs": [
    {
     "data": {
      "text/plain": [
       "{'PRIMARY_DIAGNOSIS': 4097,\n",
       " 'DRUG_TYPE_11': 211,\n",
       " 'DRUG_TYPE_1': 2073,\n",
       " 'DRUG_TYPE_3': 908,\n",
       " 'DRUG_TYPE_2': 1583,\n",
       " 'DRUG_TYPE_7': 1191,\n",
       " 'DRUG_TYPE_0': 1720,\n",
       " 'TEST_TYPE_3': 75,\n",
       " 'SYMPTOM_TYPE_0': 177,\n",
       " 'DRUG_TYPE_8': 470,\n",
       " 'DRUG_TYPE_9': 356,\n",
       " 'DRUG_TYPE_6': 2427,\n",
       " 'TEST_TYPE_1': 516,\n",
       " 'SYMPTOM_TYPE_4': 12,\n",
       " 'SYMPTOM_TYPE_9': 30,\n",
       " 'DRUG_TYPE_5': 212,\n",
       " 'DRUG_TYPE_10': 444,\n",
       " 'SYMPTOM_TYPE_2': 47,\n",
       " 'DRUG_TYPE_13': 77,\n",
       " 'SYMPTOM_TYPE_15': 33,\n",
       " 'TEST_TYPE_2': 45,\n",
       " 'SYMPTOM_TYPE_17': 10,\n",
       " 'SYMPTOM_TYPE_29': 20,\n",
       " 'SYMPTOM_TYPE_10': 23,\n",
       " 'DRUG_TYPE_15': 50,\n",
       " 'DRUG_TYPE_14': 91,\n",
       " 'SYMPTOM_TYPE_6': 92,\n",
       " 'DRUG_TYPE_12': 42,\n",
       " 'TEST_TYPE_4': 2,\n",
       " 'TEST_TYPE_0': 58,\n",
       " 'SYMPTOM_TYPE_7': 92,\n",
       " 'SYMPTOM_TYPE_16': 16,\n",
       " 'SYMPTOM_TYPE_1': 41,\n",
       " 'DRUG_TYPE_16': 6,\n",
       " 'SYMPTOM_TYPE_12': 13,\n",
       " 'SYMPTOM_TYPE_5': 28,\n",
       " 'SYMPTOM_TYPE_3': 9,\n",
       " 'SYMPTOM_TYPE_8': 19,\n",
       " 'SYMPTOM_TYPE_14': 13,\n",
       " 'SYMPTOM_TYPE_13': 13,\n",
       " 'SYMPTOM_TYPE_11': 5,\n",
       " 'SYMPTOM_TYPE_18': 2,\n",
       " 'SYMPTOM_TYPE_22': 4,\n",
       " 'DRUG_TYPE_4': 2,\n",
       " 'SYMPTOM_TYPE_19': 1,\n",
       " 'DRUG_TYPE_17': 4,\n",
       " 'SYMPTOM_TYPE_23': 1}"
      ]
     },
     "execution_count": 67,
     "metadata": {},
     "output_type": "execute_result"
    }
   ],
   "source": [
    "events_dictionary"
   ]
  },
  {
   "cell_type": "markdown",
   "metadata": {},
   "source": [
    "### Sort the events according to the frequency of occurance, like how many times each lead to the stoppage of the target_drug "
   ]
  },
  {
   "cell_type": "markdown",
   "metadata": {},
   "source": [
    "#### 1st seperate the keys and values, because we cannot sort the dictionary wrt to the values directly"
   ]
  },
  {
   "cell_type": "code",
   "execution_count": 68,
   "metadata": {},
   "outputs": [
    {
     "name": "stdout",
     "output_type": "stream",
     "text": [
      "['PRIMARY_DIAGNOSIS', 'DRUG_TYPE_11', 'DRUG_TYPE_1', 'DRUG_TYPE_3', 'DRUG_TYPE_2', 'DRUG_TYPE_7', 'DRUG_TYPE_0', 'TEST_TYPE_3', 'SYMPTOM_TYPE_0', 'DRUG_TYPE_8', 'DRUG_TYPE_9', 'DRUG_TYPE_6', 'TEST_TYPE_1', 'SYMPTOM_TYPE_4', 'SYMPTOM_TYPE_9', 'DRUG_TYPE_5', 'DRUG_TYPE_10', 'SYMPTOM_TYPE_2', 'DRUG_TYPE_13', 'SYMPTOM_TYPE_15', 'TEST_TYPE_2', 'SYMPTOM_TYPE_17', 'SYMPTOM_TYPE_29', 'SYMPTOM_TYPE_10', 'DRUG_TYPE_15', 'DRUG_TYPE_14', 'SYMPTOM_TYPE_6', 'DRUG_TYPE_12', 'TEST_TYPE_4', 'TEST_TYPE_0', 'SYMPTOM_TYPE_7', 'SYMPTOM_TYPE_16', 'SYMPTOM_TYPE_1', 'DRUG_TYPE_16', 'SYMPTOM_TYPE_12', 'SYMPTOM_TYPE_5', 'SYMPTOM_TYPE_3', 'SYMPTOM_TYPE_8', 'SYMPTOM_TYPE_14', 'SYMPTOM_TYPE_13', 'SYMPTOM_TYPE_11', 'SYMPTOM_TYPE_18', 'SYMPTOM_TYPE_22', 'DRUG_TYPE_4', 'SYMPTOM_TYPE_19', 'DRUG_TYPE_17', 'SYMPTOM_TYPE_23']\n",
      "[4097, 211, 2073, 908, 1583, 1191, 1720, 75, 177, 470, 356, 2427, 516, 12, 30, 212, 444, 47, 77, 33, 45, 10, 20, 23, 50, 91, 92, 42, 2, 58, 92, 16, 41, 6, 13, 28, 9, 19, 13, 13, 5, 2, 4, 2, 1, 4, 1]\n"
     ]
    }
   ],
   "source": [
    "keys_1=[]\n",
    "values_1=[]\n",
    "for k,v in events_dictionary.items():\n",
    "    keys_1.append(k)\n",
    "    values_1.append(v)\n",
    "\n",
    "print(keys_1)\n",
    "print(values_1)"
   ]
  },
  {
   "cell_type": "markdown",
   "metadata": {},
   "source": [
    "#### Apply the sorting on the values list, and also sort the keys list, so that mapping is not lost"
   ]
  },
  {
   "cell_type": "code",
   "execution_count": 69,
   "metadata": {},
   "outputs": [],
   "source": [
    "def bubble_sort(arr,arr_1):\n",
    "    n = len(arr)\n",
    "\n",
    "    # Traverse through all array elements\n",
    "    for i in range(n):\n",
    "        # Last i elements are already in place, so no need to compare them again\n",
    "        for j in range(0, n - i - 1):\n",
    "            # Swap if the element found is greater than the next element\n",
    "            if arr[j] > arr[j + 1]:\n",
    "                arr[j], arr[j + 1] = arr[j + 1], arr[j] \n",
    "                arr_1[j], arr_1[j + 1] = arr_1[j + 1], arr_1[j] \n",
    "\n",
    "bubble_sort(values_1,keys_1)"
   ]
  },
  {
   "cell_type": "markdown",
   "metadata": {},
   "source": [
    "### Plot the events according to their frequency of occurance before the stoppage of the target_drug"
   ]
  },
  {
   "cell_type": "code",
   "execution_count": 70,
   "metadata": {},
   "outputs": [
    {
     "data": {
      "image/png": "[encoded data removed]",
      "text/plain": [
       "<Figure size 1000x400 with 1 Axes>"
      ]
     },
     "metadata": {},
     "output_type": "display_data"
    }
   ],
   "source": [
    "import matplotlib.pyplot as plt\n",
    "\n",
    "plt.figure(figsize=(10,4))\n",
    "plt.bar(keys_1,values_1)\n",
    "plt.title(\"Dropoff rate frequencies for events\")\n",
    "plt.xlabel('Events leading to dropoff -->')\n",
    "plt.ylabel('number of times this lead to patients dropoff --> ')\n",
    "plt.xticks(rotation=90)\n",
    "plt.show()"
   ]
  }
 ],
 "metadata": {
  "kernelspec": {
   "display_name": "base",
   "language": "python",
   "name": "python3"
  },
  "language_info": {
   "codemirror_mode": {
    "name": "ipython",
    "version": 3
   },
   "file_extension": ".py",
   "mimetype": "text/x-python",
   "name": "python",
   "nbconvert_exporter": "python",
   "pygments_lexer": "ipython3",
   "version": "3.10.9"
  },
  "orig_nbformat": 4
 },
 "nbformat": 4,
 "nbformat_minor": 2
}
