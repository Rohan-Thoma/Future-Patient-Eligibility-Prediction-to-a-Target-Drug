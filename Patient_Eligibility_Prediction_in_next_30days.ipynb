{
 "cells": [
  {
   "cell_type": "markdown",
   "metadata": {},
   "source": [
    "# Predicting the patient's eligibility to a given target drug 30 days in advance \n",
    "\n",
    "Data Description -\n",
    "The folder shared with you contains following four files\n",
    "1) Train.parquet - Dataset to be used for training\n",
    "2) Test.parquet - Dataset to be used for testing\n",
    "3) Sample_submission.csv - a sample csv file showing how the output should be\n",
    "4) Final_submission.csv - csv file to be submitted finally after generating the output\n",
    "\n",
    "### Brief Description of the Dataset -\n",
    "The dataset in question contains a comprehensive collection of electronic\n",
    "health records belonging to patients who have been diagnosed with a specific\n",
    "disease. These health records comprise a detailed log of every aspect of the\n",
    "patients' medical history, including all diagnoses, symptoms, prescribed drug\n",
    "treatments, and medical tests that they have undergone. Each row represents a\n",
    "healthcare record/medical event for a patient and it includes a timestamp for each\n",
    "entry/event, thereby allowing for a chronological view of the patient's medical history\n",
    "The Data has mainly three columns\n",
    "1) Patient-Uid - Unique Alphanumeric Identifier for a patient\n",
    "2) Date - Date when patient encountered the event.\n",
    "3) Incident - This columns describes which event occurred on the day."
   ]
  },
  {
   "cell_type": "code",
   "execution_count": 2,
   "metadata": {},
   "outputs": [
    {
     "data": {
      "text/html": [
       "<div>\n",
       "<style scoped>\n",
       "    .dataframe tbody tr th:only-of-type {\n",
       "        vertical-align: middle;\n",
       "    }\n",
       "\n",
       "    .dataframe tbody tr th {\n",
       "        vertical-align: top;\n",
       "    }\n",
       "\n",
       "    .dataframe thead th {\n",
       "        text-align: right;\n",
       "    }\n",
       "</style>\n",
       "<table border=\"1\" class=\"dataframe\">\n",
       "  <thead>\n",
       "    <tr style=\"text-align: right;\">\n",
       "      <th></th>\n",
       "      <th>Patient-Uid</th>\n",
       "      <th>Date</th>\n",
       "      <th>Incident</th>\n",
       "    </tr>\n",
       "  </thead>\n",
       "  <tbody>\n",
       "    <tr>\n",
       "      <th>0</th>\n",
       "      <td>a0db1e73-1c7c-11ec-ae39-16262ee38c7f</td>\n",
       "      <td>2019-03-09</td>\n",
       "      <td>PRIMARY_DIAGNOSIS</td>\n",
       "    </tr>\n",
       "    <tr>\n",
       "      <th>1</th>\n",
       "      <td>a0dc93f2-1c7c-11ec-9cd2-16262ee38c7f</td>\n",
       "      <td>2015-05-16</td>\n",
       "      <td>PRIMARY_DIAGNOSIS</td>\n",
       "    </tr>\n",
       "    <tr>\n",
       "      <th>3</th>\n",
       "      <td>a0dc94c6-1c7c-11ec-a3a0-16262ee38c7f</td>\n",
       "      <td>2018-01-30</td>\n",
       "      <td>SYMPTOM_TYPE_0</td>\n",
       "    </tr>\n",
       "    <tr>\n",
       "      <th>4</th>\n",
       "      <td>a0dc950b-1c7c-11ec-b6ec-16262ee38c7f</td>\n",
       "      <td>2015-04-22</td>\n",
       "      <td>DRUG_TYPE_0</td>\n",
       "    </tr>\n",
       "    <tr>\n",
       "      <th>8</th>\n",
       "      <td>a0dc9543-1c7c-11ec-bb63-16262ee38c7f</td>\n",
       "      <td>2016-06-18</td>\n",
       "      <td>DRUG_TYPE_1</td>\n",
       "    </tr>\n",
       "  </tbody>\n",
       "</table>\n",
       "</div>"
      ],
      "text/plain": [
       "                            Patient-Uid       Date           Incident\n",
       "0  a0db1e73-1c7c-11ec-ae39-16262ee38c7f 2019-03-09  PRIMARY_DIAGNOSIS\n",
       "1  a0dc93f2-1c7c-11ec-9cd2-16262ee38c7f 2015-05-16  PRIMARY_DIAGNOSIS\n",
       "3  a0dc94c6-1c7c-11ec-a3a0-16262ee38c7f 2018-01-30     SYMPTOM_TYPE_0\n",
       "4  a0dc950b-1c7c-11ec-b6ec-16262ee38c7f 2015-04-22        DRUG_TYPE_0\n",
       "8  a0dc9543-1c7c-11ec-bb63-16262ee38c7f 2016-06-18        DRUG_TYPE_1"
      ]
     },
     "execution_count": 2,
     "metadata": {},
     "output_type": "execute_result"
    }
   ],
   "source": [
    "import pandas as pd\n",
    "\n",
    "train_data = pd.read_parquet(\"Structured_Data_Assignment/train.parquet\")\n",
    "train_data.head()"
   ]
  },
  {
   "cell_type": "markdown",
   "metadata": {},
   "source": [
    "Above Table represents a patient journey for patient a0db1e73-1c7c-11ec-ae39-16262ee38c7f\n",
    "This patient took drug of type 7 on 2015-09-2022, then the patient had a symptom of type 2 on\n",
    "2018-04-13, and then again the patient took drug of type 7 on 2018-05-02 and so on"
   ]
  },
  {
   "cell_type": "code",
   "execution_count": 3,
   "metadata": {},
   "outputs": [
    {
     "data": {
      "text/plain": [
       "(3220868, 3)"
      ]
     },
     "execution_count": 3,
     "metadata": {},
     "output_type": "execute_result"
    }
   ],
   "source": [
    "train_data.shape"
   ]
  },
  {
   "cell_type": "code",
   "execution_count": 4,
   "metadata": {},
   "outputs": [
    {
     "data": {
      "text/plain": [
       "(27033,)"
      ]
     },
     "execution_count": 4,
     "metadata": {},
     "output_type": "execute_result"
    }
   ],
   "source": [
    "counts = train_data['Patient-Uid'].value_counts()\n",
    "counts.shape"
   ]
  },
  {
   "cell_type": "markdown",
   "metadata": {},
   "source": [
    "There are total 27K unique patients present in train.parquet\n",
    "Similar to drug_type_7, there is also drug called ‘Target Drug”, this drug is of interest for the\n",
    "assignment, there are total 9K patients in train.parquet who have taken “Target Drug” atleast\n",
    "once."
   ]
  },
  {
   "cell_type": "code",
   "execution_count": 5,
   "metadata": {},
   "outputs": [
    {
     "data": {
      "text/plain": [
       "(57,)"
      ]
     },
     "execution_count": 5,
     "metadata": {},
     "output_type": "execute_result"
    }
   ],
   "source": [
    "counts = train_data['Incident'].value_counts()\n",
    "counts.shape"
   ]
  },
  {
   "cell_type": "code",
   "execution_count": 6,
   "metadata": {},
   "outputs": [
    {
     "name": "stdout",
     "output_type": "stream",
     "text": [
      "Index(['DRUG_TYPE_6', 'DRUG_TYPE_1', 'PRIMARY_DIAGNOSIS', 'DRUG_TYPE_0',\n",
      "       'DRUG_TYPE_7', 'DRUG_TYPE_2', 'DRUG_TYPE_8', 'DRUG_TYPE_3',\n",
      "       'TEST_TYPE_1', 'TARGET DRUG', 'DRUG_TYPE_9', 'DRUG_TYPE_5',\n",
      "       'DRUG_TYPE_11', 'SYMPTOM_TYPE_0', 'SYMPTOM_TYPE_6', 'TEST_TYPE_0',\n",
      "       'SYMPTOM_TYPE_7', 'DRUG_TYPE_10', 'DRUG_TYPE_14', 'DRUG_TYPE_13',\n",
      "       'DRUG_TYPE_12', 'SYMPTOM_TYPE_14', 'SYMPTOM_TYPE_1', 'SYMPTOM_TYPE_2',\n",
      "       'TEST_TYPE_3', 'SYMPTOM_TYPE_5', 'SYMPTOM_TYPE_8', 'TEST_TYPE_2',\n",
      "       'SYMPTOM_TYPE_15', 'SYMPTOM_TYPE_10', 'SYMPTOM_TYPE_29',\n",
      "       'SYMPTOM_TYPE_16', 'DRUG_TYPE_15', 'SYMPTOM_TYPE_9', 'DRUG_TYPE_4',\n",
      "       'SYMPTOM_TYPE_4', 'SYMPTOM_TYPE_3', 'SYMPTOM_TYPE_12',\n",
      "       'SYMPTOM_TYPE_11', 'SYMPTOM_TYPE_17', 'SYMPTOM_TYPE_13', 'DRUG_TYPE_16',\n",
      "       'TEST_TYPE_4', 'SYMPTOM_TYPE_18', 'SYMPTOM_TYPE_21', 'SYMPTOM_TYPE_22',\n",
      "       'SYMPTOM_TYPE_19', 'DRUG_TYPE_17', 'TEST_TYPE_5', 'SYMPTOM_TYPE_24',\n",
      "       'SYMPTOM_TYPE_26', 'SYMPTOM_TYPE_23', 'SYMPTOM_TYPE_20',\n",
      "       'SYMPTOM_TYPE_27', 'SYMPTOM_TYPE_25', 'SYMPTOM_TYPE_28',\n",
      "       'DRUG_TYPE_18'],\n",
      "      dtype='object')\n"
     ]
    }
   ],
   "source": [
    "train_indexes= counts.index\n",
    "print(train_indexes)"
   ]
  },
  {
   "cell_type": "code",
   "execution_count": 7,
   "metadata": {},
   "outputs": [
    {
     "data": {
      "text/html": [
       "<div>\n",
       "<style scoped>\n",
       "    .dataframe tbody tr th:only-of-type {\n",
       "        vertical-align: middle;\n",
       "    }\n",
       "\n",
       "    .dataframe tbody tr th {\n",
       "        vertical-align: top;\n",
       "    }\n",
       "\n",
       "    .dataframe thead th {\n",
       "        text-align: right;\n",
       "    }\n",
       "</style>\n",
       "<table border=\"1\" class=\"dataframe\">\n",
       "  <thead>\n",
       "    <tr style=\"text-align: right;\">\n",
       "      <th></th>\n",
       "      <th>Patient-Uid</th>\n",
       "      <th>Date</th>\n",
       "      <th>Incident</th>\n",
       "    </tr>\n",
       "  </thead>\n",
       "  <tbody>\n",
       "    <tr>\n",
       "      <th>0</th>\n",
       "      <td>a0f9e8a9-1c7c-11ec-8d25-16262ee38c7f</td>\n",
       "      <td>2016-12-08</td>\n",
       "      <td>SYMPTOM_TYPE_0</td>\n",
       "    </tr>\n",
       "    <tr>\n",
       "      <th>1</th>\n",
       "      <td>a0f9e8a9-1c7c-11ec-8d25-16262ee38c7f</td>\n",
       "      <td>2018-10-17</td>\n",
       "      <td>DRUG_TYPE_0</td>\n",
       "    </tr>\n",
       "    <tr>\n",
       "      <th>2</th>\n",
       "      <td>a0f9e8a9-1c7c-11ec-8d25-16262ee38c7f</td>\n",
       "      <td>2017-12-01</td>\n",
       "      <td>DRUG_TYPE_2</td>\n",
       "    </tr>\n",
       "    <tr>\n",
       "      <th>3</th>\n",
       "      <td>a0f9e8a9-1c7c-11ec-8d25-16262ee38c7f</td>\n",
       "      <td>2018-12-05</td>\n",
       "      <td>DRUG_TYPE_1</td>\n",
       "    </tr>\n",
       "    <tr>\n",
       "      <th>4</th>\n",
       "      <td>a0f9e8a9-1c7c-11ec-8d25-16262ee38c7f</td>\n",
       "      <td>2017-11-04</td>\n",
       "      <td>SYMPTOM_TYPE_0</td>\n",
       "    </tr>\n",
       "  </tbody>\n",
       "</table>\n",
       "</div>"
      ],
      "text/plain": [
       "                            Patient-Uid       Date        Incident\n",
       "0  a0f9e8a9-1c7c-11ec-8d25-16262ee38c7f 2016-12-08  SYMPTOM_TYPE_0\n",
       "1  a0f9e8a9-1c7c-11ec-8d25-16262ee38c7f 2018-10-17     DRUG_TYPE_0\n",
       "2  a0f9e8a9-1c7c-11ec-8d25-16262ee38c7f 2017-12-01     DRUG_TYPE_2\n",
       "3  a0f9e8a9-1c7c-11ec-8d25-16262ee38c7f 2018-12-05     DRUG_TYPE_1\n",
       "4  a0f9e8a9-1c7c-11ec-8d25-16262ee38c7f 2017-11-04  SYMPTOM_TYPE_0"
      ]
     },
     "execution_count": 7,
     "metadata": {},
     "output_type": "execute_result"
    }
   ],
   "source": [
    "test_data = pd.read_parquet(\"Structured_Data_Assignment/test.parquet\")\n",
    "test_data.head()"
   ]
  },
  {
   "cell_type": "code",
   "execution_count": 8,
   "metadata": {},
   "outputs": [
    {
     "data": {
      "text/plain": [
       "(11482,)"
      ]
     },
     "execution_count": 8,
     "metadata": {},
     "output_type": "execute_result"
    }
   ],
   "source": [
    "counts = test_data['Patient-Uid'].value_counts()\n",
    "counts.shape"
   ]
  },
  {
   "cell_type": "code",
   "execution_count": 9,
   "metadata": {},
   "outputs": [
    {
     "data": {
      "text/plain": [
       "(55,)"
      ]
     },
     "execution_count": 9,
     "metadata": {},
     "output_type": "execute_result"
    }
   ],
   "source": [
    "counts = test_data['Incident'].value_counts()\n",
    "counts.shape"
   ]
  },
  {
   "cell_type": "code",
   "execution_count": 10,
   "metadata": {},
   "outputs": [
    {
     "name": "stdout",
     "output_type": "stream",
     "text": [
      "Index(['DRUG_TYPE_6', 'DRUG_TYPE_1', 'PRIMARY_DIAGNOSIS', 'DRUG_TYPE_7',\n",
      "       'DRUG_TYPE_0', 'DRUG_TYPE_2', 'DRUG_TYPE_8', 'DRUG_TYPE_3',\n",
      "       'TEST_TYPE_1', 'DRUG_TYPE_9', 'DRUG_TYPE_5', 'DRUG_TYPE_11',\n",
      "       'SYMPTOM_TYPE_0', 'SYMPTOM_TYPE_6', 'TEST_TYPE_0', 'SYMPTOM_TYPE_7',\n",
      "       'SYMPTOM_TYPE_5', 'DRUG_TYPE_14', 'DRUG_TYPE_10', 'DRUG_TYPE_13',\n",
      "       'SYMPTOM_TYPE_1', 'DRUG_TYPE_12', 'SYMPTOM_TYPE_2', 'TEST_TYPE_3',\n",
      "       'SYMPTOM_TYPE_8', 'TEST_TYPE_2', 'SYMPTOM_TYPE_14', 'DRUG_TYPE_4',\n",
      "       'SYMPTOM_TYPE_15', 'SYMPTOM_TYPE_10', 'SYMPTOM_TYPE_29',\n",
      "       'SYMPTOM_TYPE_9', 'SYMPTOM_TYPE_16', 'DRUG_TYPE_15', 'SYMPTOM_TYPE_4',\n",
      "       'SYMPTOM_TYPE_3', 'SYMPTOM_TYPE_12', 'SYMPTOM_TYPE_11',\n",
      "       'SYMPTOM_TYPE_17', 'SYMPTOM_TYPE_13', 'DRUG_TYPE_16', 'TEST_TYPE_4',\n",
      "       'SYMPTOM_TYPE_18', 'SYMPTOM_TYPE_22', 'SYMPTOM_TYPE_21',\n",
      "       'SYMPTOM_TYPE_19', 'SYMPTOM_TYPE_24', 'TEST_TYPE_5', 'SYMPTOM_TYPE_20',\n",
      "       'SYMPTOM_TYPE_23', 'SYMPTOM_TYPE_26', 'SYMPTOM_TYPE_28', 'DRUG_TYPE_17',\n",
      "       'SYMPTOM_TYPE_27', 'SYMPTOM_TYPE_25'],\n",
      "      dtype='object')\n"
     ]
    }
   ],
   "source": [
    "test_indexes= counts.index\n",
    "print(test_indexes)"
   ]
  },
  {
   "cell_type": "markdown",
   "metadata": {},
   "source": [
    "Lets check if there are drugs in the train data different from test data and vice versa"
   ]
  },
  {
   "cell_type": "code",
   "execution_count": 11,
   "metadata": {},
   "outputs": [
    {
     "name": "stdout",
     "output_type": "stream",
     "text": [
      "{'DRUG_TYPE_18', 'TARGET DRUG'}\n"
     ]
    }
   ],
   "source": [
    "print(set(train_indexes)-set(test_indexes))"
   ]
  },
  {
   "cell_type": "code",
   "execution_count": 12,
   "metadata": {},
   "outputs": [
    {
     "name": "stdout",
     "output_type": "stream",
     "text": [
      "set()\n"
     ]
    }
   ],
   "source": [
    "print(set(test_indexes)-set(train_indexes))"
   ]
  },
  {
   "cell_type": "markdown",
   "metadata": {},
   "source": [
    "So here we can see that there are no extra new drugs in the test data which are not present in the train data which is good thing."
   ]
  },
  {
   "cell_type": "markdown",
   "metadata": {},
   "source": [
    "### Lets bring all the data for each of the patients in a single row as they are distributed across the whole dataset."
   ]
  },
  {
   "cell_type": "code",
   "execution_count": 13,
   "metadata": {},
   "outputs": [
    {
     "data": {
      "text/html": [
       "<div>\n",
       "<style scoped>\n",
       "    .dataframe tbody tr th:only-of-type {\n",
       "        vertical-align: middle;\n",
       "    }\n",
       "\n",
       "    .dataframe tbody tr th {\n",
       "        vertical-align: top;\n",
       "    }\n",
       "\n",
       "    .dataframe thead th {\n",
       "        text-align: right;\n",
       "    }\n",
       "</style>\n",
       "<table border=\"1\" class=\"dataframe\">\n",
       "  <thead>\n",
       "    <tr style=\"text-align: right;\">\n",
       "      <th></th>\n",
       "      <th>Patient-Uid</th>\n",
       "      <th>Incident_text</th>\n",
       "      <th>Class_Label</th>\n",
       "    </tr>\n",
       "  </thead>\n",
       "  <tbody>\n",
       "    <tr>\n",
       "      <th>0</th>\n",
       "      <td>a0db1e73-1c7c-11ec-ae39-16262ee38c7f</td>\n",
       "      <td>DRUG_TYPE_7 SYMPTOM_TYPE_2 DRUG_TYPE_7 SYMPTOM...</td>\n",
       "      <td>0</td>\n",
       "    </tr>\n",
       "    <tr>\n",
       "      <th>1</th>\n",
       "      <td>a0dc93f2-1c7c-11ec-9cd2-16262ee38c7f</td>\n",
       "      <td>DRUG_TYPE_0 DRUG_TYPE_2 DRUG_TYPE_0 PRIMARY_DI...</td>\n",
       "      <td>0</td>\n",
       "    </tr>\n",
       "    <tr>\n",
       "      <th>2</th>\n",
       "      <td>a0dc94c6-1c7c-11ec-a3a0-16262ee38c7f</td>\n",
       "      <td>DRUG_TYPE_0 PRIMARY_DIAGNOSIS DRUG_TYPE_7 DRUG...</td>\n",
       "      <td>0</td>\n",
       "    </tr>\n",
       "    <tr>\n",
       "      <th>3</th>\n",
       "      <td>a0dc950b-1c7c-11ec-b6ec-16262ee38c7f</td>\n",
       "      <td>DRUG_TYPE_0 DRUG_TYPE_7 DRUG_TYPE_2 PRIMARY_DI...</td>\n",
       "      <td>0</td>\n",
       "    </tr>\n",
       "    <tr>\n",
       "      <th>4</th>\n",
       "      <td>a0dc9543-1c7c-11ec-bb63-16262ee38c7f</td>\n",
       "      <td>DRUG_TYPE_1 TEST_TYPE_1 SYMPTOM_TYPE_8 DRUG_TY...</td>\n",
       "      <td>0</td>\n",
       "    </tr>\n",
       "  </tbody>\n",
       "</table>\n",
       "</div>"
      ],
      "text/plain": [
       "                            Patient-Uid  \\\n",
       "0  a0db1e73-1c7c-11ec-ae39-16262ee38c7f   \n",
       "1  a0dc93f2-1c7c-11ec-9cd2-16262ee38c7f   \n",
       "2  a0dc94c6-1c7c-11ec-a3a0-16262ee38c7f   \n",
       "3  a0dc950b-1c7c-11ec-b6ec-16262ee38c7f   \n",
       "4  a0dc9543-1c7c-11ec-bb63-16262ee38c7f   \n",
       "\n",
       "                                       Incident_text  Class_Label  \n",
       "0  DRUG_TYPE_7 SYMPTOM_TYPE_2 DRUG_TYPE_7 SYMPTOM...            0  \n",
       "1  DRUG_TYPE_0 DRUG_TYPE_2 DRUG_TYPE_0 PRIMARY_DI...            0  \n",
       "2  DRUG_TYPE_0 PRIMARY_DIAGNOSIS DRUG_TYPE_7 DRUG...            0  \n",
       "3  DRUG_TYPE_0 DRUG_TYPE_7 DRUG_TYPE_2 PRIMARY_DI...            0  \n",
       "4  DRUG_TYPE_1 TEST_TYPE_1 SYMPTOM_TYPE_8 DRUG_TY...            0  "
      ]
     },
     "execution_count": 13,
     "metadata": {},
     "output_type": "execute_result"
    }
   ],
   "source": [
    "# Converting the 'Date' column to datetime\n",
    "train_data['Date'] = pd.to_datetime(train_data['Date'])\n",
    "\n",
    "# Sorting the DataFrame by 'patient_id' and 'Date'\n",
    "train_data.sort_values(by=['Patient-Uid', 'Date'], inplace=True)\n",
    "\n",
    "#There is space in the name which will create problems in the future sow e replace it with '_'\n",
    "train_data['Incident'] = train_data['Incident'].replace('TARGET DRUG', 'TARGET_DRUG')\n",
    "\n",
    "# Grouping by 'patient_id' and aggregating 'Incident' column\n",
    "grouped = train_data.groupby('Patient-Uid')['Incident'].apply(lambda x: ' '.join(x)).reset_index()\n",
    "\n",
    "# Renaming the aggregated column\n",
    "grouped.rename(columns={'Incident': 'Incident_text'}, inplace=True)\n",
    "\n",
    "# Creating a new column 'Class_Label' based on 'Incident' values\n",
    "grouped['Class_Label'] = grouped['Incident_text'].apply(lambda x: 1 if 'TARGET_DRUG' in x.split() else 0)\n",
    "\n",
    "grouped.head()"
   ]
  },
  {
   "cell_type": "markdown",
   "metadata": {},
   "source": [
    "# Problem Statement\n",
    " The development of drugs is critical in providing therapeutic options\n",
    "for patients suffering from chronic and terminal illnesses. “Target Drug”, in particular,\n",
    "is designed to enhance the patient's health and well-being without causing\n",
    "dependence on other medications that could potentially lead to severe and\n",
    "life-threatening side effects. These drugs are specifically tailored to treat a particular\n",
    "disease or condition, offering a more focused and effective approach to treatment,\n",
    "while minimising the risk of harmful reactions.\n",
    "The objective is to develop a predictive model which will predict\n",
    "whether a patient will be eligible*** for “Target Drug” or not in next 30 days. Knowing\n",
    "if the patient is eligible or not will help physician treating the patient make informed\n",
    "decision on the which treatments to give.\n",
    "*** - It is given that a patient is considered eligible for a particular drug when they have taken their\n",
    "first prescription for that drug.\n"
   ]
  },
  {
   "cell_type": "markdown",
   "metadata": {},
   "source": [
    "### Analysis for the 30 days"
   ]
  },
  {
   "cell_type": "markdown",
   "metadata": {},
   "source": [
    "* Here it is said that some patients have taken the target drug, hence they are classified as the positive class. Now , we need to predict before 30 days whether the patient is eleigible for that drug or not.\n",
    "* For that to happen, we have to mask the record ( remove ) the records for the patients who have taken that \"target_drug\", after taking the drug, because we need the data only up to the time 30 days before taking the target_drug, so that we can effectively train our model to predict it will be taken without actually knowing that the patient has taken the drug directly."
   ]
  },
  {
   "cell_type": "code",
   "execution_count": 14,
   "metadata": {},
   "outputs": [
    {
     "data": {
      "text/html": [
       "<div>\n",
       "<style scoped>\n",
       "    .dataframe tbody tr th:only-of-type {\n",
       "        vertical-align: middle;\n",
       "    }\n",
       "\n",
       "    .dataframe tbody tr th {\n",
       "        vertical-align: top;\n",
       "    }\n",
       "\n",
       "    .dataframe thead th {\n",
       "        text-align: right;\n",
       "    }\n",
       "</style>\n",
       "<table border=\"1\" class=\"dataframe\">\n",
       "  <thead>\n",
       "    <tr style=\"text-align: right;\">\n",
       "      <th></th>\n",
       "      <th>Patient-Uid</th>\n",
       "      <th>Date</th>\n",
       "      <th>Incident</th>\n",
       "    </tr>\n",
       "  </thead>\n",
       "  <tbody>\n",
       "    <tr>\n",
       "      <th>1750087</th>\n",
       "      <td>a0db1e73-1c7c-11ec-ae39-16262ee38c7f</td>\n",
       "      <td>2015-09-22</td>\n",
       "      <td>DRUG_TYPE_7</td>\n",
       "    </tr>\n",
       "    <tr>\n",
       "      <th>1473893</th>\n",
       "      <td>a0db1e73-1c7c-11ec-ae39-16262ee38c7f</td>\n",
       "      <td>2018-04-13</td>\n",
       "      <td>SYMPTOM_TYPE_2</td>\n",
       "    </tr>\n",
       "    <tr>\n",
       "      <th>1387922</th>\n",
       "      <td>a0db1e73-1c7c-11ec-ae39-16262ee38c7f</td>\n",
       "      <td>2018-05-02</td>\n",
       "      <td>DRUG_TYPE_7</td>\n",
       "    </tr>\n",
       "    <tr>\n",
       "      <th>223191</th>\n",
       "      <td>a0db1e73-1c7c-11ec-ae39-16262ee38c7f</td>\n",
       "      <td>2018-11-23</td>\n",
       "      <td>SYMPTOM_TYPE_0</td>\n",
       "    </tr>\n",
       "    <tr>\n",
       "      <th>557302</th>\n",
       "      <td>a0db1e73-1c7c-11ec-ae39-16262ee38c7f</td>\n",
       "      <td>2018-11-23</td>\n",
       "      <td>DRUG_TYPE_9</td>\n",
       "    </tr>\n",
       "    <tr>\n",
       "      <th>...</th>\n",
       "      <td>...</td>\n",
       "      <td>...</td>\n",
       "      <td>...</td>\n",
       "    </tr>\n",
       "    <tr>\n",
       "      <th>19365046</th>\n",
       "      <td>a0f0d582-1c7c-11ec-a6c1-16262ee38c7f</td>\n",
       "      <td>2015-04-21</td>\n",
       "      <td>DRUG_TYPE_6</td>\n",
       "    </tr>\n",
       "    <tr>\n",
       "      <th>19365755</th>\n",
       "      <td>a0f0d582-1c7c-11ec-a6c1-16262ee38c7f</td>\n",
       "      <td>2015-06-26</td>\n",
       "      <td>DRUG_TYPE_1</td>\n",
       "    </tr>\n",
       "    <tr>\n",
       "      <th>20630372</th>\n",
       "      <td>a0f0d582-1c7c-11ec-a6c1-16262ee38c7f</td>\n",
       "      <td>2015-07-16</td>\n",
       "      <td>DRUG_TYPE_6</td>\n",
       "    </tr>\n",
       "    <tr>\n",
       "      <th>22527539</th>\n",
       "      <td>a0f0d582-1c7c-11ec-a6c1-16262ee38c7f</td>\n",
       "      <td>2015-07-16</td>\n",
       "      <td>DRUG_TYPE_5</td>\n",
       "    </tr>\n",
       "    <tr>\n",
       "      <th>13222187</th>\n",
       "      <td>a0f0d582-1c7c-11ec-a6c1-16262ee38c7f</td>\n",
       "      <td>2015-08-06</td>\n",
       "      <td>TEST_TYPE_1</td>\n",
       "    </tr>\n",
       "  </tbody>\n",
       "</table>\n",
       "<p>135165 rows × 3 columns</p>\n",
       "</div>"
      ],
      "text/plain": [
       "                                   Patient-Uid       Date        Incident\n",
       "1750087   a0db1e73-1c7c-11ec-ae39-16262ee38c7f 2015-09-22     DRUG_TYPE_7\n",
       "1473893   a0db1e73-1c7c-11ec-ae39-16262ee38c7f 2018-04-13  SYMPTOM_TYPE_2\n",
       "1387922   a0db1e73-1c7c-11ec-ae39-16262ee38c7f 2018-05-02     DRUG_TYPE_7\n",
       "223191    a0db1e73-1c7c-11ec-ae39-16262ee38c7f 2018-11-23  SYMPTOM_TYPE_0\n",
       "557302    a0db1e73-1c7c-11ec-ae39-16262ee38c7f 2018-11-23     DRUG_TYPE_9\n",
       "...                                        ...        ...             ...\n",
       "19365046  a0f0d582-1c7c-11ec-a6c1-16262ee38c7f 2015-04-21     DRUG_TYPE_6\n",
       "19365755  a0f0d582-1c7c-11ec-a6c1-16262ee38c7f 2015-06-26     DRUG_TYPE_1\n",
       "20630372  a0f0d582-1c7c-11ec-a6c1-16262ee38c7f 2015-07-16     DRUG_TYPE_6\n",
       "22527539  a0f0d582-1c7c-11ec-a6c1-16262ee38c7f 2015-07-16     DRUG_TYPE_5\n",
       "13222187  a0f0d582-1c7c-11ec-a6c1-16262ee38c7f 2015-08-06     TEST_TYPE_1\n",
       "\n",
       "[135165 rows x 3 columns]"
      ]
     },
     "execution_count": 14,
     "metadata": {},
     "output_type": "execute_result"
    }
   ],
   "source": [
    "grouped_patient = train_data.groupby(\"Patient-Uid\")\n",
    "grouped_patient.head()"
   ]
  },
  {
   "cell_type": "markdown",
   "metadata": {},
   "source": [
    "Lets check the dates of the patients records and remove those till 30 days before taking the \"TARGET_DRUG\".\n",
    "\n",
    "* This is done for the positive class patients only and not for the negative class patients\n",
    "\n",
    "Procedure:\n",
    "1. Here we are iterating throught the dates of the patient records and checking if he has taken the \"TARGET_DRUG\".\n",
    "2. If they have taken it , note down the index of the date( or drug ) taken before 30 days of the date of the \"TARGET_DRUG\".\n",
    "3. Now all these position indexes are stored in the list called \"cutoff_index_list\"\n",
    "4. During the analysis we have encountered a patient, who has takent the \"TARGET_DRUG\" before 30 days itself like with in 6 days of the joining the clinic or atleast when the records are started on their name.\n",
    "5. Finally we also note down those patients-id also to remove them. As their data is of no use and are trated as outliers."
   ]
  },
  {
   "cell_type": "code",
   "execution_count": 15,
   "metadata": {},
   "outputs": [
    {
     "name": "stdout",
     "output_type": "stream",
     "text": [
      "patients who are administered TARGET_DRUG : 9374\n",
      "patients who are administered TARGET_DRUG within 30 days of given records itself : 1\n"
     ]
    }
   ],
   "source": [
    "\n",
    "count=0 #This is to keep track of the patients who have taken the TARGET_DRUG\n",
    "\n",
    "#List to store the index position of the day till we take the history since the beginning of the patient's tenure\n",
    "cutoff_index_list=[]\n",
    "\n",
    "#This is to keep track of the indexes of the patients who have taken the 'drug'\n",
    "index_of_target=[]\n",
    "\n",
    "#This is to keep track of the outlier patients\n",
    "count_2=0\n",
    "\n",
    "#The patient id's of the outlier patients are stored here\n",
    "index_of_immediate_patients=[]\n",
    "\n",
    "#start iterating thorugh the dataset patient wise.\n",
    "for group_name, group_data in grouped_patient:\n",
    "\n",
    "    #start iterating through the history of each patient\n",
    "    for i in range(len(group_data)):\n",
    "\n",
    "        #catch those patients who have taken the drug\n",
    "        if group_data[\"Incident\"].iloc[i]==\"TARGET_DRUG\":\n",
    "            index_of_target.append(i) #store their index \n",
    "            count+=1\n",
    "            temp = i #This variable keep track of the date before 30 days of the drug taken\n",
    "\n",
    "            #Now if the date just before target_drug is within 30 days , check the date before it till we go 1 month in the past\n",
    "            while (group_data[\"Date\"].iloc[i]-group_data[\"Date\"].iloc[temp-1]).days < 30:\n",
    "                temp-=1 #accordigly keep track how much we are going back\n",
    "\n",
    "                #Some times we reach the beginning of the records where index =0, and the record of the patient is started and that too within the month\n",
    "                #This is the outlier, so we note down the index of that patient\n",
    "                if temp==0:\n",
    "                    count_2+=1\n",
    "                    index_of_immediate_patients.append(group_name)\n",
    "                    break\n",
    "            #Store the value of index position for the date in this list\n",
    "            cutoff_index_list.append(temp)\n",
    "            break\n",
    "        #Here this takes care of the indexes for all the patients without worring about the positive and negative etc.\n",
    "        #Because all the dates are preserved for the negative patients without cutting off.\n",
    "        if i == len(group_data)-1: # this will be executed if the above condition is not triggered which means for negative patients only.\n",
    "            #make the cutoff index for them as the length of the whole history so that it wont be cutoff at all.\n",
    "            cutoff_index_list.append(len(group_data))\n",
    "\n",
    "#finnaly print some useful findings\n",
    "print(\"patients who are administered TARGET_DRUG :\", count)\n",
    "\n",
    "print(\"patients who are administered TARGET_DRUG within 30 days of given records itself :\", count_2)"
   ]
  },
  {
   "cell_type": "markdown",
   "metadata": {},
   "source": [
    "There is one patient whose data won't be that useful because the data is such that he came to the hosspital with the disease itself, so that's why TARGET_DRUG is given to him within a month (30days), since we want the data before 30 days , this patient's information is not that useful, so we will remove that patient from the record to train. Treating him/her as OUTLIER."
   ]
  },
  {
   "cell_type": "code",
   "execution_count": 16,
   "metadata": {},
   "outputs": [
    {
     "data": {
      "text/plain": [
       "['a0ee64e1-1c7c-11ec-becd-16262ee38c7f']"
      ]
     },
     "execution_count": 16,
     "metadata": {},
     "output_type": "execute_result"
    }
   ],
   "source": [
    "#This is the OUTLIER patient index that we have found out\n",
    "index_of_immediate_patients"
   ]
  },
  {
   "cell_type": "code",
   "execution_count": 17,
   "metadata": {},
   "outputs": [
    {
     "name": "stdout",
     "output_type": "stream",
     "text": [
      "Number of patients :  27033\n"
     ]
    }
   ],
   "source": [
    "print(\"Number of patients : \",grouped_patient.ngroups)"
   ]
  },
  {
   "cell_type": "code",
   "execution_count": 18,
   "metadata": {},
   "outputs": [
    {
     "data": {
      "text/html": [
       "<div>\n",
       "<style scoped>\n",
       "    .dataframe tbody tr th:only-of-type {\n",
       "        vertical-align: middle;\n",
       "    }\n",
       "\n",
       "    .dataframe tbody tr th {\n",
       "        vertical-align: top;\n",
       "    }\n",
       "\n",
       "    .dataframe thead th {\n",
       "        text-align: right;\n",
       "    }\n",
       "</style>\n",
       "<table border=\"1\" class=\"dataframe\">\n",
       "  <thead>\n",
       "    <tr style=\"text-align: right;\">\n",
       "      <th></th>\n",
       "      <th>Patient-Uid</th>\n",
       "      <th>Incident_text</th>\n",
       "      <th>Class_Label</th>\n",
       "      <th>cutoff_indices</th>\n",
       "    </tr>\n",
       "  </thead>\n",
       "  <tbody>\n",
       "    <tr>\n",
       "      <th>0</th>\n",
       "      <td>a0db1e73-1c7c-11ec-ae39-16262ee38c7f</td>\n",
       "      <td>DRUG_TYPE_7 SYMPTOM_TYPE_2 DRUG_TYPE_7 SYMPTOM...</td>\n",
       "      <td>0</td>\n",
       "      <td>96</td>\n",
       "    </tr>\n",
       "    <tr>\n",
       "      <th>1</th>\n",
       "      <td>a0dc93f2-1c7c-11ec-9cd2-16262ee38c7f</td>\n",
       "      <td>DRUG_TYPE_0 DRUG_TYPE_2 DRUG_TYPE_0 PRIMARY_DI...</td>\n",
       "      <td>0</td>\n",
       "      <td>109</td>\n",
       "    </tr>\n",
       "    <tr>\n",
       "      <th>2</th>\n",
       "      <td>a0dc94c6-1c7c-11ec-a3a0-16262ee38c7f</td>\n",
       "      <td>DRUG_TYPE_0 PRIMARY_DIAGNOSIS DRUG_TYPE_7 DRUG...</td>\n",
       "      <td>0</td>\n",
       "      <td>98</td>\n",
       "    </tr>\n",
       "    <tr>\n",
       "      <th>3</th>\n",
       "      <td>a0dc950b-1c7c-11ec-b6ec-16262ee38c7f</td>\n",
       "      <td>DRUG_TYPE_0 DRUG_TYPE_7 DRUG_TYPE_2 PRIMARY_DI...</td>\n",
       "      <td>0</td>\n",
       "      <td>109</td>\n",
       "    </tr>\n",
       "    <tr>\n",
       "      <th>4</th>\n",
       "      <td>a0dc9543-1c7c-11ec-bb63-16262ee38c7f</td>\n",
       "      <td>DRUG_TYPE_1 TEST_TYPE_1 SYMPTOM_TYPE_8 DRUG_TY...</td>\n",
       "      <td>0</td>\n",
       "      <td>244</td>\n",
       "    </tr>\n",
       "  </tbody>\n",
       "</table>\n",
       "</div>"
      ],
      "text/plain": [
       "                            Patient-Uid  \\\n",
       "0  a0db1e73-1c7c-11ec-ae39-16262ee38c7f   \n",
       "1  a0dc93f2-1c7c-11ec-9cd2-16262ee38c7f   \n",
       "2  a0dc94c6-1c7c-11ec-a3a0-16262ee38c7f   \n",
       "3  a0dc950b-1c7c-11ec-b6ec-16262ee38c7f   \n",
       "4  a0dc9543-1c7c-11ec-bb63-16262ee38c7f   \n",
       "\n",
       "                                       Incident_text  Class_Label  \\\n",
       "0  DRUG_TYPE_7 SYMPTOM_TYPE_2 DRUG_TYPE_7 SYMPTOM...            0   \n",
       "1  DRUG_TYPE_0 DRUG_TYPE_2 DRUG_TYPE_0 PRIMARY_DI...            0   \n",
       "2  DRUG_TYPE_0 PRIMARY_DIAGNOSIS DRUG_TYPE_7 DRUG...            0   \n",
       "3  DRUG_TYPE_0 DRUG_TYPE_7 DRUG_TYPE_2 PRIMARY_DI...            0   \n",
       "4  DRUG_TYPE_1 TEST_TYPE_1 SYMPTOM_TYPE_8 DRUG_TY...            0   \n",
       "\n",
       "   cutoff_indices  \n",
       "0              96  \n",
       "1             109  \n",
       "2              98  \n",
       "3             109  \n",
       "4             244  "
      ]
     },
     "execution_count": 18,
     "metadata": {},
     "output_type": "execute_result"
    }
   ],
   "source": [
    "#Add this index information to the dataset for further analysis\n",
    "grouped['cutoff_indices']=cutoff_index_list\n",
    "grouped.head()"
   ]
  },
  {
   "cell_type": "code",
   "execution_count": 19,
   "metadata": {},
   "outputs": [
    {
     "data": {
      "text/plain": [
       "(27033, 4)"
      ]
     },
     "execution_count": 19,
     "metadata": {},
     "output_type": "execute_result"
    }
   ],
   "source": [
    "grouped.shape"
   ]
  },
  {
   "cell_type": "markdown",
   "metadata": {},
   "source": [
    "This is the number of patients after removal of the outlier"
   ]
  },
  {
   "cell_type": "code",
   "execution_count": 20,
   "metadata": {},
   "outputs": [
    {
     "data": {
      "text/plain": [
       "(27032, 4)"
      ]
     },
     "execution_count": 20,
     "metadata": {},
     "output_type": "execute_result"
    }
   ],
   "source": [
    "grouped=grouped[grouped['Patient-Uid']!=index_of_immediate_patients[0]]\n",
    "grouped.shape"
   ]
  },
  {
   "cell_type": "markdown",
   "metadata": {},
   "source": [
    "### Now remove the history after the target_drug administration with the code below."
   ]
  },
  {
   "cell_type": "code",
   "execution_count": 21,
   "metadata": {},
   "outputs": [
    {
     "name": "stderr",
     "output_type": "stream",
     "text": [
      "C:\\Users\\dragon\\AppData\\Local\\Temp\\ipykernel_16964\\863178322.py:11: FutureWarning: Not prepending group keys to the result index of transform-like apply. In the future, the group keys will be included in the index, regardless of whether the applied function returns a like-indexed object.\n",
      "To preserve the previous behavior, use\n",
      "\n",
      "\t>>> .groupby(..., group_keys=False)\n",
      "\n",
      "To adopt the future behavior and silence this warning, use \n",
      "\n",
      "\t>>> .groupby(..., group_keys=True)\n",
      "  updated_groups = grouped.apply(process_text)\n"
     ]
    },
    {
     "data": {
      "text/html": [
       "<div>\n",
       "<style scoped>\n",
       "    .dataframe tbody tr th:only-of-type {\n",
       "        vertical-align: middle;\n",
       "    }\n",
       "\n",
       "    .dataframe tbody tr th {\n",
       "        vertical-align: top;\n",
       "    }\n",
       "\n",
       "    .dataframe thead th {\n",
       "        text-align: right;\n",
       "    }\n",
       "</style>\n",
       "<table border=\"1\" class=\"dataframe\">\n",
       "  <thead>\n",
       "    <tr style=\"text-align: right;\">\n",
       "      <th></th>\n",
       "      <th>Patient-Uid</th>\n",
       "      <th>Incident_text</th>\n",
       "      <th>Class_Label</th>\n",
       "      <th>cutoff_indices</th>\n",
       "      <th>text_column</th>\n",
       "    </tr>\n",
       "  </thead>\n",
       "  <tbody>\n",
       "    <tr>\n",
       "      <th>0</th>\n",
       "      <td>a0db1e73-1c7c-11ec-ae39-16262ee38c7f</td>\n",
       "      <td>DRUG_TYPE_7 SYMPTOM_TYPE_2 DRUG_TYPE_7 SYMPTOM...</td>\n",
       "      <td>0</td>\n",
       "      <td>96</td>\n",
       "      <td>DRUG_TYPE_7 SYMPTOM_TYPE_2 DRUG_TYPE_7 SYMPTOM...</td>\n",
       "    </tr>\n",
       "    <tr>\n",
       "      <th>1</th>\n",
       "      <td>a0dc93f2-1c7c-11ec-9cd2-16262ee38c7f</td>\n",
       "      <td>DRUG_TYPE_0 DRUG_TYPE_2 DRUG_TYPE_0 PRIMARY_DI...</td>\n",
       "      <td>0</td>\n",
       "      <td>109</td>\n",
       "      <td>DRUG_TYPE_0 DRUG_TYPE_2 DRUG_TYPE_0 PRIMARY_DI...</td>\n",
       "    </tr>\n",
       "    <tr>\n",
       "      <th>2</th>\n",
       "      <td>a0dc94c6-1c7c-11ec-a3a0-16262ee38c7f</td>\n",
       "      <td>DRUG_TYPE_0 PRIMARY_DIAGNOSIS DRUG_TYPE_7 DRUG...</td>\n",
       "      <td>0</td>\n",
       "      <td>98</td>\n",
       "      <td>DRUG_TYPE_0 PRIMARY_DIAGNOSIS DRUG_TYPE_7 DRUG...</td>\n",
       "    </tr>\n",
       "    <tr>\n",
       "      <th>3</th>\n",
       "      <td>a0dc950b-1c7c-11ec-b6ec-16262ee38c7f</td>\n",
       "      <td>DRUG_TYPE_0 DRUG_TYPE_7 DRUG_TYPE_2 PRIMARY_DI...</td>\n",
       "      <td>0</td>\n",
       "      <td>109</td>\n",
       "      <td>DRUG_TYPE_0 DRUG_TYPE_7 DRUG_TYPE_2 PRIMARY_DI...</td>\n",
       "    </tr>\n",
       "    <tr>\n",
       "      <th>4</th>\n",
       "      <td>a0dc9543-1c7c-11ec-bb63-16262ee38c7f</td>\n",
       "      <td>DRUG_TYPE_1 TEST_TYPE_1 SYMPTOM_TYPE_8 DRUG_TY...</td>\n",
       "      <td>0</td>\n",
       "      <td>244</td>\n",
       "      <td>DRUG_TYPE_1 TEST_TYPE_1 SYMPTOM_TYPE_8 DRUG_TY...</td>\n",
       "    </tr>\n",
       "    <tr>\n",
       "      <th>...</th>\n",
       "      <td>...</td>\n",
       "      <td>...</td>\n",
       "      <td>...</td>\n",
       "      <td>...</td>\n",
       "      <td>...</td>\n",
       "    </tr>\n",
       "    <tr>\n",
       "      <th>27028</th>\n",
       "      <td>a0f0d4c5-1c7c-11ec-bfec-16262ee38c7f</td>\n",
       "      <td>DRUG_TYPE_6 DRUG_TYPE_0 DRUG_TYPE_6 DRUG_TYPE_...</td>\n",
       "      <td>1</td>\n",
       "      <td>82</td>\n",
       "      <td>DRUG_TYPE_6 DRUG_TYPE_0 DRUG_TYPE_6 DRUG_TYPE_...</td>\n",
       "    </tr>\n",
       "    <tr>\n",
       "      <th>27029</th>\n",
       "      <td>a0f0d4f4-1c7c-11ec-b144-16262ee38c7f</td>\n",
       "      <td>DRUG_TYPE_6 DRUG_TYPE_8 DRUG_TYPE_1 DRUG_TYPE_...</td>\n",
       "      <td>1</td>\n",
       "      <td>82</td>\n",
       "      <td>DRUG_TYPE_6 DRUG_TYPE_8 DRUG_TYPE_1 DRUG_TYPE_...</td>\n",
       "    </tr>\n",
       "    <tr>\n",
       "      <th>27030</th>\n",
       "      <td>a0f0d523-1c7c-11ec-89d2-16262ee38c7f</td>\n",
       "      <td>DRUG_TYPE_6 DRUG_TYPE_1 DRUG_TYPE_9 DRUG_TYPE_...</td>\n",
       "      <td>1</td>\n",
       "      <td>107</td>\n",
       "      <td>DRUG_TYPE_6 DRUG_TYPE_1 DRUG_TYPE_9 DRUG_TYPE_...</td>\n",
       "    </tr>\n",
       "    <tr>\n",
       "      <th>27031</th>\n",
       "      <td>a0f0d553-1c7c-11ec-a70a-16262ee38c7f</td>\n",
       "      <td>DRUG_TYPE_9 SYMPTOM_TYPE_7 DRUG_TYPE_2 DRUG_TY...</td>\n",
       "      <td>1</td>\n",
       "      <td>120</td>\n",
       "      <td>DRUG_TYPE_9 SYMPTOM_TYPE_7 DRUG_TYPE_2 DRUG_TY...</td>\n",
       "    </tr>\n",
       "    <tr>\n",
       "      <th>27032</th>\n",
       "      <td>a0f0d582-1c7c-11ec-a6c1-16262ee38c7f</td>\n",
       "      <td>DRUG_TYPE_6 DRUG_TYPE_1 DRUG_TYPE_6 DRUG_TYPE_...</td>\n",
       "      <td>1</td>\n",
       "      <td>76</td>\n",
       "      <td>DRUG_TYPE_6 DRUG_TYPE_1 DRUG_TYPE_6 DRUG_TYPE_...</td>\n",
       "    </tr>\n",
       "  </tbody>\n",
       "</table>\n",
       "<p>27032 rows × 5 columns</p>\n",
       "</div>"
      ],
      "text/plain": [
       "                                Patient-Uid  \\\n",
       "0      a0db1e73-1c7c-11ec-ae39-16262ee38c7f   \n",
       "1      a0dc93f2-1c7c-11ec-9cd2-16262ee38c7f   \n",
       "2      a0dc94c6-1c7c-11ec-a3a0-16262ee38c7f   \n",
       "3      a0dc950b-1c7c-11ec-b6ec-16262ee38c7f   \n",
       "4      a0dc9543-1c7c-11ec-bb63-16262ee38c7f   \n",
       "...                                     ...   \n",
       "27028  a0f0d4c5-1c7c-11ec-bfec-16262ee38c7f   \n",
       "27029  a0f0d4f4-1c7c-11ec-b144-16262ee38c7f   \n",
       "27030  a0f0d523-1c7c-11ec-89d2-16262ee38c7f   \n",
       "27031  a0f0d553-1c7c-11ec-a70a-16262ee38c7f   \n",
       "27032  a0f0d582-1c7c-11ec-a6c1-16262ee38c7f   \n",
       "\n",
       "                                           Incident_text  Class_Label  \\\n",
       "0      DRUG_TYPE_7 SYMPTOM_TYPE_2 DRUG_TYPE_7 SYMPTOM...            0   \n",
       "1      DRUG_TYPE_0 DRUG_TYPE_2 DRUG_TYPE_0 PRIMARY_DI...            0   \n",
       "2      DRUG_TYPE_0 PRIMARY_DIAGNOSIS DRUG_TYPE_7 DRUG...            0   \n",
       "3      DRUG_TYPE_0 DRUG_TYPE_7 DRUG_TYPE_2 PRIMARY_DI...            0   \n",
       "4      DRUG_TYPE_1 TEST_TYPE_1 SYMPTOM_TYPE_8 DRUG_TY...            0   \n",
       "...                                                  ...          ...   \n",
       "27028  DRUG_TYPE_6 DRUG_TYPE_0 DRUG_TYPE_6 DRUG_TYPE_...            1   \n",
       "27029  DRUG_TYPE_6 DRUG_TYPE_8 DRUG_TYPE_1 DRUG_TYPE_...            1   \n",
       "27030  DRUG_TYPE_6 DRUG_TYPE_1 DRUG_TYPE_9 DRUG_TYPE_...            1   \n",
       "27031  DRUG_TYPE_9 SYMPTOM_TYPE_7 DRUG_TYPE_2 DRUG_TY...            1   \n",
       "27032  DRUG_TYPE_6 DRUG_TYPE_1 DRUG_TYPE_6 DRUG_TYPE_...            1   \n",
       "\n",
       "       cutoff_indices                                        text_column  \n",
       "0                  96  DRUG_TYPE_7 SYMPTOM_TYPE_2 DRUG_TYPE_7 SYMPTOM...  \n",
       "1                 109  DRUG_TYPE_0 DRUG_TYPE_2 DRUG_TYPE_0 PRIMARY_DI...  \n",
       "2                  98  DRUG_TYPE_0 PRIMARY_DIAGNOSIS DRUG_TYPE_7 DRUG...  \n",
       "3                 109  DRUG_TYPE_0 DRUG_TYPE_7 DRUG_TYPE_2 PRIMARY_DI...  \n",
       "4                 244  DRUG_TYPE_1 TEST_TYPE_1 SYMPTOM_TYPE_8 DRUG_TY...  \n",
       "...               ...                                                ...  \n",
       "27028              82  DRUG_TYPE_6 DRUG_TYPE_0 DRUG_TYPE_6 DRUG_TYPE_...  \n",
       "27029              82  DRUG_TYPE_6 DRUG_TYPE_8 DRUG_TYPE_1 DRUG_TYPE_...  \n",
       "27030             107  DRUG_TYPE_6 DRUG_TYPE_1 DRUG_TYPE_9 DRUG_TYPE_...  \n",
       "27031             120  DRUG_TYPE_9 SYMPTOM_TYPE_7 DRUG_TYPE_2 DRUG_TY...  \n",
       "27032              76  DRUG_TYPE_6 DRUG_TYPE_1 DRUG_TYPE_6 DRUG_TYPE_...  \n",
       "\n",
       "[27032 rows x 5 columns]"
      ]
     },
     "execution_count": 21,
     "metadata": {},
     "output_type": "execute_result"
    }
   ],
   "source": [
    "# Grouping the DataFrame by 'group_column'\n",
    "grouped = grouped.groupby('Patient-Uid')\n",
    "\n",
    "# Function to process and update the text\n",
    "# Now we store the updated patient histories in a seperate column named \"text_column\" \n",
    "def process_text(group):\n",
    "    group['text_column'] = group.apply(lambda row: ' '.join(row['Incident_text'].split()[:row['cutoff_indices']]), axis=1)\n",
    "    return group\n",
    "\n",
    "# Apply the function to each group and reassemble\n",
    "updated_groups = grouped.apply(process_text)\n",
    "\n",
    "# Print the updated DataFrame\n",
    "updated_groups"
   ]
  },
  {
   "cell_type": "code",
   "execution_count": 22,
   "metadata": {},
   "outputs": [
    {
     "name": "stdout",
     "output_type": "stream",
     "text": [
      "[PhysicalDevice(name='/physical_device:GPU:0', device_type='GPU')]\n"
     ]
    }
   ],
   "source": [
    "#check if the GPU is ready\n",
    "import tensorflow as tf\n",
    "print(tf.config.list_physical_devices('GPU'))"
   ]
  },
  {
   "cell_type": "markdown",
   "metadata": {},
   "source": [
    "### Train-validation split\n",
    "\n",
    "* Here till now we have no interation between the patients, but we have analysed and featurised independently for each patient.\n",
    "* But now we have to tokenize the history of the patients with the help of tensorflow tokenizer because we are planning to use LSTM , because to find the time based patterns in the history arranged wrt date.\n",
    "* For this type of encoding, we need to split the dataa first and then proceed to avoid data leakage."
   ]
  },
  {
   "cell_type": "code",
   "execution_count": 23,
   "metadata": {},
   "outputs": [],
   "source": [
    "from sklearn.model_selection import train_test_split\n",
    "from sklearn.metrics import f1_score\n",
    "import numpy as np \n",
    "\n",
    "X = np.array(updated_groups['text_column'].tolist())\n",
    "y = np.array(updated_groups['Class_Label'])\n",
    "\n",
    "#Split the data with the equal proportions of +ve and -ve classes in train and test as there is a little imbalance present.\n",
    "X_train, X_val, y_train, y_val = train_test_split(X, y, test_size=0.2, random_state=42, stratify=y)"
   ]
  },
  {
   "cell_type": "code",
   "execution_count": 24,
   "metadata": {},
   "outputs": [
    {
     "name": "stdout",
     "output_type": "stream",
     "text": [
      "[[0, 0, 0, 0, 0, 0, 0, 0, 0, 0, 0, 0, 0, 0, 0, 0, 0, 0, 0, 0, 0, 0, 0, 0, 0, 0, 0, 0, 0, 0, 0, 0, 0, 0, 0, 0, 0, 0, 0, 0, 0, 0, 0, 0, 0, 0, 0, 0, 0, 0, 0, 0, 0, 0, 0, 0, 0, 0, 0, 0, 0, 0, 0, 0, 0, 0, 0, 0, 0, 0, 0, 0, 0, 0, 0, 0, 0, 0, 0, 0, 0, 0, 0, 0, 0, 0, 0, 0, 0, 0, 0, 0, 0, 0, 0, 0, 0, 0, 0, 0, 0, 0, 0, 0, 0, 0, 0, 0, 0, 0, 0, 0, 0, 0, 0, 0, 0, 0, 0, 0, 0, 0, 0, 0, 0, 0, 0, 0, 0, 0, 0, 0, 0, 0, 0, 0, 0, 0, 0, 0, 0, 0, 0, 0, 0, 0, 0, 0, 0, 0, 0, 0, 0, 0, 0, 0, 0, 0, 0, 0, 0, 0, 0, 0, 0, 0, 0, 0, 0, 0, 0, 0, 0, 0, 0, 0, 0, 0, 0, 0, 0, 0, 0, 0, 0, 0, 0, 0, 0, 0, 0, 0, 0, 0, 0, 0, 0, 0, 0, 0, 0, 0, 0, 0, 0, 0, 0, 0, 0, 0, 0, 0, 0, 0, 0, 0, 0, 0, 0, 0, 0, 0, 0, 0, 0, 0, 0, 0, 0, 0, 0, 0, 0, 0, 0, 0, 0, 0, 0, 0, 0, 0, 0, 0, 0, 0, 0, 0, 0, 0, 0, 0, 0, 0, 0, 0, 0, 0, 0, 0, 0, 0, 0, 0, 0, 0, 0, 0, 0, 0, 0, 0, 0, 0, 0, 0, 0, 0, 0, 0, 0, 0, 0, 0, 0, 0, 0, 0, 0, 0, 0, 0, 0, 0, 0, 0, 0, 0, 0, 0, 0, 0, 0, 0, 0, 0, 0, 0, 0, 0, 0, 0, 0, 0, 0, 0, 0, 0, 0, 0, 0, 0, 0, 0, 0, 0, 0, 0, 0, 0, 0, 0, 0, 0, 0, 0, 0, 0, 0, 0, 0, 0, 0, 0, 0, 0, 0, 0, 0, 0, 0, 0, 0, 0, 0, 0, 0, 0, 0, 0, 0, 0, 0, 0, 0, 0, 0, 0, 0, 0, 0, 0, 0, 0, 0, 0, 0, 0, 0, 0, 0, 0, 0, 0, 0, 0, 0, 0, 0, 0, 0, 0, 0, 0, 0, 0, 0, 0, 0, 0, 0, 0, 0, 0, 0, 0, 0, 0, 0, 0, 0, 0, 0, 0, 0, 0, 0, 0, 0, 0, 0, 0, 0, 0, 0, 0, 0, 0, 0, 0, 0, 0, 0, 0, 0, 0, 0, 0, 0, 0, 0, 0, 0, 0, 0, 0, 0, 0, 0, 0, 0, 0, 0, 0, 0, 0, 0, 0, 0, 0, 0, 0, 0, 0, 0, 0, 0, 0, 0, 0, 0, 0, 0, 0, 0, 0, 0, 0, 0, 0, 0, 0, 0, 0, 0, 0, 0, 0, 0, 0, 0, 0, 0, 0, 0, 0, 0, 0, 0, 0, 0, 0, 0, 0, 0, 0, 0, 0, 0, 0, 0, 0, 0, 0, 0, 0, 0, 0, 0, 0, 0, 0, 0, 0, 0, 0, 0, 0, 0, 0, 0, 0, 0, 0, 0, 0, 0, 0, 0, 0, 0, 0, 0, 0, 0, 0, 0, 0, 0, 0, 0, 0, 0, 0, 0, 0, 0, 0, 0, 0, 0, 0, 0, 0, 0, 0, 0, 0, 0, 0, 0, 0, 0, 0, 0, 0, 0, 0, 0, 0, 0, 0, 0, 0, 0, 0, 0, 0, 0, 0, 0, 0, 0, 0, 0, 0, 0, 0, 0, 0, 0, 0, 0, 0, 0, 0, 0, 0, 0, 0, 0, 0, 0, 0, 0, 0, 0, 0, 0, 0, 0, 0, 0, 0, 0, 0, 0, 0, 0, 0, 0, 0, 0, 0, 0, 0, 0, 0, 0, 0, 0, 0, 0, 0, 0, 0, 0, 0, 0, 0, 0, 0, 0, 0, 0, 0, 0, 0, 0, 0, 0, 0, 0, 0, 0, 0, 0, 0, 0, 0, 0, 0, 0, 0, 0, 0, 0, 0, 0, 0, 0, 0, 0, 0, 0, 0, 0, 0, 0, 0, 0, 0, 0, 0, 0, 0, 0, 0, 0, 0, 0, 0, 0, 0, 0, 0, 0, 0, 0, 0, 0, 0, 0, 0, 0, 0, 0, 0, 0, 0, 0, 0, 0, 0, 0, 0, 0, 0, 0, 0, 0, 0, 0, 0, 0, 0, 0, 0, 0, 0, 0, 0, 0, 0, 0, 0, 0, 0, 0, 0, 0, 0, 0, 0, 0, 0, 0, 0, 0, 0, 0, 0, 0, 0, 0, 0, 0, 0, 0, 0, 0, 0, 0, 0, 0, 0, 0, 0, 0, 0, 0, 0, 0, 0, 0, 0, 0, 0, 0, 0, 0, 0, 0, 0, 0, 0, 0, 0, 0, 0, 0, 0, 0, 0, 0, 0, 0, 0, 0, 0, 0, 0, 0, 0, 0, 0, 0, 0, 0, 0, 0, 0, 0, 0, 0, 0, 0, 0, 0, 0, 0, 0, 0, 0, 0, 0, 0, 0, 0, 0, 0, 0, 0, 0, 0, 0, 0, 0, 0, 0, 0, 0, 0, 0, 0, 0, 0, 0, 0, 0, 0, 0, 0, 0, 0, 0, 0, 0, 0, 0, 0, 0, 0, 0, 0, 0, 0, 0, 0, 0, 0, 0, 0, 0, 0, 0, 0, 0, 0, 0, 0, 0, 0, 0, 0, 0, 0, 0, 0, 0, 0, 0, 0, 0, 0, 0, 0, 0, 0, 0, 0, 0, 0, 0, 0, 0, 0, 0, 0, 0, 0, 0, 0, 0, 0, 0, 0, 0, 0, 0, 0, 0, 0, 0, 0, 0, 0, 0, 0, 0, 0, 0, 0, 0, 0, 0, 0, 0, 0, 0, 0, 0, 0, 0, 0, 0, 0, 0, 0, 0, 0, 0, 0, 0, 0, 0, 0, 0, 0, 0, 0, 0, 0, 0, 0, 0, 0, 0, 0, 0, 0, 0, 0, 0, 0, 0, 0, 0, 0, 0, 0, 0, 0, 0, 0, 0, 0, 0, 0, 0, 0, 0, 0, 0, 0, 0, 0, 0, 0, 0, 0, 0, 0, 0, 0, 0, 0, 0, 0, 0, 0, 0, 0, 0, 0, 0, 0, 0, 0, 0, 0, 0, 0, 0, 0, 0, 0, 0, 0, 0, 0, 0, 0, 0, 0, 0, 0, 0, 0, 0, 0, 0, 0, 0, 0, 0, 0, 0, 0, 0, 0, 0, 0, 0, 0, 0, 0, 0, 0, 0, 0, 0, 0, 0, 0, 0, 0, 0, 0, 0, 0, 0, 0, 0, 0, 0, 0, 0, 0, 0, 0, 0, 0, 0, 0, 0, 0, 0, 0, 0, 0, 0, 0, 0, 0, 0, 0, 0, 0, 0, 0, 0, 0, 0, 0, 0, 0, 0, 0, 0, 0, 0, 0, 0, 0, 0, 0, 0, 0, 0, 0, 0, 0, 0, 0, 0, 0, 0, 0, 0, 0, 0, 0, 0, 0, 0, 0, 0, 0, 0, 0, 0, 0, 0, 0, 0, 0, 0, 0, 0, 0, 0, 0, 0, 0, 0, 0, 0, 0, 0, 0, 0, 0, 0, 0, 0, 0, 0, 0, 0, 0, 0, 0, 0, 0, 0, 0, 0, 0, 0, 0, 0, 0, 0, 0, 0, 0, 0, 0, 0, 0, 0, 0, 0, 0, 0, 0, 0, 0, 0, 0, 0, 0, 0, 0, 0, 0, 0, 0, 0, 0, 0, 0, 0, 0, 0, 0, 0, 0, 0, 0, 0, 0, 0, 0, 0, 0, 0, 0, 0, 0, 0, 0, 0, 0, 0, 0, 0, 0, 0, 0, 0, 0, 0, 0, 0, 0, 0, 0, 0, 0, 0, 0, 0, 0, 0, 0, 0, 0, 0, 0, 0, 0, 0, 0, 0, 0, 0, 0, 0, 0, 0, 0, 0, 0, 0, 0, 0, 0, 0, 0, 0, 0, 0, 0, 0, 0, 0, 0, 0, 0, 0, 0, 0, 0, 0, 0, 0, 0, 0, 0, 0, 0, 0, 0, 0, 0, 0, 0, 0, 0, 0, 0, 0, 0, 0, 0, 0, 0, 0, 0, 0, 0, 0, 0, 0, 0, 0, 0, 0, 0, 0, 0, 0, 0, 0, 0, 0, 0, 0, 0, 0, 0, 0, 0, 0, 0, 0, 0, 0, 0, 0, 0, 0, 0, 0, 0, 0, 0, 0, 0, 0, 0, 0, 0, 0, 0, 0, 0, 0, 0, 0, 0, 0, 0, 0, 0, 0, 0, 0, 0, 0, 0, 0, 0, 0, 0, 0, 0, 0, 0, 0, 0, 0, 0, 0, 0, 0, 0, 0, 0, 0, 0, 0, 0, 0, 0, 0, 0, 0, 0, 0, 0, 0, 0, 0, 0, 0, 0, 0, 0, 0, 0, 0, 0, 0, 0, 0, 0, 0, 0, 0, 0, 0, 0, 0, 0, 0, 0, 0, 0, 0, 0, 0, 0, 0, 0, 0, 0, 0, 0, 0, 0, 0, 0, 0, 0, 0, 0, 0, 0, 0, 0, 0, 0, 0, 0, 0, 0, 0, 0, 0, 0, 0, 0, 0, 0, 0, 0, 0, 0, 0, 0, 0, 0, 0, 0, 0, 0, 0, 0, 0, 0, 0, 0, 0, 0, 0, 0, 0, 0, 0, 0, 0, 0, 0, 0, 0, 0, 0, 0, 0, 0, 0, 0, 0, 0, 0, 0, 0, 0, 0, 0, 0, 0, 0, 0, 0, 0, 0, 0, 0, 0, 0, 0, 0, 0, 0, 0, 0, 0, 0, 0, 0, 0, 0, 0, 0, 0, 0, 0, 0, 0, 0, 0, 0, 0, 0, 0, 0, 0, 0, 0, 0, 0, 0, 0, 0, 0, 0, 0, 0, 0, 0, 0, 0, 0, 0, 0, 0, 0, 0, 0, 0, 0, 9, 4, 9, 9, 3, 2, 6, 3, 1, 1, 3, 4, 6, 6, 6, 6, 5, 6, 1, 1, 1, 3, 6, 6, 6, 5, 1, 2, 1, 6, 1, 2, 5, 5, 1, 5, 6, 1, 1, 4, 1, 5, 5, 6, 5, 5, 4, 1, 4, 5], [0, 0, 0, 0, 0, 0, 0, 0, 0, 0, 0, 0, 0, 0, 0, 0, 0, 0, 0, 0, 0, 0, 0, 0, 0, 0, 0, 0, 0, 0, 0, 0, 0, 0, 0, 0, 0, 0, 0, 0, 0, 0, 0, 0, 0, 0, 0, 0, 0, 0, 0, 0, 0, 0, 0, 0, 0, 0, 0, 0, 0, 0, 0, 0, 0, 0, 0, 0, 0, 0, 0, 0, 0, 0, 0, 0, 0, 0, 0, 0, 0, 0, 0, 0, 0, 0, 0, 0, 0, 0, 0, 0, 0, 0, 0, 0, 0, 0, 0, 0, 0, 0, 0, 0, 0, 0, 0, 0, 0, 0, 0, 0, 0, 0, 0, 0, 0, 0, 0, 0, 0, 0, 0, 0, 0, 0, 0, 0, 0, 0, 0, 0, 0, 0, 0, 0, 0, 0, 0, 0, 0, 0, 0, 0, 0, 0, 0, 0, 0, 0, 0, 0, 0, 0, 0, 0, 0, 0, 0, 0, 0, 0, 0, 0, 0, 0, 0, 0, 0, 0, 0, 0, 0, 0, 0, 0, 0, 0, 0, 0, 0, 0, 0, 0, 0, 0, 0, 0, 0, 0, 0, 0, 0, 0, 0, 0, 0, 0, 0, 0, 0, 0, 0, 0, 0, 0, 0, 0, 0, 0, 0, 0, 0, 0, 0, 0, 0, 0, 0, 0, 0, 0, 0, 0, 0, 0, 0, 0, 0, 0, 0, 0, 0, 0, 0, 0, 0, 0, 0, 0, 0, 0, 0, 0, 0, 0, 0, 0, 0, 0, 0, 0, 0, 0, 0, 0, 0, 0, 0, 0, 0, 0, 0, 0, 0, 0, 0, 0, 0, 0, 0, 0, 0, 0, 0, 0, 0, 0, 0, 0, 0, 0, 0, 0, 0, 0, 0, 0, 0, 0, 0, 0, 0, 0, 0, 0, 0, 0, 0, 0, 0, 0, 0, 0, 0, 0, 0, 0, 0, 0, 0, 0, 0, 0, 0, 0, 0, 0, 0, 0, 0, 0, 0, 0, 0, 0, 0, 0, 0, 0, 0, 0, 0, 0, 0, 0, 0, 0, 0, 0, 0, 0, 0, 0, 0, 0, 0, 0, 0, 0, 0, 0, 0, 0, 0, 0, 0, 0, 0, 0, 0, 0, 0, 0, 0, 0, 0, 0, 0, 0, 0, 0, 0, 0, 0, 0, 0, 0, 0, 0, 0, 0, 0, 0, 0, 0, 0, 0, 0, 0, 0, 0, 0, 0, 0, 0, 0, 0, 0, 0, 0, 0, 0, 0, 0, 0, 0, 0, 0, 0, 0, 0, 0, 0, 0, 0, 0, 0, 0, 0, 0, 0, 0, 0, 0, 0, 0, 0, 0, 0, 0, 0, 0, 0, 0, 0, 0, 0, 0, 0, 0, 0, 0, 0, 0, 0, 0, 0, 0, 0, 0, 0, 0, 0, 0, 0, 0, 0, 0, 0, 0, 0, 0, 0, 0, 0, 0, 0, 0, 0, 0, 0, 0, 0, 0, 0, 0, 0, 0, 0, 0, 0, 0, 0, 0, 0, 0, 0, 0, 0, 0, 0, 0, 0, 0, 0, 0, 0, 0, 0, 0, 0, 0, 0, 0, 0, 0, 0, 0, 0, 0, 0, 0, 0, 0, 0, 0, 0, 0, 0, 0, 0, 0, 0, 0, 0, 0, 0, 0, 0, 0, 0, 0, 0, 0, 0, 0, 0, 0, 0, 0, 0, 0, 0, 0, 0, 0, 0, 0, 0, 0, 0, 0, 0, 0, 0, 0, 0, 0, 0, 0, 0, 0, 0, 0, 0, 0, 0, 0, 0, 0, 0, 0, 0, 0, 0, 0, 0, 0, 0, 0, 0, 0, 0, 0, 0, 0, 0, 0, 0, 0, 0, 0, 0, 0, 0, 0, 0, 0, 0, 0, 0, 0, 0, 0, 0, 0, 0, 0, 0, 0, 0, 0, 0, 0, 0, 0, 0, 0, 0, 0, 0, 0, 0, 0, 0, 0, 0, 0, 0, 0, 0, 0, 0, 0, 0, 0, 0, 0, 0, 0, 0, 0, 0, 0, 0, 0, 0, 0, 0, 0, 0, 0, 0, 0, 0, 0, 0, 0, 0, 0, 0, 0, 0, 0, 0, 0, 0, 0, 0, 0, 0, 0, 0, 0, 0, 0, 0, 0, 0, 0, 0, 0, 0, 0, 0, 0, 0, 0, 0, 0, 0, 0, 0, 0, 0, 0, 0, 0, 0, 0, 0, 0, 0, 0, 0, 0, 0, 0, 0, 0, 0, 0, 0, 0, 0, 0, 0, 0, 0, 0, 0, 0, 0, 0, 0, 0, 0, 0, 0, 0, 0, 0, 0, 0, 0, 0, 0, 0, 0, 0, 0, 0, 0, 0, 0, 0, 0, 0, 0, 0, 0, 0, 0, 0, 0, 0, 0, 0, 0, 0, 0, 0, 0, 0, 0, 0, 0, 0, 0, 0, 0, 0, 0, 0, 0, 0, 0, 0, 0, 0, 0, 0, 0, 0, 0, 0, 0, 0, 0, 0, 0, 0, 0, 0, 0, 0, 0, 0, 0, 0, 0, 0, 0, 0, 0, 0, 0, 0, 0, 0, 0, 0, 0, 0, 0, 0, 0, 0, 0, 0, 0, 0, 0, 0, 0, 0, 0, 0, 0, 0, 0, 0, 0, 0, 0, 0, 0, 0, 0, 0, 0, 0, 0, 0, 0, 0, 0, 0, 0, 0, 0, 0, 0, 0, 0, 0, 0, 0, 0, 0, 0, 0, 0, 0, 0, 0, 0, 0, 0, 0, 0, 0, 0, 0, 0, 0, 0, 0, 0, 0, 0, 0, 0, 0, 0, 0, 0, 0, 0, 0, 0, 0, 0, 0, 0, 0, 0, 0, 0, 0, 0, 0, 0, 0, 0, 0, 0, 0, 0, 0, 0, 0, 0, 0, 0, 0, 0, 0, 0, 0, 0, 0, 0, 0, 0, 0, 0, 0, 0, 0, 0, 0, 0, 0, 0, 0, 0, 0, 0, 0, 0, 0, 0, 0, 0, 0, 0, 0, 0, 0, 0, 0, 0, 0, 0, 0, 0, 0, 0, 0, 0, 0, 0, 0, 0, 0, 0, 0, 0, 0, 0, 0, 0, 0, 0, 0, 0, 0, 0, 0, 0, 0, 0, 0, 0, 0, 0, 0, 0, 0, 0, 0, 0, 0, 0, 0, 0, 0, 0, 0, 0, 0, 0, 0, 0, 0, 0, 0, 0, 0, 0, 0, 0, 0, 0, 0, 0, 0, 0, 0, 0, 0, 0, 0, 0, 0, 0, 0, 0, 0, 0, 0, 0, 0, 0, 0, 0, 0, 0, 0, 0, 0, 0, 0, 0, 0, 0, 0, 0, 0, 0, 0, 0, 0, 0, 0, 0, 0, 0, 0, 0, 0, 0, 0, 0, 0, 0, 0, 0, 0, 0, 0, 0, 0, 0, 0, 0, 0, 0, 0, 0, 0, 0, 0, 0, 0, 0, 0, 0, 0, 0, 0, 0, 0, 0, 0, 0, 0, 0, 0, 0, 0, 0, 0, 0, 0, 0, 0, 0, 0, 0, 0, 0, 0, 0, 0, 0, 0, 0, 0, 0, 0, 0, 0, 0, 0, 0, 0, 0, 0, 0, 0, 0, 0, 0, 0, 0, 0, 0, 0, 0, 0, 0, 0, 0, 0, 0, 0, 0, 0, 0, 0, 0, 0, 0, 0, 0, 0, 0, 0, 0, 0, 0, 0, 0, 0, 0, 0, 0, 0, 0, 0, 0, 0, 0, 0, 0, 0, 0, 0, 0, 0, 0, 0, 0, 0, 0, 0, 0, 0, 0, 0, 0, 0, 0, 0, 0, 0, 0, 0, 0, 0, 0, 0, 0, 0, 0, 0, 0, 0, 0, 0, 0, 0, 0, 0, 0, 0, 0, 0, 0, 0, 0, 0, 0, 0, 0, 0, 0, 0, 0, 0, 0, 0, 0, 0, 0, 0, 0, 0, 0, 0, 0, 0, 0, 0, 0, 0, 0, 0, 0, 0, 0, 0, 0, 0, 0, 0, 0, 0, 0, 0, 0, 0, 0, 0, 0, 0, 0, 0, 0, 0, 0, 0, 0, 0, 0, 0, 0, 0, 0, 0, 0, 0, 0, 0, 0, 0, 0, 0, 0, 0, 0, 0, 0, 0, 0, 0, 0, 0, 0, 0, 0, 0, 0, 0, 0, 0, 0, 0, 0, 0, 0, 0, 0, 0, 0, 0, 0, 0, 0, 0, 0, 0, 0, 0, 0, 0, 0, 0, 0, 0, 0, 0, 0, 0, 0, 0, 0, 0, 0, 0, 0, 0, 0, 0, 0, 0, 0, 0, 0, 0, 0, 0, 0, 0, 0, 0, 0, 0, 0, 0, 0, 0, 0, 0, 0, 0, 0, 0, 0, 0, 0, 0, 0, 0, 0, 0, 0, 0, 0, 0, 0, 0, 0, 0, 0, 0, 0, 0, 0, 0, 0, 0, 0, 0, 0, 0, 0, 0, 0, 0, 0, 0, 0, 0, 0, 0, 0, 0, 0, 0, 0, 0, 0, 0, 0, 0, 0, 0, 0, 0, 0, 0, 0, 0, 0, 0, 0, 0, 0, 0, 0, 0, 0, 0, 0, 0, 0, 0, 0, 0, 0, 0, 0, 0, 0, 0, 0, 0, 0, 0, 0, 0, 0, 0, 0, 0, 0, 0, 0, 0, 0, 0, 0, 0, 0, 0, 0, 0, 0, 0, 0, 0, 0, 0, 0, 0, 0, 0, 0, 0, 0, 0, 0, 0, 0, 0, 0, 0, 0, 0, 0, 0, 0, 0, 0, 0, 0, 0, 0, 0, 0, 0, 0, 0, 0, 0, 0, 0, 0, 0, 0, 0, 0, 0, 0, 0, 0, 0, 0, 0, 0, 0, 0, 0, 0, 0, 0, 0, 0, 0, 0, 0, 0, 0, 0, 0, 0, 0, 0, 0, 4, 1, 2, 6, 1, 2, 4, 1, 3, 5, 6, 31, 1, 2, 4, 4, 2, 1, 1, 2, 2, 2, 1, 4, 1, 2, 3, 1, 1, 2, 2, 1, 4, 1, 4, 2, 1, 2, 4, 1, 2, 1, 4, 4, 2, 1, 1, 1, 4, 1, 1, 2, 4, 1, 2, 2, 2, 1, 4, 1, 2, 4, 2, 4, 6, 3, 6, 4, 4, 4, 3, 2, 1, 4, 4, 1, 2, 2, 4, 1, 2, 3, 1, 4, 4, 2, 2, 1, 4, 6, 1, 2, 4, 3, 1, 2, 4, 1, 1, 2, 1, 4], [0, 0, 0, 0, 0, 0, 0, 0, 0, 0, 0, 0, 0, 0, 0, 0, 0, 0, 0, 0, 0, 0, 0, 0, 0, 0, 0, 0, 0, 0, 0, 0, 0, 0, 0, 0, 0, 0, 0, 0, 0, 0, 0, 0, 0, 0, 0, 0, 0, 0, 0, 0, 0, 0, 0, 0, 0, 0, 0, 0, 0, 0, 0, 0, 0, 0, 0, 0, 0, 0, 0, 0, 0, 0, 0, 0, 0, 0, 0, 0, 0, 0, 0, 0, 0, 0, 0, 0, 0, 0, 0, 0, 0, 0, 0, 0, 0, 0, 0, 0, 0, 0, 0, 0, 0, 0, 0, 0, 0, 0, 0, 0, 0, 0, 0, 0, 0, 0, 0, 0, 0, 0, 0, 0, 0, 0, 0, 0, 0, 0, 0, 0, 0, 0, 0, 0, 0, 0, 0, 0, 0, 0, 0, 0, 0, 0, 0, 0, 0, 0, 0, 0, 0, 0, 0, 0, 0, 0, 0, 0, 0, 0, 0, 0, 0, 0, 0, 0, 0, 0, 0, 0, 0, 0, 0, 0, 0, 0, 0, 0, 0, 0, 0, 0, 0, 0, 0, 0, 0, 0, 0, 0, 0, 0, 0, 0, 0, 0, 0, 0, 0, 0, 0, 0, 0, 0, 0, 0, 0, 0, 0, 0, 0, 0, 0, 0, 0, 0, 0, 0, 0, 0, 0, 0, 0, 0, 0, 0, 0, 0, 0, 0, 0, 0, 0, 0, 0, 0, 0, 0, 0, 0, 0, 0, 0, 0, 0, 0, 0, 0, 0, 0, 0, 0, 0, 0, 0, 0, 0, 0, 0, 0, 0, 0, 0, 0, 0, 0, 0, 0, 0, 0, 0, 0, 0, 0, 0, 0, 0, 0, 0, 0, 0, 0, 0, 0, 0, 0, 0, 0, 0, 0, 0, 0, 0, 0, 0, 0, 0, 0, 0, 0, 0, 0, 0, 0, 0, 0, 0, 0, 0, 0, 0, 0, 0, 0, 0, 0, 0, 0, 0, 0, 0, 0, 0, 0, 0, 0, 0, 0, 0, 0, 0, 0, 0, 0, 0, 0, 0, 0, 0, 0, 0, 0, 0, 0, 0, 0, 0, 0, 0, 0, 0, 0, 0, 0, 0, 0, 0, 0, 0, 0, 0, 0, 0, 0, 0, 0, 0, 0, 0, 0, 0, 0, 0, 0, 0, 0, 0, 0, 0, 0, 0, 0, 0, 0, 0, 0, 0, 0, 0, 0, 0, 0, 0, 0, 0, 0, 0, 0, 0, 0, 0, 0, 0, 0, 0, 0, 0, 0, 0, 0, 0, 0, 0, 0, 0, 0, 0, 0, 0, 0, 0, 0, 0, 0, 0, 0, 0, 0, 0, 0, 0, 0, 0, 0, 0, 0, 0, 0, 0, 0, 0, 0, 0, 0, 0, 0, 0, 0, 0, 0, 0, 0, 0, 0, 0, 0, 0, 0, 0, 0, 0, 0, 0, 0, 0, 0, 0, 0, 0, 0, 0, 0, 0, 0, 0, 0, 0, 0, 0, 0, 0, 0, 0, 0, 0, 0, 0, 0, 0, 0, 0, 0, 0, 0, 0, 0, 0, 0, 0, 0, 0, 0, 0, 0, 0, 0, 0, 0, 0, 0, 0, 0, 0, 0, 0, 0, 0, 0, 0, 0, 0, 0, 0, 0, 0, 0, 0, 0, 0, 0, 0, 0, 0, 0, 0, 0, 0, 0, 0, 0, 0, 0, 0, 0, 0, 0, 0, 0, 0, 0, 0, 0, 0, 0, 0, 0, 0, 0, 0, 0, 0, 0, 0, 0, 0, 0, 0, 0, 0, 0, 0, 0, 0, 0, 0, 0, 0, 0, 0, 0, 0, 0, 0, 0, 0, 0, 0, 0, 0, 0, 0, 0, 0, 0, 0, 0, 0, 0, 0, 0, 0, 0, 0, 0, 0, 0, 0, 0, 0, 0, 0, 0, 0, 0, 0, 0, 0, 0, 0, 0, 0, 0, 0, 0, 0, 0, 0, 0, 0, 0, 0, 0, 0, 0, 0, 0, 0, 0, 0, 0, 0, 0, 0, 0, 0, 0, 0, 0, 0, 0, 0, 0, 0, 0, 0, 0, 0, 0, 0, 0, 0, 0, 0, 0, 0, 0, 0, 0, 0, 0, 0, 0, 0, 0, 0, 0, 0, 0, 0, 0, 0, 0, 0, 0, 0, 0, 0, 0, 0, 0, 0, 0, 0, 0, 0, 0, 0, 0, 0, 0, 0, 0, 0, 0, 0, 0, 0, 0, 0, 0, 0, 0, 0, 0, 0, 0, 0, 0, 0, 0, 0, 0, 0, 0, 0, 0, 0, 0, 0, 0, 0, 0, 0, 0, 0, 0, 0, 0, 0, 0, 0, 0, 0, 0, 0, 0, 0, 0, 0, 0, 0, 0, 0, 0, 0, 0, 0, 0, 0, 0, 0, 0, 0, 0, 0, 0, 0, 0, 0, 0, 0, 0, 0, 0, 0, 0, 0, 0, 0, 0, 0, 0, 0, 0, 0, 0, 0, 0, 0, 0, 0, 0, 0, 0, 0, 0, 0, 0, 0, 0, 0, 0, 0, 0, 0, 0, 0, 0, 0, 0, 0, 0, 0, 0, 0, 0, 0, 0, 0, 0, 0, 0, 0, 0, 0, 0, 0, 0, 0, 0, 0, 0, 0, 0, 0, 0, 0, 0, 0, 0, 0, 0, 0, 0, 0, 0, 0, 0, 0, 0, 0, 0, 0, 0, 0, 0, 0, 0, 0, 0, 0, 0, 0, 0, 0, 0, 0, 0, 0, 0, 0, 0, 0, 0, 0, 0, 0, 0, 0, 0, 0, 0, 0, 0, 0, 0, 0, 0, 0, 0, 0, 0, 0, 0, 0, 0, 0, 0, 0, 0, 0, 0, 0, 0, 0, 0, 0, 0, 0, 0, 0, 0, 0, 0, 0, 0, 0, 0, 0, 0, 0, 0, 0, 0, 0, 0, 0, 0, 0, 0, 0, 0, 0, 0, 0, 0, 0, 0, 0, 0, 0, 0, 0, 0, 0, 0, 0, 0, 0, 0, 0, 0, 0, 0, 0, 0, 0, 0, 0, 0, 0, 0, 0, 0, 0, 0, 0, 0, 0, 0, 0, 0, 0, 0, 0, 0, 0, 0, 0, 0, 0, 0, 0, 0, 0, 0, 0, 0, 0, 0, 0, 0, 0, 0, 0, 0, 0, 0, 0, 0, 0, 0, 0, 0, 0, 0, 0, 0, 0, 0, 0, 0, 0, 0, 0, 0, 0, 0, 0, 0, 0, 0, 0, 0, 0, 0, 0, 0, 0, 0, 0, 0, 0, 0, 0, 0, 0, 0, 0, 0, 0, 0, 0, 0, 0, 0, 0, 0, 0, 0, 0, 0, 0, 0, 0, 0, 0, 0, 0, 0, 0, 0, 0, 0, 0, 0, 0, 0, 0, 0, 0, 0, 0, 0, 0, 0, 0, 0, 0, 0, 0, 0, 0, 0, 0, 0, 0, 0, 0, 0, 0, 0, 0, 0, 0, 0, 0, 0, 0, 0, 0, 0, 0, 0, 0, 0, 0, 0, 0, 0, 0, 0, 0, 0, 0, 0, 0, 0, 0, 0, 0, 0, 0, 0, 0, 0, 0, 0, 0, 0, 0, 0, 0, 0, 0, 0, 0, 0, 0, 0, 0, 0, 0, 0, 0, 0, 0, 0, 0, 0, 0, 0, 0, 0, 0, 0, 0, 0, 0, 0, 0, 0, 0, 0, 0, 0, 0, 0, 0, 0, 0, 0, 0, 0, 0, 0, 0, 0, 0, 0, 0, 0, 0, 0, 0, 0, 0, 0, 0, 0, 0, 0, 0, 0, 0, 0, 0, 0, 0, 0, 0, 0, 0, 0, 0, 0, 0, 0, 0, 0, 0, 0, 0, 0, 0, 0, 0, 0, 0, 0, 0, 0, 0, 0, 0, 0, 0, 0, 0, 0, 0, 0, 0, 0, 0, 0, 0, 0, 0, 0, 0, 0, 0, 0, 0, 0, 0, 0, 0, 0, 0, 0, 0, 0, 0, 0, 0, 0, 0, 0, 0, 0, 0, 0, 0, 0, 0, 0, 0, 0, 0, 0, 0, 0, 0, 0, 0, 0, 0, 0, 0, 0, 0, 0, 0, 0, 0, 0, 0, 0, 0, 0, 0, 0, 0, 0, 0, 0, 0, 0, 0, 0, 0, 0, 0, 0, 0, 0, 0, 0, 0, 0, 0, 0, 0, 0, 0, 0, 0, 0, 0, 0, 0, 0, 0, 0, 0, 0, 0, 0, 0, 0, 0, 0, 0, 0, 0, 0, 0, 0, 0, 0, 0, 0, 0, 0, 0, 0, 0, 0, 0, 0, 0, 0, 0, 0, 0, 0, 0, 0, 0, 0, 0, 0, 0, 0, 0, 0, 0, 0, 0, 0, 0, 0, 0, 0, 0, 0, 0, 0, 0, 0, 0, 0, 0, 0, 0, 0, 0, 0, 0, 0, 0, 0, 0, 0, 0, 0, 0, 0, 0, 0, 0, 0, 0, 0, 0, 0, 0, 0, 0, 0, 0, 0, 0, 0, 0, 0, 0, 0, 0, 0, 0, 0, 0, 0, 0, 0, 0, 0, 0, 0, 0, 0, 0, 0, 0, 0, 0, 0, 0, 0, 0, 0, 0, 0, 0, 0, 0, 0, 0, 0, 0, 0, 0, 0, 0, 0, 0, 0, 0, 0, 0, 0, 0, 0, 0, 0, 0, 0, 0, 0, 0, 0, 0, 0, 0, 0, 0, 0, 0, 0, 0, 0, 0, 0, 0, 0, 0, 0, 0, 0, 0, 0, 0, 0, 0, 0, 0, 0, 0, 0, 0, 0, 0, 0, 0, 0, 0, 0, 0, 0, 0, 0, 0, 0, 0, 0, 0, 0, 0, 0, 0, 0, 0, 0, 0, 0, 0, 0, 0, 0, 0, 0, 0, 0, 0, 0, 0, 0, 0, 0, 0, 0, 0, 0, 0, 0, 0, 0, 0, 0, 0, 0, 0, 0, 0, 0, 0, 0, 0, 0, 0, 0, 0, 0, 0, 0, 0, 5, 5, 5, 8, 8, 8, 5, 8, 6, 5, 8, 5, 8, 5, 5, 9, 15, 12, 5, 6, 8, 8, 4, 7, 4, 4, 7, 2, 4, 5, 1, 11, 8, 1, 8, 2, 8, 1, 1, 8, 1, 8, 2, 5, 5, 8, 1, 2, 1, 8, 5, 5, 1, 8, 5, 1, 8, 8, 2, 8, 1, 1, 8, 4, 1, 8, 8, 11, 7, 4, 13, 1, 3, 8], [0, 0, 0, 0, 0, 0, 0, 0, 0, 0, 0, 0, 0, 0, 0, 0, 0, 0, 0, 0, 0, 0, 0, 0, 0, 0, 0, 0, 0, 0, 0, 0, 0, 0, 0, 0, 0, 0, 0, 0, 0, 0, 0, 0, 0, 0, 0, 0, 0, 0, 0, 0, 0, 0, 0, 0, 0, 0, 0, 0, 0, 0, 0, 0, 0, 0, 0, 0, 0, 0, 0, 0, 0, 0, 0, 0, 0, 0, 0, 0, 0, 0, 0, 0, 0, 0, 0, 0, 0, 0, 0, 0, 0, 0, 0, 0, 0, 0, 0, 0, 0, 0, 0, 0, 0, 0, 0, 0, 0, 0, 0, 0, 0, 0, 0, 0, 0, 0, 0, 0, 0, 0, 0, 0, 0, 0, 0, 0, 0, 0, 0, 0, 0, 0, 0, 0, 0, 0, 0, 0, 0, 0, 0, 0, 0, 0, 0, 0, 0, 0, 0, 0, 0, 0, 0, 0, 0, 0, 0, 0, 0, 0, 0, 0, 0, 0, 0, 0, 0, 0, 0, 0, 0, 0, 0, 0, 0, 0, 0, 0, 0, 0, 0, 0, 0, 0, 0, 0, 0, 0, 0, 0, 0, 0, 0, 0, 0, 0, 0, 0, 0, 0, 0, 0, 0, 0, 0, 0, 0, 0, 0, 0, 0, 0, 0, 0, 0, 0, 0, 0, 0, 0, 0, 0, 0, 0, 0, 0, 0, 0, 0, 0, 0, 0, 0, 0, 0, 0, 0, 0, 0, 0, 0, 0, 0, 0, 0, 0, 0, 0, 0, 0, 0, 0, 0, 0, 0, 0, 0, 0, 0, 0, 0, 0, 0, 0, 0, 0, 0, 0, 0, 0, 0, 0, 0, 0, 0, 0, 0, 0, 0, 0, 0, 0, 0, 0, 0, 0, 0, 0, 0, 0, 0, 0, 0, 0, 0, 0, 0, 0, 0, 0, 0, 0, 0, 0, 0, 0, 0, 0, 0, 0, 0, 0, 0, 0, 0, 0, 0, 0, 0, 0, 0, 0, 0, 0, 0, 0, 0, 0, 0, 0, 0, 0, 0, 0, 0, 0, 0, 0, 0, 0, 0, 0, 0, 0, 0, 0, 0, 0, 0, 0, 0, 0, 0, 0, 0, 0, 0, 0, 0, 0, 0, 0, 0, 0, 0, 0, 0, 0, 0, 0, 0, 0, 0, 0, 0, 0, 0, 0, 0, 0, 0, 0, 0, 0, 0, 0, 0, 0, 0, 0, 0, 0, 0, 0, 0, 0, 0, 0, 0, 0, 0, 0, 0, 0, 0, 0, 0, 0, 0, 0, 0, 0, 0, 0, 0, 0, 0, 0, 0, 0, 0, 0, 0, 0, 0, 0, 0, 0, 0, 0, 0, 0, 0, 0, 0, 0, 0, 0, 0, 0, 0, 0, 0, 0, 0, 0, 0, 0, 0, 0, 0, 0, 0, 0, 0, 0, 0, 0, 0, 0, 0, 0, 0, 0, 0, 0, 0, 0, 0, 0, 0, 0, 0, 0, 0, 0, 0, 0, 0, 0, 0, 0, 0, 0, 0, 0, 0, 0, 0, 0, 0, 0, 0, 0, 0, 0, 0, 0, 0, 0, 0, 0, 0, 0, 0, 0, 0, 0, 0, 0, 0, 0, 0, 0, 0, 0, 0, 0, 0, 0, 0, 0, 0, 0, 0, 0, 0, 0, 0, 0, 0, 0, 0, 0, 0, 0, 0, 0, 0, 0, 0, 0, 0, 0, 0, 0, 0, 0, 0, 0, 0, 0, 0, 0, 0, 0, 0, 0, 0, 0, 0, 0, 0, 0, 0, 0, 0, 0, 0, 0, 0, 0, 0, 0, 0, 0, 0, 0, 0, 0, 0, 0, 0, 0, 0, 0, 0, 0, 0, 0, 0, 0, 0, 0, 0, 0, 0, 0, 0, 0, 0, 0, 0, 0, 0, 0, 0, 0, 0, 0, 0, 0, 0, 0, 0, 0, 0, 0, 0, 0, 0, 0, 0, 0, 0, 0, 0, 0, 0, 0, 0, 0, 0, 0, 0, 0, 0, 0, 0, 0, 0, 0, 0, 0, 0, 0, 0, 0, 0, 0, 0, 0, 0, 0, 0, 0, 0, 0, 0, 0, 0, 0, 0, 0, 0, 0, 0, 0, 0, 0, 0, 0, 0, 0, 0, 0, 0, 0, 0, 0, 0, 0, 0, 0, 0, 0, 0, 0, 0, 0, 0, 0, 0, 0, 0, 0, 0, 0, 0, 0, 0, 0, 0, 0, 0, 0, 0, 0, 0, 0, 0, 0, 0, 0, 0, 0, 0, 0, 0, 0, 0, 0, 0, 0, 0, 0, 0, 0, 0, 0, 0, 0, 0, 0, 0, 0, 0, 0, 0, 0, 0, 0, 0, 0, 0, 0, 0, 0, 0, 0, 0, 0, 0, 0, 0, 0, 0, 0, 0, 0, 0, 0, 0, 0, 0, 0, 0, 0, 0, 0, 0, 0, 0, 0, 0, 0, 0, 0, 0, 0, 0, 0, 0, 0, 0, 0, 0, 0, 0, 0, 0, 0, 0, 0, 0, 0, 0, 0, 0, 0, 0, 0, 0, 0, 0, 0, 0, 0, 0, 0, 0, 0, 0, 0, 0, 0, 0, 0, 0, 0, 0, 0, 0, 0, 0, 0, 0, 0, 0, 0, 0, 0, 0, 0, 0, 0, 0, 0, 0, 0, 0, 0, 0, 0, 0, 0, 0, 0, 0, 0, 0, 0, 0, 0, 0, 0, 0, 0, 0, 0, 0, 0, 0, 0, 0, 0, 0, 0, 0, 0, 0, 0, 0, 0, 0, 0, 0, 0, 0, 0, 0, 0, 0, 0, 0, 0, 0, 0, 0, 0, 0, 0, 0, 0, 0, 0, 0, 0, 0, 0, 0, 0, 0, 0, 0, 0, 0, 0, 0, 0, 0, 0, 0, 0, 0, 0, 0, 0, 0, 0, 0, 0, 0, 0, 0, 0, 0, 0, 0, 0, 0, 0, 0, 0, 0, 0, 0, 0, 0, 0, 0, 0, 0, 0, 0, 0, 0, 0, 0, 0, 0, 0, 0, 0, 0, 0, 0, 0, 0, 0, 0, 0, 0, 0, 0, 0, 0, 0, 0, 0, 0, 0, 0, 0, 0, 0, 0, 0, 0, 0, 0, 0, 0, 0, 0, 0, 0, 0, 0, 0, 0, 0, 0, 0, 0, 0, 0, 0, 0, 0, 0, 0, 0, 0, 0, 0, 0, 0, 0, 0, 0, 0, 0, 0, 0, 0, 0, 0, 0, 0, 0, 0, 0, 0, 0, 0, 0, 0, 0, 0, 0, 0, 0, 0, 0, 0, 0, 0, 0, 0, 0, 0, 0, 0, 0, 0, 0, 0, 0, 0, 0, 0, 0, 0, 0, 0, 0, 0, 0, 0, 0, 0, 0, 0, 0, 0, 0, 0, 0, 0, 0, 0, 0, 0, 0, 0, 0, 0, 0, 0, 0, 0, 0, 0, 0, 0, 0, 0, 0, 0, 0, 0, 0, 0, 0, 0, 0, 0, 0, 0, 0, 0, 0, 0, 0, 0, 0, 0, 0, 0, 0, 0, 0, 0, 0, 0, 0, 0, 0, 0, 0, 0, 0, 0, 0, 0, 0, 0, 0, 0, 0, 0, 0, 0, 0, 0, 0, 0, 0, 0, 0, 0, 0, 0, 0, 0, 0, 0, 0, 0, 0, 0, 0, 0, 0, 0, 0, 0, 0, 0, 0, 0, 0, 0, 0, 0, 0, 0, 0, 0, 0, 0, 0, 0, 0, 0, 0, 0, 0, 0, 0, 0, 0, 0, 0, 0, 0, 0, 0, 0, 0, 0, 0, 0, 0, 0, 0, 0, 0, 0, 0, 0, 0, 0, 0, 0, 0, 0, 0, 0, 0, 0, 0, 0, 0, 0, 0, 0, 0, 0, 0, 0, 0, 0, 0, 0, 0, 0, 0, 0, 0, 0, 0, 0, 0, 0, 0, 0, 0, 0, 0, 0, 0, 0, 0, 0, 0, 0, 0, 0, 0, 0, 0, 0, 0, 0, 0, 0, 0, 0, 0, 0, 0, 0, 0, 0, 0, 0, 0, 0, 0, 0, 0, 0, 0, 0, 0, 0, 0, 0, 0, 0, 0, 0, 0, 0, 0, 0, 0, 0, 0, 0, 0, 0, 0, 0, 0, 0, 0, 0, 0, 0, 0, 0, 0, 0, 0, 0, 0, 0, 0, 0, 0, 0, 0, 0, 0, 0, 0, 0, 0, 0, 0, 0, 0, 0, 0, 0, 0, 0, 0, 0, 0, 0, 0, 0, 0, 0, 0, 0, 0, 0, 0, 0, 0, 0, 0, 0, 0, 0, 0, 0, 0, 0, 0, 0, 0, 0, 0, 0, 0, 0, 0, 0, 0, 0, 0, 0, 0, 0, 0, 0, 0, 0, 0, 0, 0, 0, 0, 0, 0, 0, 0, 0, 0, 0, 0, 0, 0, 0, 0, 0, 0, 0, 0, 0, 0, 0, 0, 0, 0, 0, 0, 0, 0, 0, 0, 0, 0, 0, 0, 0, 0, 0, 0, 0, 0, 0, 0, 0, 0, 0, 0, 0, 0, 0, 0, 0, 0, 0, 0, 0, 0, 0, 0, 0, 0, 0, 0, 0, 0, 0, 0, 0, 0, 0, 0, 0, 0, 0, 0, 0, 0, 0, 0, 0, 0, 0, 0, 0, 0, 0, 0, 0, 0, 0, 0, 0, 0, 0, 0, 0, 0, 0, 0, 0, 0, 0, 0, 0, 0, 0, 0, 0, 0, 0, 0, 0, 0, 0, 0, 0, 0, 0, 0, 0, 0, 0, 0, 0, 0, 0, 0, 0, 0, 0, 0, 0, 0, 0, 0, 0, 0, 0, 0, 0, 0, 0, 0, 0, 0, 0, 0, 0, 0, 0, 0, 0, 0, 0, 0, 0, 0, 0, 0, 0, 0, 0, 0, 0, 0, 0, 0, 0, 0, 0, 0, 0, 0, 0, 0, 0, 0, 0, 0, 0, 0, 0, 0, 0, 0, 0, 0, 0, 0, 0, 1, 1, 3, 23, 6, 1, 12, 12, 1, 5, 1, 5, 3, 1, 12, 12, 1, 1, 12, 12, 2, 1, 2, 2, 2, 1, 9, 1, 2, 5, 5, 1, 2, 1, 2, 1, 1, 1, 5, 1, 1, 3, 1, 1, 1, 1, 2, 1, 2, 1, 6, 1, 2, 2, 1, 2, 1, 6, 2, 1, 6, 2, 1, 1, 2, 1, 1, 2, 1, 1, 1, 2, 1, 3, 1, 1, 1], [0, 0, 0, 0, 0, 0, 0, 0, 0, 0, 0, 0, 0, 0, 0, 0, 0, 0, 0, 0, 0, 0, 0, 0, 0, 0, 0, 0, 0, 0, 0, 0, 0, 0, 0, 0, 0, 0, 0, 0, 0, 0, 0, 0, 0, 0, 0, 0, 0, 0, 0, 0, 0, 0, 0, 0, 0, 0, 0, 0, 0, 0, 0, 0, 0, 0, 0, 0, 0, 0, 0, 0, 0, 0, 0, 0, 0, 0, 0, 0, 0, 0, 0, 0, 0, 0, 0, 0, 0, 0, 0, 0, 0, 0, 0, 0, 0, 0, 0, 0, 0, 0, 0, 0, 0, 0, 0, 0, 0, 0, 0, 0, 0, 0, 0, 0, 0, 0, 0, 0, 0, 0, 0, 0, 0, 0, 0, 0, 0, 0, 0, 0, 0, 0, 0, 0, 0, 0, 0, 0, 0, 0, 0, 0, 0, 0, 0, 0, 0, 0, 0, 0, 0, 0, 0, 0, 0, 0, 0, 0, 0, 0, 0, 0, 0, 0, 0, 0, 0, 0, 0, 0, 0, 0, 0, 0, 0, 0, 0, 0, 0, 0, 0, 0, 0, 0, 0, 0, 0, 0, 0, 0, 0, 0, 0, 0, 0, 0, 0, 0, 0, 0, 0, 0, 0, 0, 0, 0, 0, 0, 0, 0, 0, 0, 0, 0, 0, 0, 0, 0, 0, 0, 0, 0, 0, 0, 0, 0, 0, 0, 0, 0, 0, 0, 0, 0, 0, 0, 0, 0, 0, 0, 0, 0, 0, 0, 0, 0, 0, 0, 0, 0, 0, 0, 0, 0, 0, 0, 0, 0, 0, 0, 0, 0, 0, 0, 0, 0, 0, 0, 0, 0, 0, 0, 0, 0, 0, 0, 0, 0, 0, 0, 0, 0, 0, 0, 0, 0, 0, 0, 0, 0, 0, 0, 0, 0, 0, 0, 0, 0, 0, 0, 0, 0, 0, 0, 0, 0, 0, 0, 0, 0, 0, 0, 0, 0, 0, 0, 0, 0, 0, 0, 0, 0, 0, 0, 0, 0, 0, 0, 0, 0, 0, 0, 0, 0, 0, 0, 0, 0, 0, 0, 0, 0, 0, 0, 0, 0, 0, 0, 0, 0, 0, 0, 0, 0, 0, 0, 0, 0, 0, 0, 0, 0, 0, 0, 0, 0, 0, 0, 0, 0, 0, 0, 0, 0, 0, 0, 0, 0, 0, 0, 0, 0, 0, 0, 0, 0, 0, 0, 0, 0, 0, 0, 0, 0, 0, 0, 0, 0, 0, 0, 0, 0, 0, 0, 0, 0, 0, 0, 0, 0, 0, 0, 0, 0, 0, 0, 0, 0, 0, 0, 0, 0, 0, 0, 0, 0, 0, 0, 0, 0, 0, 0, 0, 0, 0, 0, 0, 0, 0, 0, 0, 0, 0, 0, 0, 0, 0, 0, 0, 0, 0, 0, 0, 0, 0, 0, 0, 0, 0, 0, 0, 0, 0, 0, 0, 0, 0, 0, 0, 0, 0, 0, 0, 0, 0, 0, 0, 0, 0, 0, 0, 0, 0, 0, 0, 0, 0, 0, 0, 0, 0, 0, 0, 0, 0, 0, 0, 0, 0, 0, 0, 0, 0, 0, 0, 0, 0, 0, 0, 0, 0, 0, 0, 0, 0, 0, 0, 0, 0, 0, 0, 0, 0, 0, 0, 0, 0, 0, 0, 0, 0, 0, 0, 0, 0, 0, 0, 0, 0, 0, 0, 0, 0, 0, 0, 0, 0, 0, 0, 0, 0, 0, 0, 0, 0, 0, 0, 0, 0, 0, 0, 0, 0, 0, 0, 0, 0, 0, 0, 0, 0, 0, 0, 0, 0, 0, 0, 0, 0, 0, 0, 0, 0, 0, 0, 0, 0, 0, 0, 0, 0, 0, 0, 0, 0, 0, 0, 0, 0, 0, 0, 0, 0, 0, 0, 0, 0, 0, 0, 0, 0, 0, 0, 0, 0, 0, 0, 0, 0, 0, 0, 0, 0, 0, 0, 0, 0, 0, 0, 0, 0, 0, 0, 0, 0, 0, 0, 0, 0, 0, 0, 0, 0, 0, 0, 0, 0, 0, 0, 0, 0, 0, 0, 0, 0, 0, 0, 0, 0, 0, 0, 0, 0, 0, 0, 0, 0, 0, 0, 0, 0, 0, 0, 0, 0, 0, 0, 0, 0, 0, 0, 0, 0, 0, 0, 0, 0, 0, 0, 0, 0, 0, 0, 0, 0, 0, 0, 0, 0, 0, 0, 0, 0, 0, 0, 0, 0, 0, 0, 0, 0, 0, 0, 0, 0, 0, 0, 0, 0, 0, 0, 0, 0, 0, 0, 0, 0, 0, 0, 0, 0, 0, 0, 0, 0, 0, 0, 0, 0, 0, 0, 0, 0, 0, 0, 0, 0, 0, 0, 0, 0, 0, 0, 0, 0, 0, 0, 0, 0, 0, 0, 0, 0, 0, 0, 0, 0, 0, 0, 0, 0, 0, 0, 0, 0, 0, 0, 0, 0, 0, 0, 0, 0, 0, 0, 0, 0, 0, 0, 0, 0, 0, 0, 0, 0, 0, 0, 0, 0, 0, 0, 0, 0, 0, 0, 0, 0, 0, 0, 0, 0, 0, 0, 0, 0, 0, 0, 0, 0, 0, 0, 0, 0, 0, 0, 0, 0, 0, 0, 0, 0, 0, 0, 0, 0, 0, 0, 0, 0, 0, 0, 0, 0, 0, 0, 0, 0, 0, 0, 0, 0, 0, 0, 0, 0, 0, 0, 0, 0, 0, 0, 0, 0, 0, 0, 0, 0, 0, 0, 0, 0, 0, 0, 0, 0, 0, 0, 0, 0, 0, 0, 0, 0, 0, 0, 0, 0, 0, 0, 0, 0, 0, 0, 0, 0, 0, 0, 0, 0, 0, 0, 0, 0, 0, 0, 0, 0, 0, 0, 0, 0, 0, 0, 0, 0, 0, 0, 0, 0, 0, 0, 0, 0, 0, 0, 0, 0, 0, 0, 0, 0, 0, 0, 0, 0, 0, 0, 0, 0, 0, 0, 0, 0, 0, 0, 0, 0, 0, 0, 0, 0, 0, 0, 0, 0, 0, 0, 0, 0, 0, 0, 0, 0, 0, 0, 0, 0, 0, 0, 0, 0, 0, 0, 0, 0, 0, 0, 0, 0, 0, 0, 0, 0, 0, 0, 0, 0, 0, 0, 0, 0, 0, 0, 0, 0, 0, 0, 0, 0, 0, 0, 0, 0, 0, 0, 0, 0, 0, 0, 0, 0, 0, 0, 0, 0, 0, 0, 0, 0, 0, 0, 0, 0, 0, 0, 0, 0, 0, 0, 0, 0, 0, 0, 0, 0, 0, 0, 0, 0, 0, 0, 0, 0, 0, 0, 0, 0, 0, 0, 0, 0, 0, 0, 0, 0, 0, 0, 0, 0, 0, 0, 0, 0, 0, 0, 0, 0, 0, 0, 0, 0, 0, 0, 0, 0, 0, 0, 0, 0, 0, 0, 0, 0, 0, 0, 0, 0, 0, 0, 0, 0, 0, 0, 0, 0, 0, 0, 0, 0, 0, 0, 0, 0, 0, 0, 0, 0, 0, 0, 0, 0, 0, 0, 0, 0, 0, 0, 0, 0, 0, 0, 0, 0, 0, 0, 0, 0, 0, 0, 0, 0, 0, 0, 0, 0, 0, 0, 0, 0, 0, 0, 0, 0, 0, 0, 0, 0, 0, 0, 0, 0, 0, 0, 0, 0, 0, 0, 0, 0, 0, 0, 0, 0, 0, 0, 0, 0, 0, 0, 0, 0, 0, 0, 0, 0, 0, 0, 0, 0, 0, 0, 0, 0, 0, 0, 0, 0, 0, 0, 0, 0, 0, 0, 0, 0, 0, 0, 0, 0, 0, 0, 0, 0, 0, 0, 0, 0, 0, 0, 0, 0, 0, 0, 0, 0, 0, 0, 0, 0, 0, 0, 0, 0, 0, 0, 0, 0, 0, 0, 0, 0, 0, 0, 0, 0, 0, 0, 0, 0, 0, 0, 0, 0, 0, 0, 0, 0, 0, 0, 0, 0, 0, 0, 0, 0, 0, 0, 0, 0, 0, 0, 0, 0, 0, 0, 0, 0, 0, 0, 0, 0, 0, 0, 0, 0, 0, 0, 0, 0, 0, 0, 0, 0, 0, 0, 0, 0, 0, 0, 0, 0, 0, 0, 0, 0, 0, 0, 0, 0, 0, 0, 0, 0, 0, 0, 0, 0, 0, 0, 0, 0, 0, 0, 0, 0, 0, 0, 0, 0, 0, 0, 0, 0, 0, 0, 0, 0, 0, 0, 0, 0, 0, 0, 0, 0, 0, 0, 0, 0, 0, 0, 0, 0, 0, 0, 0, 0, 0, 0, 0, 0, 0, 0, 0, 0, 0, 0, 0, 0, 0, 0, 0, 0, 0, 0, 0, 0, 0, 0, 0, 0, 0, 0, 0, 0, 0, 0, 0, 0, 0, 0, 0, 0, 0, 0, 0, 0, 0, 0, 0, 0, 0, 0, 0, 0, 0, 0, 0, 0, 0, 0, 0, 0, 0, 0, 0, 0, 0, 0, 0, 0, 0, 0, 0, 0, 0, 0, 0, 0, 0, 0, 0, 0, 0, 0, 0, 0, 0, 0, 0, 0, 0, 0, 0, 0, 0, 0, 0, 0, 0, 0, 0, 0, 0, 0, 0, 0, 0, 0, 0, 0, 0, 0, 0, 0, 0, 0, 0, 0, 0, 0, 0, 0, 0, 0, 0, 0, 0, 0, 0, 0, 0, 0, 0, 0, 0, 0, 0, 0, 0, 0, 0, 0, 0, 0, 0, 0, 0, 0, 0, 0, 0, 0, 0, 0, 0, 0, 0, 0, 0, 0, 0, 0, 0, 0, 0, 0, 0, 0, 6, 3, 1, 7, 14, 2, 15, 10, 3, 1, 1, 1, 1, 4, 1, 2, 3, 14, 1, 1, 1, 1, 3, 14, 1, 1, 1, 3, 14, 1, 3, 1, 3, 1, 1, 1, 14, 2, 3, 1, 1, 3, 1, 1, 3, 2, 1, 3, 2, 1, 14, 3, 3, 1, 1, 3, 1, 3, 1, 2, 14, 4, 1, 3, 3, 1, 1, 3, 4, 1, 1, 3, 1, 4, 1, 1, 1, 1, 3, 3, 1, 3, 1, 1, 1, 3, 1, 1, 1, 3, 1, 1, 3, 3, 1, 1, 3, 3, 1, 3, 1, 3, 1, 3, 1, 3, 3, 1, 3, 4, 1, 1, 1, 3, 1, 1, 1, 1, 1, 3, 1, 6, 1, 3, 3, 1, 1, 3, 1, 3, 1, 1, 1, 3]]\n"
     ]
    }
   ],
   "source": [
    "#While tokenizing maake sure that we are keeping filters as none,, because if we dont put it, then it will remove the underscores in the drugnames too.\n",
    "tokenizer = tf.keras.preprocessing.text.Tokenizer(filters='',lower=False, split=\" \")\n",
    "\n",
    "# Fitting tokenizer on the text data\n",
    "tokenizer.fit_on_texts(X_train)\n",
    "\n",
    "# Encoding the text and applying front-side padding\n",
    "X_train_encoded = tokenizer.texts_to_sequences(X_train)\n",
    "#apply pre-padding, as we are going to use LSTM \n",
    "X_train_padded = tf.keras.preprocessing.sequence.pad_sequences(X_train_encoded, padding='pre')\n",
    "\n",
    "Final_X_train = X_train_padded.tolist()\n",
    "\n",
    "# Displaying the final dataset\n",
    "print(Final_X_train[:5])"
   ]
  },
  {
   "cell_type": "code",
   "execution_count": 25,
   "metadata": {},
   "outputs": [
    {
     "name": "stdout",
     "output_type": "stream",
     "text": [
      "1645\n"
     ]
    }
   ],
   "source": [
    "print(len(Final_X_train[0]))"
   ]
  },
  {
   "cell_type": "code",
   "execution_count": 26,
   "metadata": {},
   "outputs": [],
   "source": [
    "#Get the maximum length of the padded text so that we should pad the validation data also to the same length\n",
    "pad_length = 1645"
   ]
  },
  {
   "cell_type": "code",
   "execution_count": 27,
   "metadata": {},
   "outputs": [],
   "source": [
    "# Encoding the text and applying front-side padding for the validation data\n",
    "X_val_encoded = tokenizer.texts_to_sequences(X_val)\n",
    "X_val_padded = tf.keras.preprocessing.sequence.pad_sequences(X_val_encoded, padding='pre', maxlen=1645)\n",
    "\n",
    "Final_X_val = X_val_padded.tolist()"
   ]
  },
  {
   "cell_type": "code",
   "execution_count": 28,
   "metadata": {},
   "outputs": [
    {
     "name": "stdout",
     "output_type": "stream",
     "text": [
      "1645\n"
     ]
    }
   ],
   "source": [
    "print(len(Final_X_val[0]))"
   ]
  },
  {
   "cell_type": "markdown",
   "metadata": {},
   "source": [
    "Lets check once if we have tokenized properly"
   ]
  },
  {
   "cell_type": "code",
   "execution_count": 29,
   "metadata": {},
   "outputs": [
    {
     "data": {
      "text/plain": [
       "{'DRUG_TYPE_6': 1,\n",
       " 'DRUG_TYPE_1': 2,\n",
       " 'PRIMARY_DIAGNOSIS': 3,\n",
       " 'DRUG_TYPE_0': 4,\n",
       " 'DRUG_TYPE_7': 5,\n",
       " 'DRUG_TYPE_2': 6,\n",
       " 'DRUG_TYPE_8': 7,\n",
       " 'DRUG_TYPE_3': 8,\n",
       " 'TEST_TYPE_1': 9,\n",
       " 'DRUG_TYPE_9': 10,\n",
       " 'DRUG_TYPE_5': 11,\n",
       " 'DRUG_TYPE_11': 12,\n",
       " 'SYMPTOM_TYPE_0': 13,\n",
       " 'SYMPTOM_TYPE_6': 14,\n",
       " 'TEST_TYPE_0': 15,\n",
       " 'SYMPTOM_TYPE_7': 16,\n",
       " 'DRUG_TYPE_14': 17,\n",
       " 'DRUG_TYPE_10': 18,\n",
       " 'DRUG_TYPE_13': 19,\n",
       " 'DRUG_TYPE_12': 20,\n",
       " 'SYMPTOM_TYPE_1': 21,\n",
       " 'SYMPTOM_TYPE_2': 22,\n",
       " 'TEST_TYPE_3': 23,\n",
       " 'SYMPTOM_TYPE_5': 24,\n",
       " 'SYMPTOM_TYPE_8': 25,\n",
       " 'SYMPTOM_TYPE_14': 26,\n",
       " 'TEST_TYPE_2': 27,\n",
       " 'SYMPTOM_TYPE_29': 28,\n",
       " 'SYMPTOM_TYPE_15': 29,\n",
       " 'SYMPTOM_TYPE_10': 30,\n",
       " 'DRUG_TYPE_4': 31,\n",
       " 'SYMPTOM_TYPE_9': 32,\n",
       " 'SYMPTOM_TYPE_16': 33,\n",
       " 'SYMPTOM_TYPE_3': 34,\n",
       " 'SYMPTOM_TYPE_4': 35,\n",
       " 'DRUG_TYPE_15': 36,\n",
       " 'SYMPTOM_TYPE_12': 37,\n",
       " 'SYMPTOM_TYPE_11': 38,\n",
       " 'SYMPTOM_TYPE_17': 39,\n",
       " 'SYMPTOM_TYPE_13': 40,\n",
       " 'TEST_TYPE_4': 41,\n",
       " 'DRUG_TYPE_16': 42,\n",
       " 'SYMPTOM_TYPE_18': 43,\n",
       " 'SYMPTOM_TYPE_21': 44,\n",
       " 'SYMPTOM_TYPE_22': 45,\n",
       " 'SYMPTOM_TYPE_19': 46,\n",
       " 'DRUG_TYPE_17': 47,\n",
       " 'TEST_TYPE_5': 48,\n",
       " 'SYMPTOM_TYPE_24': 49,\n",
       " 'SYMPTOM_TYPE_26': 50,\n",
       " 'SYMPTOM_TYPE_23': 51,\n",
       " 'SYMPTOM_TYPE_20': 52,\n",
       " 'SYMPTOM_TYPE_25': 53,\n",
       " 'SYMPTOM_TYPE_27': 54,\n",
       " 'SYMPTOM_TYPE_28': 55,\n",
       " 'DRUG_TYPE_18': 56}"
      ]
     },
     "execution_count": 29,
     "metadata": {},
     "output_type": "execute_result"
    }
   ],
   "source": [
    "tokenizer.word_index"
   ]
  },
  {
   "cell_type": "markdown",
   "metadata": {},
   "source": [
    "There are 56 tokens on total, which means 56 types of different drugs, tests and symptoms. \n",
    "NOTE: Here we have observe that there is no TARGET_DRUG which means we have successfully going in the right direction without any mistakes."
   ]
  },
  {
   "cell_type": "code",
   "execution_count": 30,
   "metadata": {},
   "outputs": [
    {
     "data": {
      "text/plain": [
       "56"
      ]
     },
     "execution_count": 30,
     "metadata": {},
     "output_type": "execute_result"
    }
   ],
   "source": [
    "len(tokenizer.word_index)"
   ]
  },
  {
   "cell_type": "markdown",
   "metadata": {},
   "source": [
    "### MODEL BULDING"
   ]
  },
  {
   "cell_type": "markdown",
   "metadata": {},
   "source": [
    "Create useful callbacks 1st.\n",
    "* Since the CUDA version for windows tensorflow doesnot yet support the F1-score , we have to define our own with the custom callback to measure it as shown below by modifying the loss_history callback of the original tensorflow.\n",
    "* All the other callbacks like early stopping, model saving check point and also tensor booard for visualization are also added"
   ]
  },
  {
   "cell_type": "code",
   "execution_count": 31,
   "metadata": {},
   "outputs": [],
   "source": [
    "import tensorflow as tf\n",
    "import os\n",
    "import datetime\n",
    "from keras.callbacks import EarlyStopping, ModelCheckpoint, TensorBoard\n",
    "\n",
    "from sklearn.metrics import f1_score\n",
    "\n",
    "class LossHistory(tf.keras.callbacks.Callback):\n",
    "    \n",
    "    def __init__(self,validation_data):\n",
    "      self.x_test = validation_data[0]\n",
    "      self.y_test= validation_data[1]\n",
    "      \n",
    "    def on_train_begin(self, logs={}):\n",
    "        ## on begin of training, we are creating a instance varible called history\n",
    "        ## it is a dict with keys [loss, acc, val_loss, val_acc]\n",
    "        self.history={'loss': [],'accuracy': [],'val_loss': [],'val_accuracy': [],'val_f1': []}\n",
    "        \n",
    "    def on_epoch_end(self, epoch, logs={}):\n",
    "        ## on end of each epoch, we will get logs and update the self.history dict\n",
    "        self.history['loss'].append(logs.get('loss'))\n",
    "        self.history['accuracy'].append(logs.get('accuracy'))\n",
    "      \n",
    "        if logs.get('val_loss', -1) != -1:\n",
    "            self.history['val_loss'].append(logs.get('val_loss'))\n",
    "        if logs.get('val_accuracy', -1) != -1:\n",
    "            self.history['val_accuracy'].append(logs.get('val_accuracy'))\n",
    "        \n",
    "        # we can get a list of all predicted values at the end of the epoch\n",
    "        # we can use these predicted value and the true values to calculate any custom evaluation score if it is needed for our model\n",
    "        y_pred= self.model.predict(self.x_test)\n",
    "        y_label_pred= [1 if d>=0.5 else 0 for d in y_pred]\n",
    "        \n",
    "        #we can also calculate predefined metrics such as precison, recall, etc. using callbacks \n",
    "        f1 = f1_score(self.y_test, y_label_pred)\n",
    "        \n",
    "        self.history['val_f1'].append(f1)\n",
    "    \n",
    "        print('val_f1_score: ',np.round(f1,5))\n",
    "        \n",
    "history_own = LossHistory(validation_data=[X_val_padded,y_val])\n",
    "\n",
    "#Add the required call backs\n",
    "log_dir = os.path.join(\"logs\",'fits', datetime.datetime.now().strftime(\"%Y%m%d-%H%M%S\"))\n",
    "tensorboard_callback = TensorBoard(log_dir=log_dir,histogram_freq=1,write_graph=True)\n",
    "earlystop = EarlyStopping(monitor=\"val_loss\",mode=\"auto\",patience=2,verbose=1)\n",
    "checkpt = ModelCheckpoint(monitor=\"val_loss\",mode=\"auto\",filepath='model_1.hdf5',verbose=1,save_best_only=True)\n",
    "\n",
    "#Create a list of all the callbacks to pass them to the model while training\n",
    "callback_list = [earlystop, tensorboard_callback,checkpt, history_own]"
   ]
  },
  {
   "cell_type": "markdown",
   "metadata": {},
   "source": [
    "Finally design the model architecture"
   ]
  },
  {
   "cell_type": "code",
   "execution_count": 32,
   "metadata": {},
   "outputs": [
    {
     "name": "stdout",
     "output_type": "stream",
     "text": [
      "Model: \"model\"\n",
      "_________________________________________________________________\n",
      " Layer (type)                Output Shape              Param #   \n",
      "=================================================================\n",
      " input_1 (InputLayer)        [(None, 1645)]            0         \n",
      "                                                                 \n",
      " embedding (Embedding)       (None, 1645, 64)          3648      \n",
      "                                                                 \n",
      " lstm (LSTM)                 (None, 1645, 32)          12416     \n",
      "                                                                 \n",
      " flatten (Flatten)           (None, 52640)             0         \n",
      "                                                                 \n",
      " dense (Dense)               (None, 128)               6738048   \n",
      "                                                                 \n",
      " dropout (Dropout)           (None, 128)               0         \n",
      "                                                                 \n",
      " dense_1 (Dense)             (None, 64)                8256      \n",
      "                                                                 \n",
      " dense_2 (Dense)             (None, 1)                 65        \n",
      "                                                                 \n",
      "=================================================================\n",
      "Total params: 6,762,433\n",
      "Trainable params: 6,762,433\n",
      "Non-trainable params: 0\n",
      "_________________________________________________________________\n"
     ]
    }
   ],
   "source": [
    "from keras.models import Model\n",
    "\n",
    "#Define the input layer\n",
    "input_layer=tf.keras.layers.Input(shape=len(X_train_padded[0]))\n",
    "\n",
    "#Define the LSTM layer along with the embedding layer\n",
    "embedding=tf.keras.layers.Embedding(input_dim=len(tokenizer.word_index) + 1, output_dim=64, input_length=len(X_train_padded[0]))(input_layer)\n",
    "lstm_layer = tf.keras.layers.LSTM(32, return_sequences=True)(embedding)\n",
    "\n",
    "#flatten the output to connect more dense layers\n",
    "flat_1=tf.keras.layers.Flatten()(lstm_layer)\n",
    "\n",
    "#add 2 dense layers along with dropouts to avoid overfitting\n",
    "Dense_1=tf.keras.layers.Dense(128,activation='relu', kernel_initializer=tf.keras.initializers.HeNormal())(flat_1)\n",
    "Drop_out=tf.keras.layers.Dropout(0.5)(Dense_1)\n",
    "Dense_2=tf.keras.layers.Dense(64,activation='relu', kernel_initializer=tf.keras.initializers.HeNormal())(Drop_out)\n",
    "\n",
    "#Finally define the output layer for classification\n",
    "output_layer=tf.keras.layers.Dense(1, activation='sigmoid')(Dense_2)\n",
    "\n",
    "#Create the model architecture with the above defined layers and check how many parameters are trainable\n",
    "model_lstm = Model(inputs=input_layer, outputs=output_layer)\n",
    "model_lstm.summary()"
   ]
  },
  {
   "cell_type": "code",
   "execution_count": 33,
   "metadata": {},
   "outputs": [
    {
     "data": {
      "image/png": "[encoded data removed]",
      "text/plain": [
       "<IPython.core.display.Image object>"
      ]
     },
     "execution_count": 33,
     "metadata": {},
     "output_type": "execute_result"
    }
   ],
   "source": [
    "#plot the model and save the model image\n",
    "import keras \n",
    "dot_img_file = 'model_0.png'\n",
    "keras.utils.vis_utils.plot_model(model_lstm, to_file=dot_img_file, show_shapes=True)"
   ]
  },
  {
   "cell_type": "code",
   "execution_count": 108,
   "metadata": {},
   "outputs": [
    {
     "name": "stdout",
     "output_type": "stream",
     "text": [
      "Epoch 1/20\n",
      "1352/1352 [==============================] - ETA: 0s - loss: 0.4893 - accuracy: 0.7642\n",
      "Epoch 1: val_loss improved from inf to 0.40754, saving model to model_1.hdf5\n",
      "169/169 [==============================] - 8s 44ms/step\n",
      "val_f1_score:  0.72218\n",
      "1352/1352 [==============================] - 160s 113ms/step - loss: 0.4893 - accuracy: 0.7642 - val_loss: 0.4075 - val_accuracy: 0.8149\n",
      "Epoch 2/20\n",
      "1352/1352 [==============================] - ETA: 0s - loss: 0.4235 - accuracy: 0.7998\n",
      "Epoch 2: val_loss improved from 0.40754 to 0.40604, saving model to model_1.hdf5\n",
      "169/169 [==============================] - 8s 44ms/step\n",
      "val_f1_score:  0.67525\n",
      "1352/1352 [==============================] - 147s 109ms/step - loss: 0.4235 - accuracy: 0.7998 - val_loss: 0.4060 - val_accuracy: 0.8088\n",
      "Epoch 3/20\n",
      "1352/1352 [==============================] - ETA: 0s - loss: 0.3983 - accuracy: 0.8116\n",
      "Epoch 3: val_loss improved from 0.40604 to 0.39380, saving model to model_1.hdf5\n",
      "169/169 [==============================] - 8s 44ms/step\n",
      "val_f1_score:  0.73108\n",
      "1352/1352 [==============================] - 147s 109ms/step - loss: 0.3983 - accuracy: 0.8116 - val_loss: 0.3938 - val_accuracy: 0.8265\n",
      "Epoch 4/20\n",
      "1352/1352 [==============================] - ETA: 0s - loss: 0.3763 - accuracy: 0.8249\n",
      "Epoch 4: val_loss improved from 0.39380 to 0.38565, saving model to model_1.hdf5\n",
      "169/169 [==============================] - 7s 42ms/step\n",
      "val_f1_score:  0.74752\n",
      "1352/1352 [==============================] - 146s 108ms/step - loss: 0.3763 - accuracy: 0.8249 - val_loss: 0.3856 - val_accuracy: 0.8302\n",
      "Epoch 5/20\n",
      "1352/1352 [==============================] - ETA: 0s - loss: 0.3663 - accuracy: 0.8292\n",
      "Epoch 5: val_loss improved from 0.38565 to 0.38564, saving model to model_1.hdf5\n",
      "169/169 [==============================] - 7s 43ms/step\n",
      "val_f1_score:  0.76093\n",
      "1352/1352 [==============================] - 145s 107ms/step - loss: 0.3663 - accuracy: 0.8292 - val_loss: 0.3856 - val_accuracy: 0.8221\n",
      "Epoch 6/20\n",
      "1352/1352 [==============================] - ETA: 0s - loss: 0.3506 - accuracy: 0.8410\n",
      "Epoch 6: val_loss improved from 0.38564 to 0.38481, saving model to model_1.hdf5\n",
      "169/169 [==============================] - 7s 43ms/step\n",
      "val_f1_score:  0.7667\n",
      "1352/1352 [==============================] - 145s 107ms/step - loss: 0.3506 - accuracy: 0.8410 - val_loss: 0.3848 - val_accuracy: 0.8398\n",
      "Epoch 7/20\n",
      "1352/1352 [==============================] - ETA: 0s - loss: 0.3334 - accuracy: 0.8505\n",
      "Epoch 7: val_loss improved from 0.38481 to 0.36791, saving model to model_1.hdf5\n",
      "169/169 [==============================] - 7s 42ms/step\n",
      "val_f1_score:  0.75159\n",
      "1352/1352 [==============================] - 152s 112ms/step - loss: 0.3334 - accuracy: 0.8505 - val_loss: 0.3679 - val_accuracy: 0.8413\n",
      "Epoch 8/20\n",
      "1352/1352 [==============================] - ETA: 0s - loss: 0.3131 - accuracy: 0.8621\n",
      "Epoch 8: val_loss did not improve from 0.36791\n",
      "169/169 [==============================] - 7s 44ms/step\n",
      "val_f1_score:  0.75508\n",
      "1352/1352 [==============================] - 144s 107ms/step - loss: 0.3131 - accuracy: 0.8621 - val_loss: 0.3775 - val_accuracy: 0.8395\n",
      "Epoch 9/20\n",
      "1352/1352 [==============================] - ETA: 0s - loss: 0.2931 - accuracy: 0.8732\n",
      "Epoch 9: val_loss did not improve from 0.36791\n",
      "169/169 [==============================] - 7s 43ms/step\n",
      "val_f1_score:  0.76737\n",
      "1352/1352 [==============================] - 145s 108ms/step - loss: 0.2931 - accuracy: 0.8732 - val_loss: 0.3806 - val_accuracy: 0.8365\n",
      "Epoch 9: early stopping\n"
     ]
    },
    {
     "data": {
      "text/plain": [
       "<keras.callbacks.History at 0x151e7206a70>"
      ]
     },
     "execution_count": 108,
     "metadata": {},
     "output_type": "execute_result"
    }
   ],
   "source": [
    "# Compiling the model wrt binary classification\n",
    "model_lstm.compile(loss='binary_crossentropy', optimizer='adam', metrics=['accuracy'])\n",
    "#train the model\n",
    "model_lstm.fit(X_train_padded, y_train, epochs=20, validation_data = (X_val_padded,y_val), callbacks=callback_list, batch_size=16)"
   ]
  },
  {
   "cell_type": "code",
   "execution_count": 109,
   "metadata": {},
   "outputs": [
    {
     "name": "stdout",
     "output_type": "stream",
     "text": [
      "169/169 [==============================] - 7s 42ms/step\n",
      "0.7673684210526315\n"
     ]
    }
   ],
   "source": [
    "y_pred_val = model_lstm.predict(X_val_padded)\n",
    "y_pred_int_val = [1 if d>=0.5 else 0 for d in y_pred_val]\n",
    "\n",
    "print(f1_score(y_val,y_pred_int_val))"
   ]
  },
  {
   "cell_type": "markdown",
   "metadata": {},
   "source": [
    "### Initial F1-score of the model is found to be 0.767"
   ]
  },
  {
   "cell_type": "code",
   "execution_count": 120,
   "metadata": {},
   "outputs": [
    {
     "name": "stderr",
     "output_type": "stream",
     "text": [
      "UsageError: Line magic function `%tensorboard` not found.\n"
     ]
    }
   ],
   "source": [
    "%tensorboard --logdir logs/fits"
   ]
  },
  {
   "cell_type": "markdown",
   "metadata": {},
   "source": [
    "### Tensorboard graphs for reference"
   ]
  },
  {
   "cell_type": "markdown",
   "metadata": {},
   "source": [
    "* The Orange line --> Train score and loss <br>\n",
    "* The Blue line --> Validation score and loss <br>\n",
    "\n",
    "<img src='https://imgur.com/a/UuqkSY9.jpg'>"
   ]
  },
  {
   "cell_type": "markdown",
   "metadata": {},
   "source": [
    "### Finally save the model for later use"
   ]
  },
  {
   "cell_type": "code",
   "execution_count": 110,
   "metadata": {},
   "outputs": [],
   "source": [
    "model_lstm.save(\"model_1_high_f1.hdf5\",save_format='hdf5')"
   ]
  },
  {
   "cell_type": "markdown",
   "metadata": {},
   "source": [
    "## Feature Engineering to improve the score"
   ]
  },
  {
   "cell_type": "markdown",
   "metadata": {},
   "source": [
    "Here we are designing 2 kinds of features:\n",
    "1. Time based feature by taking in to consideration the gap between the successive tests or drug doses or symptom records. Because they may contain clue about the onset of the disease which leads to the TARGET_DRUG.\n",
    "2. Frequency based feature which is the how many times a particular symptom or the drug has been taken by patient, which can help in  differentiating the positive and negative patients."
   ]
  },
  {
   "cell_type": "code",
   "execution_count": 111,
   "metadata": {},
   "outputs": [
    {
     "name": "stdout",
     "output_type": "stream",
     "text": [
      "27032\n"
     ]
    }
   ],
   "source": [
    "#First we will remove the 1 patient from the train data\n",
    "\n",
    "train_data=train_data[train_data['Patient-Uid']!='a0ee64e1-1c7c-11ec-becd-16262ee38c7f']\n",
    "\n",
    "groups_2= train_data.groupby('Patient-Uid')\n",
    "\n",
    "print(groups_2.ngroups)"
   ]
  },
  {
   "cell_type": "markdown",
   "metadata": {},
   "source": [
    "#### 1. Time based feature: Gap between consecutive test or drug administered intervals in days\n",
    "* Here we also pad the vectors obtained by noting the gaps for each patient , so that we avoid using the encoder module and can directly featurize them."
   ]
  },
  {
   "cell_type": "code",
   "execution_count": 127,
   "metadata": {},
   "outputs": [
    {
     "name": "stdout",
     "output_type": "stream",
     "text": [
      "1645\n"
     ]
    }
   ],
   "source": [
    "#This is used to build time based features as showen below\n",
    "max_length = max(cutoff_index_list)\n",
    "print(max_length)"
   ]
  },
  {
   "cell_type": "code",
   "execution_count": 155,
   "metadata": {},
   "outputs": [
    {
     "name": "stdout",
     "output_type": "stream",
     "text": [
      "27032 1645\n"
     ]
    }
   ],
   "source": [
    "import numpy as np\n",
    "\n",
    "#This is the access the exact cutoff date index for each patient\n",
    "count=0\n",
    "\n",
    "#List to store the final gaps in days in the form of list of lists\n",
    "Time_based_features=[]\n",
    "\n",
    "#Iterate through the records of each patient\n",
    "for group_name, group_data in groups_2:\n",
    "\n",
    "    #list to store the gap history of each patient\n",
    "    temp_list=[]\n",
    "\n",
    "    #Loop thorugh the patient history\n",
    "    for j in range(updated_groups['cutoff_indices'].iloc[count]-1):\n",
    "            #take the difference between the consecutive dates in days\n",
    "            temp_list.append((group_data[\"Date\"].iloc[j+1]-group_data[\"Date\"].iloc[j]).days)\n",
    "    #pad the gap vector with the max_length which we have seen above \n",
    "    temp_list.extend(list(np.zeros(shape=max_length-len(temp_list),dtype=int)))\n",
    "\n",
    "    #finally add all the patient gap histories in to a single list\n",
    "    Time_based_features.append(temp_list)\n",
    "    count+=1\n",
    "\n",
    "#check the shape of the obtained features\n",
    "print(len(Time_based_features),len(Time_based_features[0]))"
   ]
  },
  {
   "cell_type": "code",
   "execution_count": 172,
   "metadata": {},
   "outputs": [],
   "source": [
    "#add them to the main dataset\n",
    "updated_groups['Time_based_features']=Time_based_features"
   ]
  },
  {
   "cell_type": "code",
   "execution_count": 202,
   "metadata": {},
   "outputs": [
    {
     "data": {
      "text/html": [
       "<div>\n",
       "<style scoped>\n",
       "    .dataframe tbody tr th:only-of-type {\n",
       "        vertical-align: middle;\n",
       "    }\n",
       "\n",
       "    .dataframe tbody tr th {\n",
       "        vertical-align: top;\n",
       "    }\n",
       "\n",
       "    .dataframe thead th {\n",
       "        text-align: right;\n",
       "    }\n",
       "</style>\n",
       "<table border=\"1\" class=\"dataframe\">\n",
       "  <thead>\n",
       "    <tr style=\"text-align: right;\">\n",
       "      <th></th>\n",
       "      <th>Patient-Uid</th>\n",
       "      <th>Incident_text</th>\n",
       "      <th>Class_Label</th>\n",
       "      <th>cutoff_indices</th>\n",
       "      <th>Incident_text_till_target_drug</th>\n",
       "      <th>Time_based_features</th>\n",
       "    </tr>\n",
       "  </thead>\n",
       "  <tbody>\n",
       "    <tr>\n",
       "      <th>0</th>\n",
       "      <td>a0db1e73-1c7c-11ec-ae39-16262ee38c7f</td>\n",
       "      <td>DRUG_TYPE_7 SYMPTOM_TYPE_2 DRUG_TYPE_7 SYMPTOM...</td>\n",
       "      <td>0</td>\n",
       "      <td>96</td>\n",
       "      <td>DRUG_TYPE_7 SYMPTOM_TYPE_2 DRUG_TYPE_7 SYMPTOM...</td>\n",
       "      <td>[934, 19, 205, 0, 0, 0, 0, 1, 0, 8, 0, 53, 6, ...</td>\n",
       "    </tr>\n",
       "    <tr>\n",
       "      <th>1</th>\n",
       "      <td>a0dc93f2-1c7c-11ec-9cd2-16262ee38c7f</td>\n",
       "      <td>DRUG_TYPE_0 DRUG_TYPE_2 DRUG_TYPE_0 PRIMARY_DI...</td>\n",
       "      <td>0</td>\n",
       "      <td>109</td>\n",
       "      <td>DRUG_TYPE_0 DRUG_TYPE_2 DRUG_TYPE_0 PRIMARY_DI...</td>\n",
       "      <td>[2, 0, 32, 1, 0, 1, 0, 0, 0, 0, 59, 0, 0, 8, 3...</td>\n",
       "    </tr>\n",
       "    <tr>\n",
       "      <th>2</th>\n",
       "      <td>a0dc94c6-1c7c-11ec-a3a0-16262ee38c7f</td>\n",
       "      <td>DRUG_TYPE_0 PRIMARY_DIAGNOSIS DRUG_TYPE_7 DRUG...</td>\n",
       "      <td>0</td>\n",
       "      <td>98</td>\n",
       "      <td>DRUG_TYPE_0 PRIMARY_DIAGNOSIS DRUG_TYPE_7 DRUG...</td>\n",
       "      <td>[0, 0, 0, 0, 1, 13, 0, 0, 0, 0, 0, 0, 48, 51, ...</td>\n",
       "    </tr>\n",
       "    <tr>\n",
       "      <th>3</th>\n",
       "      <td>a0dc950b-1c7c-11ec-b6ec-16262ee38c7f</td>\n",
       "      <td>DRUG_TYPE_0 DRUG_TYPE_7 DRUG_TYPE_2 PRIMARY_DI...</td>\n",
       "      <td>0</td>\n",
       "      <td>109</td>\n",
       "      <td>DRUG_TYPE_0 DRUG_TYPE_7 DRUG_TYPE_2 PRIMARY_DI...</td>\n",
       "      <td>[0, 62, 0, 17, 9, 0, 46, 48, 44, 20, 5, 0, 0, ...</td>\n",
       "    </tr>\n",
       "    <tr>\n",
       "      <th>4</th>\n",
       "      <td>a0dc9543-1c7c-11ec-bb63-16262ee38c7f</td>\n",
       "      <td>DRUG_TYPE_1 TEST_TYPE_1 SYMPTOM_TYPE_8 DRUG_TY...</td>\n",
       "      <td>0</td>\n",
       "      <td>244</td>\n",
       "      <td>DRUG_TYPE_1 TEST_TYPE_1 SYMPTOM_TYPE_8 DRUG_TY...</td>\n",
       "      <td>[10, 8, 10, 6, 17, 0, 3, 2, 2, 5, 0, 0, 5, 7, ...</td>\n",
       "    </tr>\n",
       "  </tbody>\n",
       "</table>\n",
       "</div>"
      ],
      "text/plain": [
       "                            Patient-Uid  \\\n",
       "0  a0db1e73-1c7c-11ec-ae39-16262ee38c7f   \n",
       "1  a0dc93f2-1c7c-11ec-9cd2-16262ee38c7f   \n",
       "2  a0dc94c6-1c7c-11ec-a3a0-16262ee38c7f   \n",
       "3  a0dc950b-1c7c-11ec-b6ec-16262ee38c7f   \n",
       "4  a0dc9543-1c7c-11ec-bb63-16262ee38c7f   \n",
       "\n",
       "                                       Incident_text  Class_Label  \\\n",
       "0  DRUG_TYPE_7 SYMPTOM_TYPE_2 DRUG_TYPE_7 SYMPTOM...            0   \n",
       "1  DRUG_TYPE_0 DRUG_TYPE_2 DRUG_TYPE_0 PRIMARY_DI...            0   \n",
       "2  DRUG_TYPE_0 PRIMARY_DIAGNOSIS DRUG_TYPE_7 DRUG...            0   \n",
       "3  DRUG_TYPE_0 DRUG_TYPE_7 DRUG_TYPE_2 PRIMARY_DI...            0   \n",
       "4  DRUG_TYPE_1 TEST_TYPE_1 SYMPTOM_TYPE_8 DRUG_TY...            0   \n",
       "\n",
       "   cutoff_indices                     Incident_text_till_target_drug  \\\n",
       "0              96  DRUG_TYPE_7 SYMPTOM_TYPE_2 DRUG_TYPE_7 SYMPTOM...   \n",
       "1             109  DRUG_TYPE_0 DRUG_TYPE_2 DRUG_TYPE_0 PRIMARY_DI...   \n",
       "2              98  DRUG_TYPE_0 PRIMARY_DIAGNOSIS DRUG_TYPE_7 DRUG...   \n",
       "3             109  DRUG_TYPE_0 DRUG_TYPE_7 DRUG_TYPE_2 PRIMARY_DI...   \n",
       "4             244  DRUG_TYPE_1 TEST_TYPE_1 SYMPTOM_TYPE_8 DRUG_TY...   \n",
       "\n",
       "                                 Time_based_features  \n",
       "0  [934, 19, 205, 0, 0, 0, 0, 1, 0, 8, 0, 53, 6, ...  \n",
       "1  [2, 0, 32, 1, 0, 1, 0, 0, 0, 0, 59, 0, 0, 8, 3...  \n",
       "2  [0, 0, 0, 0, 1, 13, 0, 0, 0, 0, 0, 0, 48, 51, ...  \n",
       "3  [0, 62, 0, 17, 9, 0, 46, 48, 44, 20, 5, 0, 0, ...  \n",
       "4  [10, 8, 10, 6, 17, 0, 3, 2, 2, 5, 0, 0, 5, 7, ...  "
      ]
     },
     "execution_count": 202,
     "metadata": {},
     "output_type": "execute_result"
    }
   ],
   "source": [
    "updated_groups = updated_groups.rename(columns={'text_column':'Incident_text_till_target_drug'})\n",
    "updated_groups.head()"
   ]
  },
  {
   "cell_type": "markdown",
   "metadata": {},
   "source": [
    "### Save the dataframe for future use"
   ]
  },
  {
   "cell_type": "code",
   "execution_count": 203,
   "metadata": {},
   "outputs": [],
   "source": [
    "updated_groups.to_csv('processed_dataframe_1.csv', index=False)"
   ]
  },
  {
   "cell_type": "code",
   "execution_count": 1,
   "metadata": {},
   "outputs": [],
   "source": [
    "import pandas as pd\n",
    "updated_groups=pd.read_csv('processed_dataframe_1.csv')"
   ]
  },
  {
   "cell_type": "code",
   "execution_count": 2,
   "metadata": {},
   "outputs": [
    {
     "data": {
      "text/html": [
       "<div>\n",
       "<style scoped>\n",
       "    .dataframe tbody tr th:only-of-type {\n",
       "        vertical-align: middle;\n",
       "    }\n",
       "\n",
       "    .dataframe tbody tr th {\n",
       "        vertical-align: top;\n",
       "    }\n",
       "\n",
       "    .dataframe thead th {\n",
       "        text-align: right;\n",
       "    }\n",
       "</style>\n",
       "<table border=\"1\" class=\"dataframe\">\n",
       "  <thead>\n",
       "    <tr style=\"text-align: right;\">\n",
       "      <th></th>\n",
       "      <th>Patient-Uid</th>\n",
       "      <th>Incident_text</th>\n",
       "      <th>Class_Label</th>\n",
       "      <th>cutoff_indices</th>\n",
       "      <th>Incident_text_till_target_drug</th>\n",
       "      <th>Time_based_features</th>\n",
       "    </tr>\n",
       "  </thead>\n",
       "  <tbody>\n",
       "    <tr>\n",
       "      <th>0</th>\n",
       "      <td>a0db1e73-1c7c-11ec-ae39-16262ee38c7f</td>\n",
       "      <td>DRUG_TYPE_7 SYMPTOM_TYPE_2 DRUG_TYPE_7 SYMPTOM...</td>\n",
       "      <td>0</td>\n",
       "      <td>96</td>\n",
       "      <td>DRUG_TYPE_7 SYMPTOM_TYPE_2 DRUG_TYPE_7 SYMPTOM...</td>\n",
       "      <td>[934, 19, 205, 0, 0, 0, 0, 1, 0, 8, 0, 53, 6, ...</td>\n",
       "    </tr>\n",
       "    <tr>\n",
       "      <th>1</th>\n",
       "      <td>a0dc93f2-1c7c-11ec-9cd2-16262ee38c7f</td>\n",
       "      <td>DRUG_TYPE_0 DRUG_TYPE_2 DRUG_TYPE_0 PRIMARY_DI...</td>\n",
       "      <td>0</td>\n",
       "      <td>109</td>\n",
       "      <td>DRUG_TYPE_0 DRUG_TYPE_2 DRUG_TYPE_0 PRIMARY_DI...</td>\n",
       "      <td>[2, 0, 32, 1, 0, 1, 0, 0, 0, 0, 59, 0, 0, 8, 3...</td>\n",
       "    </tr>\n",
       "    <tr>\n",
       "      <th>2</th>\n",
       "      <td>a0dc94c6-1c7c-11ec-a3a0-16262ee38c7f</td>\n",
       "      <td>DRUG_TYPE_0 PRIMARY_DIAGNOSIS DRUG_TYPE_7 DRUG...</td>\n",
       "      <td>0</td>\n",
       "      <td>98</td>\n",
       "      <td>DRUG_TYPE_0 PRIMARY_DIAGNOSIS DRUG_TYPE_7 DRUG...</td>\n",
       "      <td>[0, 0, 0, 0, 1, 13, 0, 0, 0, 0, 0, 0, 48, 51, ...</td>\n",
       "    </tr>\n",
       "    <tr>\n",
       "      <th>3</th>\n",
       "      <td>a0dc950b-1c7c-11ec-b6ec-16262ee38c7f</td>\n",
       "      <td>DRUG_TYPE_0 DRUG_TYPE_7 DRUG_TYPE_2 PRIMARY_DI...</td>\n",
       "      <td>0</td>\n",
       "      <td>109</td>\n",
       "      <td>DRUG_TYPE_0 DRUG_TYPE_7 DRUG_TYPE_2 PRIMARY_DI...</td>\n",
       "      <td>[0, 62, 0, 17, 9, 0, 46, 48, 44, 20, 5, 0, 0, ...</td>\n",
       "    </tr>\n",
       "    <tr>\n",
       "      <th>4</th>\n",
       "      <td>a0dc9543-1c7c-11ec-bb63-16262ee38c7f</td>\n",
       "      <td>DRUG_TYPE_1 TEST_TYPE_1 SYMPTOM_TYPE_8 DRUG_TY...</td>\n",
       "      <td>0</td>\n",
       "      <td>244</td>\n",
       "      <td>DRUG_TYPE_1 TEST_TYPE_1 SYMPTOM_TYPE_8 DRUG_TY...</td>\n",
       "      <td>[10, 8, 10, 6, 17, 0, 3, 2, 2, 5, 0, 0, 5, 7, ...</td>\n",
       "    </tr>\n",
       "  </tbody>\n",
       "</table>\n",
       "</div>"
      ],
      "text/plain": [
       "                            Patient-Uid  \\\n",
       "0  a0db1e73-1c7c-11ec-ae39-16262ee38c7f   \n",
       "1  a0dc93f2-1c7c-11ec-9cd2-16262ee38c7f   \n",
       "2  a0dc94c6-1c7c-11ec-a3a0-16262ee38c7f   \n",
       "3  a0dc950b-1c7c-11ec-b6ec-16262ee38c7f   \n",
       "4  a0dc9543-1c7c-11ec-bb63-16262ee38c7f   \n",
       "\n",
       "                                       Incident_text  Class_Label  \\\n",
       "0  DRUG_TYPE_7 SYMPTOM_TYPE_2 DRUG_TYPE_7 SYMPTOM...            0   \n",
       "1  DRUG_TYPE_0 DRUG_TYPE_2 DRUG_TYPE_0 PRIMARY_DI...            0   \n",
       "2  DRUG_TYPE_0 PRIMARY_DIAGNOSIS DRUG_TYPE_7 DRUG...            0   \n",
       "3  DRUG_TYPE_0 DRUG_TYPE_7 DRUG_TYPE_2 PRIMARY_DI...            0   \n",
       "4  DRUG_TYPE_1 TEST_TYPE_1 SYMPTOM_TYPE_8 DRUG_TY...            0   \n",
       "\n",
       "   cutoff_indices                     Incident_text_till_target_drug  \\\n",
       "0              96  DRUG_TYPE_7 SYMPTOM_TYPE_2 DRUG_TYPE_7 SYMPTOM...   \n",
       "1             109  DRUG_TYPE_0 DRUG_TYPE_2 DRUG_TYPE_0 PRIMARY_DI...   \n",
       "2              98  DRUG_TYPE_0 PRIMARY_DIAGNOSIS DRUG_TYPE_7 DRUG...   \n",
       "3             109  DRUG_TYPE_0 DRUG_TYPE_7 DRUG_TYPE_2 PRIMARY_DI...   \n",
       "4             244  DRUG_TYPE_1 TEST_TYPE_1 SYMPTOM_TYPE_8 DRUG_TY...   \n",
       "\n",
       "                                 Time_based_features  \n",
       "0  [934, 19, 205, 0, 0, 0, 0, 1, 0, 8, 0, 53, 6, ...  \n",
       "1  [2, 0, 32, 1, 0, 1, 0, 0, 0, 0, 59, 0, 0, 8, 3...  \n",
       "2  [0, 0, 0, 0, 1, 13, 0, 0, 0, 0, 0, 0, 48, 51, ...  \n",
       "3  [0, 62, 0, 17, 9, 0, 46, 48, 44, 20, 5, 0, 0, ...  \n",
       "4  [10, 8, 10, 6, 17, 0, 3, 2, 2, 5, 0, 0, 5, 7, ...  "
      ]
     },
     "execution_count": 2,
     "metadata": {},
     "output_type": "execute_result"
    }
   ],
   "source": [
    "updated_groups.head()"
   ]
  },
  {
   "cell_type": "markdown",
   "metadata": {},
   "source": [
    "### Now perform the train test split"
   ]
  },
  {
   "cell_type": "code",
   "execution_count": 3,
   "metadata": {},
   "outputs": [],
   "source": [
    "from sklearn.model_selection import train_test_split\n",
    "X = updated_groups.drop(columns='Class_Label')\n",
    "y = updated_groups['Class_Label']\n",
    "\n",
    "X_train, X_val, y_train, y_val = train_test_split(X, y, test_size=0.2, random_state=42, stratify=y)"
   ]
  },
  {
   "cell_type": "code",
   "execution_count": 4,
   "metadata": {},
   "outputs": [
    {
     "data": {
      "text/html": [
       "<div>\n",
       "<style scoped>\n",
       "    .dataframe tbody tr th:only-of-type {\n",
       "        vertical-align: middle;\n",
       "    }\n",
       "\n",
       "    .dataframe tbody tr th {\n",
       "        vertical-align: top;\n",
       "    }\n",
       "\n",
       "    .dataframe thead th {\n",
       "        text-align: right;\n",
       "    }\n",
       "</style>\n",
       "<table border=\"1\" class=\"dataframe\">\n",
       "  <thead>\n",
       "    <tr style=\"text-align: right;\">\n",
       "      <th></th>\n",
       "      <th>Patient-Uid</th>\n",
       "      <th>Incident_text</th>\n",
       "      <th>cutoff_indices</th>\n",
       "      <th>Incident_text_till_target_drug</th>\n",
       "      <th>Time_based_features</th>\n",
       "    </tr>\n",
       "  </thead>\n",
       "  <tbody>\n",
       "    <tr>\n",
       "      <th>26884</th>\n",
       "      <td>a0f0b8aa-1c7c-11ec-bceb-16262ee38c7f</td>\n",
       "      <td>TEST_TYPE_1 DRUG_TYPE_0 TEST_TYPE_1 TEST_TYPE_...</td>\n",
       "      <td>50</td>\n",
       "      <td>TEST_TYPE_1 DRUG_TYPE_0 TEST_TYPE_1 TEST_TYPE_...</td>\n",
       "      <td>[23, 217, 4, 11, 0, 0, 21, 0, 2, 24, 42, 8, 76...</td>\n",
       "    </tr>\n",
       "    <tr>\n",
       "      <th>3139</th>\n",
       "      <td>a0deedc9-1c7c-11ec-997a-16262ee38c7f</td>\n",
       "      <td>DRUG_TYPE_0 DRUG_TYPE_6 DRUG_TYPE_1 DRUG_TYPE_...</td>\n",
       "      <td>102</td>\n",
       "      <td>DRUG_TYPE_0 DRUG_TYPE_6 DRUG_TYPE_1 DRUG_TYPE_...</td>\n",
       "      <td>[60, 0, 0, 25, 0, 1, 1, 6, 0, 0, 0, 0, 0, 0, 2...</td>\n",
       "    </tr>\n",
       "    <tr>\n",
       "      <th>25383</th>\n",
       "      <td>a0ef9cc9-1c7c-11ec-85ea-16262ee38c7f</td>\n",
       "      <td>DRUG_TYPE_7 DRUG_TYPE_7 DRUG_TYPE_7 DRUG_TYPE_...</td>\n",
       "      <td>74</td>\n",
       "      <td>DRUG_TYPE_7 DRUG_TYPE_7 DRUG_TYPE_7 DRUG_TYPE_...</td>\n",
       "      <td>[89, 63, 35, 27, 27, 24, 148, 13, 0, 56, 75, 7...</td>\n",
       "    </tr>\n",
       "    <tr>\n",
       "      <th>7260</th>\n",
       "      <td>a0e2018f-1c7c-11ec-acf5-16262ee38c7f</td>\n",
       "      <td>DRUG_TYPE_6 DRUG_TYPE_6 PRIMARY_DIAGNOSIS TEST...</td>\n",
       "      <td>77</td>\n",
       "      <td>DRUG_TYPE_6 DRUG_TYPE_6 PRIMARY_DIAGNOSIS TEST...</td>\n",
       "      <td>[41, 16, 0, 1, 44, 38, 0, 5, 10, 34, 48, 0, 5,...</td>\n",
       "    </tr>\n",
       "    <tr>\n",
       "      <th>6220</th>\n",
       "      <td>a0e13d1e-1c7c-11ec-8138-16262ee38c7f</td>\n",
       "      <td>DRUG_TYPE_2 PRIMARY_DIAGNOSIS DRUG_TYPE_6 DRUG...</td>\n",
       "      <td>134</td>\n",
       "      <td>DRUG_TYPE_2 PRIMARY_DIAGNOSIS DRUG_TYPE_6 DRUG...</td>\n",
       "      <td>[232, 93, 0, 0, 0, 0, 0, 36, 24, 39, 23, 18, 1...</td>\n",
       "    </tr>\n",
       "  </tbody>\n",
       "</table>\n",
       "</div>"
      ],
      "text/plain": [
       "                                Patient-Uid  \\\n",
       "26884  a0f0b8aa-1c7c-11ec-bceb-16262ee38c7f   \n",
       "3139   a0deedc9-1c7c-11ec-997a-16262ee38c7f   \n",
       "25383  a0ef9cc9-1c7c-11ec-85ea-16262ee38c7f   \n",
       "7260   a0e2018f-1c7c-11ec-acf5-16262ee38c7f   \n",
       "6220   a0e13d1e-1c7c-11ec-8138-16262ee38c7f   \n",
       "\n",
       "                                           Incident_text  cutoff_indices  \\\n",
       "26884  TEST_TYPE_1 DRUG_TYPE_0 TEST_TYPE_1 TEST_TYPE_...              50   \n",
       "3139   DRUG_TYPE_0 DRUG_TYPE_6 DRUG_TYPE_1 DRUG_TYPE_...             102   \n",
       "25383  DRUG_TYPE_7 DRUG_TYPE_7 DRUG_TYPE_7 DRUG_TYPE_...              74   \n",
       "7260   DRUG_TYPE_6 DRUG_TYPE_6 PRIMARY_DIAGNOSIS TEST...              77   \n",
       "6220   DRUG_TYPE_2 PRIMARY_DIAGNOSIS DRUG_TYPE_6 DRUG...             134   \n",
       "\n",
       "                          Incident_text_till_target_drug  \\\n",
       "26884  TEST_TYPE_1 DRUG_TYPE_0 TEST_TYPE_1 TEST_TYPE_...   \n",
       "3139   DRUG_TYPE_0 DRUG_TYPE_6 DRUG_TYPE_1 DRUG_TYPE_...   \n",
       "25383  DRUG_TYPE_7 DRUG_TYPE_7 DRUG_TYPE_7 DRUG_TYPE_...   \n",
       "7260   DRUG_TYPE_6 DRUG_TYPE_6 PRIMARY_DIAGNOSIS TEST...   \n",
       "6220   DRUG_TYPE_2 PRIMARY_DIAGNOSIS DRUG_TYPE_6 DRUG...   \n",
       "\n",
       "                                     Time_based_features  \n",
       "26884  [23, 217, 4, 11, 0, 0, 21, 0, 2, 24, 42, 8, 76...  \n",
       "3139   [60, 0, 0, 25, 0, 1, 1, 6, 0, 0, 0, 0, 0, 0, 2...  \n",
       "25383  [89, 63, 35, 27, 27, 24, 148, 13, 0, 56, 75, 7...  \n",
       "7260   [41, 16, 0, 1, 44, 38, 0, 5, 10, 34, 48, 0, 5,...  \n",
       "6220   [232, 93, 0, 0, 0, 0, 0, 36, 24, 39, 23, 18, 1...  "
      ]
     },
     "execution_count": 4,
     "metadata": {},
     "output_type": "execute_result"
    }
   ],
   "source": [
    "X_train.head()"
   ]
  },
  {
   "cell_type": "code",
   "execution_count": 5,
   "metadata": {},
   "outputs": [
    {
     "name": "stdout",
     "output_type": "stream",
     "text": [
      "(21625, 1645)\n"
     ]
    }
   ],
   "source": [
    "import tensorflow as tf\n",
    "\n",
    "tokenizer = tf.keras.preprocessing.text.Tokenizer(filters='',lower=False, split=\" \")\n",
    "\n",
    "# Fitting tokenizer on the text data\n",
    "tokenizer.fit_on_texts(X_train['Incident_text_till_target_drug'].values)\n",
    "\n",
    "# Encoding the text and applying front-side padding\n",
    "X_train_encoded = tokenizer.texts_to_sequences(X_train['Incident_text_till_target_drug'].values)\n",
    "X_train_padded = tf.keras.preprocessing.sequence.pad_sequences(X_train_encoded, padding='pre')\n",
    "\n",
    "# Displaying the final dataset shape\n",
    "print(X_train_padded.shape)"
   ]
  },
  {
   "cell_type": "markdown",
   "metadata": {},
   "source": [
    "Save the tokenizer for the later use for the test data"
   ]
  },
  {
   "cell_type": "code",
   "execution_count": 34,
   "metadata": {},
   "outputs": [
    {
     "name": "stdout",
     "output_type": "stream",
     "text": [
      "Tokenizer saved to tokenizer.pkl\n"
     ]
    }
   ],
   "source": [
    "import joblib\n",
    "# Define the path where you want to save the vectorizer\n",
    "Tokenizer_path = 'tokenizer.pkl'\n",
    "\n",
    "# Save the vectorizer to a file using joblib\n",
    "joblib.dump(tokenizer, Tokenizer_path)\n",
    "\n",
    "print(f\"Tokenizer saved to {Tokenizer_path}\")"
   ]
  },
  {
   "cell_type": "code",
   "execution_count": 6,
   "metadata": {},
   "outputs": [
    {
     "name": "stdout",
     "output_type": "stream",
     "text": [
      "(5407, 1645)\n"
     ]
    }
   ],
   "source": [
    "# Encoding the text and applying front-side padding\n",
    "X_val_encoded = tokenizer.texts_to_sequences(X_val['Incident_text_till_target_drug'].values)\n",
    "X_val_padded = tf.keras.preprocessing.sequence.pad_sequences(X_val_encoded, padding='pre', maxlen=1645)\n",
    "\n",
    "# Displaying the final dataset shape\n",
    "print(X_val_padded.shape)"
   ]
  },
  {
   "cell_type": "markdown",
   "metadata": {},
   "source": [
    "### 2. Frequency based features: How many times a particular test or drug , is administered through out their tenure. Here to measure the frequency we have the perfect feature transform tf-idf vectorization."
   ]
  },
  {
   "cell_type": "code",
   "execution_count": 7,
   "metadata": {},
   "outputs": [
    {
     "data": {
      "text/plain": [
       "array(['DRUG_TYPE_0', 'DRUG_TYPE_0 DRUG_TYPE_0',\n",
       "       'DRUG_TYPE_0 DRUG_TYPE_0 DRUG_TYPE_0',\n",
       "       'DRUG_TYPE_0 DRUG_TYPE_0 DRUG_TYPE_0 DRUG_TYPE_0',\n",
       "       'DRUG_TYPE_0 DRUG_TYPE_0 DRUG_TYPE_0 DRUG_TYPE_1',\n",
       "       'DRUG_TYPE_0 DRUG_TYPE_0 DRUG_TYPE_0 DRUG_TYPE_2',\n",
       "       'DRUG_TYPE_0 DRUG_TYPE_0 DRUG_TYPE_0 DRUG_TYPE_6',\n",
       "       'DRUG_TYPE_0 DRUG_TYPE_0 DRUG_TYPE_0 PRIMARY_DIAGNOSIS',\n",
       "       'DRUG_TYPE_0 DRUG_TYPE_0 DRUG_TYPE_1',\n",
       "       'DRUG_TYPE_0 DRUG_TYPE_0 DRUG_TYPE_1 DRUG_TYPE_0'], dtype=object)"
      ]
     },
     "execution_count": 7,
     "metadata": {},
     "output_type": "execute_result"
    }
   ],
   "source": [
    "from sklearn.feature_extraction.text import TfidfVectorizer\n",
    "\n",
    "vectorizer = TfidfVectorizer(ngram_range=(1,4), lowercase=False, max_features=1000)\n",
    "vectorizer.fit(X_train['Incident_text_till_target_drug'].values) # fit has to happen only on train data\n",
    "\n",
    "vectorizer.get_feature_names_out()[:10]"
   ]
  },
  {
   "cell_type": "code",
   "execution_count": 8,
   "metadata": {},
   "outputs": [
    {
     "name": "stdout",
     "output_type": "stream",
     "text": [
      "(21625, 1000) (5407, 1000)\n"
     ]
    }
   ],
   "source": [
    "X_train_tfidf = vectorizer.transform(X_train['Incident_text_till_target_drug'].values)\n",
    "X_val_tfidf = vectorizer.transform(X_val['Incident_text_till_target_drug'].values)\n",
    "\n",
    "print(X_train_tfidf.shape, X_val_tfidf.shape)"
   ]
  },
  {
   "cell_type": "markdown",
   "metadata": {},
   "source": [
    "Save the tf-idf vectorizer for later use for test data"
   ]
  },
  {
   "cell_type": "code",
   "execution_count": 35,
   "metadata": {},
   "outputs": [
    {
     "name": "stdout",
     "output_type": "stream",
     "text": [
      "TF-IDF Vectorizer saved to tfidf_vectorizer.pkl\n"
     ]
    }
   ],
   "source": [
    "import joblib\n",
    "\n",
    "# Define the path where you want to save the vectorizer\n",
    "vectorizer_path = 'tfidf_vectorizer.pkl'\n",
    "\n",
    "# Save the vectorizer to a file using joblib\n",
    "joblib.dump(vectorizer, vectorizer_path)\n",
    "\n",
    "print(f\"TF-IDF Vectorizer saved to {vectorizer_path}\")\n"
   ]
  },
  {
   "cell_type": "markdown",
   "metadata": {},
   "source": [
    "## MODEL BUILDING\n",
    "\n",
    "Here we are taking 3 kinds of inputs for the 3 kinds of features that we have at our hand."
   ]
  },
  {
   "cell_type": "markdown",
   "metadata": {},
   "source": [
    "#### PART-1 LSTM with time based arrangment of the incidents and taking only the incidents before target_drug for the positive data points"
   ]
  },
  {
   "cell_type": "code",
   "execution_count": 9,
   "metadata": {},
   "outputs": [],
   "source": [
    "input_layer_1=tf.keras.layers.Input(shape=X_train_padded.shape[1], name=\"Input layer for LSTM based features\")\n",
    "embedding=tf.keras.layers.Embedding(input_dim=len(tokenizer.word_index) + 1, output_dim=128, input_length=X_train_padded.shape[1], name=\"embedding_layer_1\")(input_layer_1)\n",
    "lstm_layer_1 = tf.keras.layers.LSTM(64, return_sequences=True, name=\"lstm_layer_1\")(embedding)\n",
    "flat_1=tf.keras.layers.Flatten(name=\"flatten_layer_1\")(lstm_layer_1)"
   ]
  },
  {
   "cell_type": "markdown",
   "metadata": {},
   "source": [
    "#### PART-2 Time based features for gaps between the drugs administered to each of the patients "
   ]
  },
  {
   "cell_type": "code",
   "execution_count": 10,
   "metadata": {},
   "outputs": [],
   "source": [
    "input_layer_2=tf.keras.layers.Input(shape=len(X_train['Time_based_features'][0]),name='Input layer for Time based features')\n",
    "embedding=tf.keras.layers.Embedding(input_dim=len(tokenizer.word_index) + 1, output_dim=128, input_length=len(X_train['Time_based_features'][0]), name='embedding_layer_2')(input_layer_2)\n",
    "lstm_layer_2 = tf.keras.layers.LSTM(64, return_sequences=True, name='lstm_layer_2')(embedding)\n",
    "flat_2=tf.keras.layers.Flatten(name=\"flatten_layer_2\")(lstm_layer_2)"
   ]
  },
  {
   "cell_type": "markdown",
   "metadata": {},
   "source": [
    "#### PART-3 Frequency Based features for counting how frequent each drug was administered to each patient/ symptom / diagnosis etc"
   ]
  },
  {
   "cell_type": "code",
   "execution_count": 11,
   "metadata": {},
   "outputs": [],
   "source": [
    "input_layer_3 =tf.keras.layers.Input(shape=(X_train_tfidf.shape[1],), name=\" Input layer for frequency based features\")\n",
    "dense_0= tf.keras.layers.Dense(256, activation='relu', name='Dense_for_tfidf_input')(input_layer_3)"
   ]
  },
  {
   "cell_type": "markdown",
   "metadata": {},
   "source": [
    "#### PART-4 Concatenating all different input layers"
   ]
  },
  {
   "cell_type": "code",
   "execution_count": 12,
   "metadata": {},
   "outputs": [],
   "source": [
    "added_tensor_1=tf.keras.layers.concatenate([flat_1,flat_2,dense_0], axis=1)"
   ]
  },
  {
   "cell_type": "markdown",
   "metadata": {},
   "source": [
    "#### Finally build the model by adding additional dense layer to the concatenated layer "
   ]
  },
  {
   "cell_type": "code",
   "execution_count": 13,
   "metadata": {},
   "outputs": [],
   "source": [
    "from keras.regularizers import l2\n",
    "from keras.models import Model\n",
    "from keras.layers import Dense, Dropout\n",
    "\n",
    "dense_1 = Dense(256,activation='relu',kernel_initializer=tf.keras.initializers.HeNormal(),kernel_regularizer=l2(0.0001),name='Dense_layer_after_concat')(added_tensor_1)\n",
    "drop_1= Dropout(0.5, name=\"drop_1\")(dense_1)\n",
    "dense_2 = Dense(128,activation='relu', kernel_initializer=tf.keras.initializers.HeNormal(),kernel_regularizer=l2(0.0001),name='Dense_2')(drop_1)\n",
    "drop_2= Dropout(0.5, name=\"drop_2\")(dense_2)\n",
    "dense_3 = Dense(64,activation='relu', kernel_initializer=tf.keras.initializers.HeNormal(),kernel_regularizer=l2(0.0001),name='Dense_3')(drop_2)\n",
    "output = Dense(1,activation='sigmoid', name= 'output_layer_for_binary_classification')(dense_3)"
   ]
  },
  {
   "cell_type": "code",
   "execution_count": 14,
   "metadata": {},
   "outputs": [
    {
     "name": "stdout",
     "output_type": "stream",
     "text": [
      "Model: \"model\"\n",
      "__________________________________________________________________________________________________\n",
      " Layer (type)                   Output Shape         Param #     Connected to                     \n",
      "==================================================================================================\n",
      " Input layer for LSTM based fea  [(None, 1645)]      0           []                               \n",
      " tures (InputLayer)                                                                               \n",
      "                                                                                                  \n",
      " Input layer for Time based fea  [(None, 4958)]      0           []                               \n",
      " tures (InputLayer)                                                                               \n",
      "                                                                                                  \n",
      " embedding_layer_1 (Embedding)  (None, 1645, 128)    7296        ['Input layer for LSTM based feat\n",
      "                                                                 ures[0][0]']                     \n",
      "                                                                                                  \n",
      " embedding_layer_2 (Embedding)  (None, 4958, 128)    7296        ['Input layer for Time based feat\n",
      "                                                                 ures[0][0]']                     \n",
      "                                                                                                  \n",
      " lstm_layer_1 (LSTM)            (None, 1645, 64)     49408       ['embedding_layer_1[0][0]']      \n",
      "                                                                                                  \n",
      " lstm_layer_2 (LSTM)            (None, 4958, 64)     49408       ['embedding_layer_2[0][0]']      \n",
      "                                                                                                  \n",
      "  Input layer for frequency bas  [(None, 1000)]      0           []                               \n",
      " ed features (InputLayer)                                                                         \n",
      "                                                                                                  \n",
      " flatten_layer_1 (Flatten)      (None, 105280)       0           ['lstm_layer_1[0][0]']           \n",
      "                                                                                                  \n",
      " flatten_layer_2 (Flatten)      (None, 317312)       0           ['lstm_layer_2[0][0]']           \n",
      "                                                                                                  \n",
      " Dense_for_tfidf_input (Dense)  (None, 256)          256256      [' Input layer for frequency base\n",
      "                                                                 d features[0][0]']               \n",
      "                                                                                                  \n",
      " concatenate (Concatenate)      (None, 422848)       0           ['flatten_layer_1[0][0]',        \n",
      "                                                                  'flatten_layer_2[0][0]',        \n",
      "                                                                  'Dense_for_tfidf_input[0][0]']  \n",
      "                                                                                                  \n",
      " Dense_layer_after_concat (Dens  (None, 256)         108249344   ['concatenate[0][0]']            \n",
      " e)                                                                                               \n",
      "                                                                                                  \n",
      " drop_1 (Dropout)               (None, 256)          0           ['Dense_layer_after_concat[0][0]'\n",
      "                                                                 ]                                \n",
      "                                                                                                  \n",
      " Dense_2 (Dense)                (None, 128)          32896       ['drop_1[0][0]']                 \n",
      "                                                                                                  \n",
      " drop_2 (Dropout)               (None, 128)          0           ['Dense_2[0][0]']                \n",
      "                                                                                                  \n",
      " Dense_3 (Dense)                (None, 64)           8256        ['drop_2[0][0]']                 \n",
      "                                                                                                  \n",
      " output_layer_for_binary_classi  (None, 1)           65          ['Dense_3[0][0]']                \n",
      " fication (Dense)                                                                                 \n",
      "                                                                                                  \n",
      "==================================================================================================\n",
      "Total params: 108,660,225\n",
      "Trainable params: 108,660,225\n",
      "Non-trainable params: 0\n",
      "__________________________________________________________________________________________________\n"
     ]
    }
   ],
   "source": [
    "#put all the input layers in a list format\n",
    "input_layers = [input_layer_1, input_layer_2, input_layer_3]\n",
    "\n",
    "#define the model\n",
    "model= Model(inputs= input_layers, outputs=output)\n",
    "\n",
    "#print the model summary\n",
    "model.summary()"
   ]
  },
  {
   "cell_type": "markdown",
   "metadata": {},
   "source": [
    "### Model Architecture Diagram"
   ]
  },
  {
   "cell_type": "code",
   "execution_count": 15,
   "metadata": {},
   "outputs": [
    {
     "data": {
      "image/png": "[encoded data removed]",
      "text/plain": [
       "<IPython.core.display.Image object>"
      ]
     },
     "execution_count": 15,
     "metadata": {},
     "output_type": "execute_result"
    }
   ],
   "source": [
    "#plot the model and save the model image\n",
    "import keras \n",
    "dot_img_file = 'model.png'\n",
    "keras.utils.vis_utils.plot_model(model, to_file=dot_img_file, show_shapes=True)"
   ]
  },
  {
   "cell_type": "markdown",
   "metadata": {},
   "source": [
    "### Get all the inputs to the required format"
   ]
  },
  {
   "cell_type": "markdown",
   "metadata": {},
   "source": [
    "Here the format of the gap history is like lists inside in array instead of a 2d array, so this will give error with the tensorflow while training, so we convert it in to a proper 2d array.\n",
    "* Importing the csv file also converted our integer list to string, so we need to convert it back"
   ]
  },
  {
   "cell_type": "code",
   "execution_count": 16,
   "metadata": {},
   "outputs": [
    {
     "name": "stdout",
     "output_type": "stream",
     "text": [
      "[[ 23 217   4 ...   0   0   0]\n",
      " [ 60   0   0 ...   0   0   0]\n",
      " [ 89  63  35 ...   0   0   0]\n",
      " ...\n",
      " [  0  20  16 ...   0   0   0]\n",
      " [ 58  37 145 ...   0   0   0]\n",
      " [ 21   8  19 ...   0   0   0]]\n",
      "(21625, 1645)\n"
     ]
    }
   ],
   "source": [
    "import numpy as np\n",
    "import ast\n",
    "\n",
    "# Convert it to the desired format\n",
    "Time_based_X_train = np.array([np.array(ast.literal_eval(sublist)) for sublist in X_train['Time_based_features'].values])\n",
    "\n",
    "# Print the new array\n",
    "print(Time_based_X_train)\n",
    "print(Time_based_X_train.shape)"
   ]
  },
  {
   "cell_type": "code",
   "execution_count": 17,
   "metadata": {},
   "outputs": [
    {
     "name": "stdout",
     "output_type": "stream",
     "text": [
      "<class 'numpy.ndarray'>\n"
     ]
    }
   ],
   "source": [
    "print(type(Time_based_X_train[0]))"
   ]
  },
  {
   "cell_type": "code",
   "execution_count": 18,
   "metadata": {},
   "outputs": [
    {
     "name": "stdout",
     "output_type": "stream",
     "text": [
      "[[10 21 34 ...  0  0  0]\n",
      " [ 8 20 21 ...  0  0  0]\n",
      " [ 0  2  0 ...  0  0  0]\n",
      " ...\n",
      " [ 0  0  0 ...  0  0  0]\n",
      " [11 26  5 ...  0  0  0]\n",
      " [13  6  0 ...  0  0  0]]\n",
      "(5407, 1645)\n"
     ]
    }
   ],
   "source": [
    "# Convert it to the desired format\n",
    "Time_based_X_val = np.array([np.array(ast.literal_eval(sublist)) for sublist in X_val['Time_based_features'].values])\n",
    "\n",
    "# Print the new array\n",
    "print(Time_based_X_val)\n",
    "print(Time_based_X_val.shape)"
   ]
  },
  {
   "cell_type": "code",
   "execution_count": 19,
   "metadata": {},
   "outputs": [],
   "source": [
    "import numpy as np\n",
    "#get the inputs in the required format\n",
    "train_X=[X_train_padded,Time_based_X_train,X_train_tfidf.toarray()]\n",
    "test_X=[X_val_padded,Time_based_X_val, X_val_tfidf.toarray()]\n",
    "\n",
    "#get the outputs in the required format\n",
    "train_y=y_train.values\n",
    "test_y=y_val.values"
   ]
  },
  {
   "cell_type": "code",
   "execution_count": 20,
   "metadata": {},
   "outputs": [
    {
     "data": {
      "text/plain": [
       "array([1, 0, 1, ..., 0, 0, 1], dtype=int64)"
      ]
     },
     "execution_count": 20,
     "metadata": {},
     "output_type": "execute_result"
    }
   ],
   "source": [
    "train_y"
   ]
  },
  {
   "cell_type": "markdown",
   "metadata": {},
   "source": [
    "#### Define all the necessary callbacks\n"
   ]
  },
  {
   "cell_type": "code",
   "execution_count": 276,
   "metadata": {},
   "outputs": [],
   "source": [
    "import tensorflow as tf\n",
    "import os\n",
    "import datetime\n",
    "from keras.callbacks import EarlyStopping, ModelCheckpoint, TensorBoard\n",
    "\n",
    "from sklearn.metrics import f1_score\n",
    "\n",
    "class LossHistory(tf.keras.callbacks.Callback):\n",
    "    \n",
    "    def __init__(self,validation_data):\n",
    "      self.x_test = validation_data[0]\n",
    "      self.y_test= validation_data[1]\n",
    "      \n",
    "    def on_train_begin(self, logs={}):\n",
    "        ## on begin of training, we are creating a instance varible called history\n",
    "        ## it is a dict with keys [loss, acc, val_loss, val_acc]\n",
    "        self.history={'loss': [],'accuracy': [],'val_loss': [],'val_accuracy': [],'val_f1': []}\n",
    "        \n",
    "    def on_epoch_end(self, epoch, logs={}):\n",
    "        ## on end of each epoch, we will get logs and update the self.history dict\n",
    "        self.history['loss'].append(logs.get('loss'))\n",
    "        self.history['accuracy'].append(logs.get('accuracy'))\n",
    "      \n",
    "        if logs.get('val_loss', -1) != -1:\n",
    "            self.history['val_loss'].append(logs.get('val_loss'))\n",
    "        if logs.get('val_accuracy', -1) != -1:\n",
    "            self.history['val_accuracy'].append(logs.get('val_accuracy'))\n",
    "        \n",
    "        # we can get a list of all predicted values at the end of the epoch\n",
    "        # we can use these predicted value and the true values to calculate any custom evaluation score if it is needed for our model\n",
    "        y_pred= self.model.predict(self.x_test)\n",
    "        y_label_pred= [1 if d>=0.5 else 0 for d in y_pred]\n",
    "        \n",
    "        #we can also calculate predefined metrics such as precison, recall, etc. using callbacks \n",
    "        f1 = f1_score(self.y_test, y_label_pred)\n",
    "        \n",
    "        self.history['val_f1'].append(f1)\n",
    "    \n",
    "        print('val_f1_score: ',np.round(f1,5))\n",
    "        \n",
    "history_own = LossHistory(validation_data=[test_X,test_y])\n",
    "\n",
    "#Add the required call backs\n",
    "log_dir = os.path.join(\"logs\",'fits', datetime.datetime.now().strftime(\"%Y%m%d-%H%M%S\"))\n",
    "tensorboard_callback = TensorBoard(log_dir=log_dir,histogram_freq=1,write_graph=True)\n",
    "earlystop = EarlyStopping(monitor=\"val_loss\",mode=\"auto\",patience=3,verbose=1)\n",
    "checkpt = ModelCheckpoint(monitor=\"val_loss\",mode=\"auto\",filepath='model_2.hdf5',verbose=1,save_best_only=True)\n",
    "\n",
    "callback_list = [earlystop, tensorboard_callback,checkpt, history_own]"
   ]
  },
  {
   "cell_type": "markdown",
   "metadata": {},
   "source": [
    "#### Train the model"
   ]
  },
  {
   "cell_type": "code",
   "execution_count": 277,
   "metadata": {},
   "outputs": [],
   "source": [
    "opt=tf.keras.optimizers.Adam(learning_rate=0.001)\n",
    "model.compile(loss='binary_crossentropy', optimizer=opt, metrics=['accuracy'])"
   ]
  },
  {
   "cell_type": "code",
   "execution_count": 278,
   "metadata": {},
   "outputs": [
    {
     "name": "stdout",
     "output_type": "stream",
     "text": [
      "Epoch 1/20\n",
      "1352/1352 [==============================] - ETA: 0s - loss: 0.5720 - accuracy: 0.8049\n",
      "Epoch 1: val_loss improved from inf to 0.47463, saving model to model_2.hdf5\n",
      "169/169 [==============================] - 15s 82ms/step\n",
      "val_f1_score:  0.71105\n",
      "1352/1352 [==============================] - 371s 267ms/step - loss: 0.5720 - accuracy: 0.8049 - val_loss: 0.4746 - val_accuracy: 0.8323\n",
      "Epoch 2/20\n",
      "1352/1352 [==============================] - ETA: 0s - loss: 0.4410 - accuracy: 0.8488\n",
      "Epoch 2: val_loss improved from 0.47463 to 0.42038, saving model to model_2.hdf5\n",
      "169/169 [==============================] - 14s 81ms/step\n",
      "val_f1_score:  0.80741\n",
      "1352/1352 [==============================] - 344s 254ms/step - loss: 0.4410 - accuracy: 0.8488 - val_loss: 0.4204 - val_accuracy: 0.8652\n",
      "Epoch 3/20\n",
      "1352/1352 [==============================] - ETA: 0s - loss: 0.3928 - accuracy: 0.8710\n",
      "Epoch 3: val_loss improved from 0.42038 to 0.37427, saving model to model_2.hdf5\n",
      "169/169 [==============================] - 14s 83ms/step\n",
      "val_f1_score:  0.80438\n",
      "1352/1352 [==============================] - 350s 259ms/step - loss: 0.3928 - accuracy: 0.8710 - val_loss: 0.3743 - val_accuracy: 0.8744\n",
      "Epoch 4/20\n",
      "1352/1352 [==============================] - ETA: 0s - loss: 0.3538 - accuracy: 0.8878\n",
      "Epoch 4: val_loss improved from 0.37427 to 0.35024, saving model to model_2.hdf5\n",
      "169/169 [==============================] - 14s 83ms/step\n",
      "val_f1_score:  0.83461\n",
      "1352/1352 [==============================] - 338s 250ms/step - loss: 0.3538 - accuracy: 0.8878 - val_loss: 0.3502 - val_accuracy: 0.8883\n",
      "Epoch 5/20\n",
      "1352/1352 [==============================] - ETA: 0s - loss: 0.3230 - accuracy: 0.9004\n",
      "Epoch 5: val_loss improved from 0.35024 to 0.34090, saving model to model_2.hdf5\n",
      "169/169 [==============================] - 16s 91ms/step\n",
      "val_f1_score:  0.82178\n",
      "1352/1352 [==============================] - 343s 254ms/step - loss: 0.3230 - accuracy: 0.9004 - val_loss: 0.3409 - val_accuracy: 0.8868\n",
      "Epoch 6/20\n",
      "1352/1352 [==============================] - ETA: 0s - loss: 0.2833 - accuracy: 0.9186\n",
      "Epoch 6: val_loss improved from 0.34090 to 0.33064, saving model to model_2.hdf5\n",
      "169/169 [==============================] - 16s 92ms/step\n",
      "val_f1_score:  0.85475\n",
      "1352/1352 [==============================] - 369s 273ms/step - loss: 0.2833 - accuracy: 0.9186 - val_loss: 0.3306 - val_accuracy: 0.8975\n",
      "Epoch 7/20\n",
      "1352/1352 [==============================] - ETA: 0s - loss: 0.2589 - accuracy: 0.9314\n",
      "Epoch 7: val_loss did not improve from 0.33064\n",
      "169/169 [==============================] - 16s 91ms/step\n",
      "val_f1_score:  0.8576\n",
      "1352/1352 [==============================] - 333s 246ms/step - loss: 0.2589 - accuracy: 0.9314 - val_loss: 0.3415 - val_accuracy: 0.9014\n",
      "Epoch 8/20\n",
      "1352/1352 [==============================] - ETA: 0s - loss: 0.2314 - accuracy: 0.9437\n",
      "Epoch 8: val_loss did not improve from 0.33064\n",
      "169/169 [==============================] - 15s 86ms/step\n",
      "val_f1_score:  0.85214\n",
      "1352/1352 [==============================] - 340s 252ms/step - loss: 0.2314 - accuracy: 0.9437 - val_loss: 0.3684 - val_accuracy: 0.8922\n",
      "Epoch 9/20\n",
      "1352/1352 [==============================] - ETA: 0s - loss: 0.2121 - accuracy: 0.9509\n",
      "Epoch 9: val_loss did not improve from 0.33064\n",
      "169/169 [==============================] - 15s 84ms/step\n",
      "val_f1_score:  0.85714\n",
      "1352/1352 [==============================] - 326s 241ms/step - loss: 0.2121 - accuracy: 0.9509 - val_loss: 0.3603 - val_accuracy: 0.9007\n",
      "Epoch 9: early stopping\n"
     ]
    },
    {
     "data": {
      "text/plain": [
       "<keras.callbacks.History at 0x14f8538c190>"
      ]
     },
     "execution_count": 278,
     "metadata": {},
     "output_type": "execute_result"
    }
   ],
   "source": [
    "model.fit(train_X, train_y, epochs=20, validation_data = (test_X,test_y), callbacks=callback_list, batch_size=16)"
   ]
  },
  {
   "cell_type": "markdown",
   "metadata": {},
   "source": [
    "Reduce the learning rate and train the model further"
   ]
  },
  {
   "cell_type": "code",
   "execution_count": 279,
   "metadata": {},
   "outputs": [
    {
     "name": "stdout",
     "output_type": "stream",
     "text": [
      "Epoch 1/20\n",
      "1352/1352 [==============================] - ETA: 0s - loss: 0.1353 - accuracy: 0.9761\n",
      "Epoch 1: val_loss did not improve from 0.33064\n",
      "169/169 [==============================] - 15s 82ms/step\n",
      "val_f1_score:  0.85816\n",
      "1352/1352 [==============================] - 330s 241ms/step - loss: 0.1353 - accuracy: 0.9761 - val_loss: 0.4210 - val_accuracy: 0.9040\n",
      "Epoch 2/20\n",
      "1352/1352 [==============================] - ETA: 0s - loss: 0.1118 - accuracy: 0.9818\n",
      "Epoch 2: val_loss did not improve from 0.33064\n",
      "169/169 [==============================] - 15s 84ms/step\n",
      "val_f1_score:  0.86156\n",
      "1352/1352 [==============================] - 332s 245ms/step - loss: 0.1118 - accuracy: 0.9818 - val_loss: 0.4576 - val_accuracy: 0.9023\n",
      "Epoch 3/20\n",
      "1352/1352 [==============================] - ETA: 0s - loss: 0.0975 - accuracy: 0.9869\n",
      "Epoch 3: val_loss did not improve from 0.33064\n",
      "169/169 [==============================] - 14s 83ms/step\n",
      "val_f1_score:  0.85877\n",
      "1352/1352 [==============================] - 335s 248ms/step - loss: 0.0975 - accuracy: 0.9869 - val_loss: 0.4654 - val_accuracy: 0.9036\n",
      "Epoch 4/20\n",
      "1352/1352 [==============================] - ETA: 0s - loss: 0.0850 - accuracy: 0.9905"
     ]
    }
   ],
   "source": [
    "opt=tf.keras.optimizers.Adam(learning_rate=0.0001)\n",
    "model.compile(loss='binary_crossentropy', optimizer=opt, metrics=['accuracy'])\n",
    "model.fit(train_X, train_y, epochs=20, validation_data = (test_X,test_y), callbacks=callback_list, batch_size=16)"
   ]
  },
  {
   "cell_type": "markdown",
   "metadata": {},
   "source": [
    "Here we can see there is no improvement in the performance of the model, Hence we take the final F1-score by loading the saved best model"
   ]
  },
  {
   "cell_type": "code",
   "execution_count": 21,
   "metadata": {},
   "outputs": [
    {
     "name": "stdout",
     "output_type": "stream",
     "text": [
      "Model: \"model_7\"\n",
      "__________________________________________________________________________________________________\n",
      " Layer (type)                   Output Shape         Param #     Connected to                     \n",
      "==================================================================================================\n",
      " Input layer for LSTM based fea  [(None, 1645)]      0           []                               \n",
      " tures (InputLayer)                                                                               \n",
      "                                                                                                  \n",
      " Input layer for frequency base  [(None, 1645)]      0           []                               \n",
      " d features (InputLayer)                                                                          \n",
      "                                                                                                  \n",
      " embedding_layer_1 (Embedding)  (None, 1645, 128)    7296        ['Input layer for LSTM based feat\n",
      "                                                                 ures[0][0]']                     \n",
      "                                                                                                  \n",
      " embedding_layer_2 (Embedding)  (None, 1645, 128)    7296        ['Input layer for frequency based\n",
      "                                                                  features[0][0]']                \n",
      "                                                                                                  \n",
      " lstm_layer_1 (LSTM)            (None, 1645, 64)     49408       ['embedding_layer_1[0][0]']      \n",
      "                                                                                                  \n",
      " lstm_layer_2 (LSTM)            (None, 1645, 64)     49408       ['embedding_layer_2[0][0]']      \n",
      "                                                                                                  \n",
      "  Input layer for frequency bas  [(None, 1000)]      0           []                               \n",
      " ed features (InputLayer)                                                                         \n",
      "                                                                                                  \n",
      " flatten_layer_1 (Flatten)      (None, 105280)       0           ['lstm_layer_1[0][0]']           \n",
      "                                                                                                  \n",
      " flatten_layer_2 (Flatten)      (None, 105280)       0           ['lstm_layer_2[0][0]']           \n",
      "                                                                                                  \n",
      " Dense_for_tfidf_input (Dense)  (None, 256)          256256      [' Input layer for frequency base\n",
      "                                                                 d features[0][0]']               \n",
      "                                                                                                  \n",
      " concatenate (Concatenate)      (None, 210816)       0           ['flatten_layer_1[0][0]',        \n",
      "                                                                  'flatten_layer_2[0][0]',        \n",
      "                                                                  'Dense_for_tfidf_input[0][0]']  \n",
      "                                                                                                  \n",
      " Dense_layer_after_concat (Dens  (None, 256)         53969152    ['concatenate[0][0]']            \n",
      " e)                                                                                               \n",
      "                                                                                                  \n",
      " drop_1 (Dropout)               (None, 256)          0           ['Dense_layer_after_concat[0][0]'\n",
      "                                                                 ]                                \n",
      "                                                                                                  \n",
      " Dense_2 (Dense)                (None, 128)          32896       ['drop_1[0][0]']                 \n",
      "                                                                                                  \n",
      " drop_2 (Dropout)               (None, 128)          0           ['Dense_2[0][0]']                \n",
      "                                                                                                  \n",
      " Dense_3 (Dense)                (None, 64)           8256        ['drop_2[0][0]']                 \n",
      "                                                                                                  \n",
      " output_layer_for_binary_classi  (None, 1)           65          ['Dense_3[0][0]']                \n",
      " fication (Dense)                                                                                 \n",
      "                                                                                                  \n",
      "==================================================================================================\n",
      "Total params: 54,380,033\n",
      "Trainable params: 54,380,033\n",
      "Non-trainable params: 0\n",
      "__________________________________________________________________________________________________\n"
     ]
    }
   ],
   "source": [
    "import tensorflow as tf \n",
    "\n",
    "# Define the path to your saved model\n",
    "model_path = 'model_2_ver_1.hdf5'\n",
    "\n",
    "# Load the model\n",
    "loaded_model = tf.keras.models.load_model(model_path)\n",
    "\n",
    "# Optionally, you can print a summary of the loaded model\n",
    "loaded_model.summary()"
   ]
  },
  {
   "cell_type": "markdown",
   "metadata": {},
   "source": [
    "### Print the final F1-score"
   ]
  },
  {
   "cell_type": "code",
   "execution_count": 23,
   "metadata": {},
   "outputs": [
    {
     "name": "stdout",
     "output_type": "stream",
     "text": [
      "169/169 [==============================] - 20s 83ms/step\n",
      "FINAL F1_SCORE =  0.854745673833246\n"
     ]
    }
   ],
   "source": [
    "from sklearn.metrics import f1_score\n",
    "\n",
    "y_pred= loaded_model.predict(test_X)\n",
    "y_label_pred= [1 if d>=0.5 else 0 for d in y_pred]\n",
    "\n",
    "#we can also calculate predefined metrics such as precison, recall, etc. using callbacks \n",
    "f1 = f1_score(test_y, y_label_pred)\n",
    "\n",
    "print(\"FINAL F1_SCORE = \",f1)"
   ]
  },
  {
   "cell_type": "markdown",
   "metadata": {},
   "source": [
    "### Pipeline for the actual test data"
   ]
  },
  {
   "cell_type": "markdown",
   "metadata": {},
   "source": [
    "1. 1st load the test dataset given"
   ]
  },
  {
   "cell_type": "code",
   "execution_count": 26,
   "metadata": {},
   "outputs": [
    {
     "data": {
      "text/html": [
       "<div>\n",
       "<style scoped>\n",
       "    .dataframe tbody tr th:only-of-type {\n",
       "        vertical-align: middle;\n",
       "    }\n",
       "\n",
       "    .dataframe tbody tr th {\n",
       "        vertical-align: top;\n",
       "    }\n",
       "\n",
       "    .dataframe thead th {\n",
       "        text-align: right;\n",
       "    }\n",
       "</style>\n",
       "<table border=\"1\" class=\"dataframe\">\n",
       "  <thead>\n",
       "    <tr style=\"text-align: right;\">\n",
       "      <th></th>\n",
       "      <th>Patient-Uid</th>\n",
       "      <th>Date</th>\n",
       "      <th>Incident</th>\n",
       "    </tr>\n",
       "  </thead>\n",
       "  <tbody>\n",
       "    <tr>\n",
       "      <th>0</th>\n",
       "      <td>a0f9e8a9-1c7c-11ec-8d25-16262ee38c7f</td>\n",
       "      <td>2016-12-08</td>\n",
       "      <td>SYMPTOM_TYPE_0</td>\n",
       "    </tr>\n",
       "    <tr>\n",
       "      <th>1</th>\n",
       "      <td>a0f9e8a9-1c7c-11ec-8d25-16262ee38c7f</td>\n",
       "      <td>2018-10-17</td>\n",
       "      <td>DRUG_TYPE_0</td>\n",
       "    </tr>\n",
       "    <tr>\n",
       "      <th>2</th>\n",
       "      <td>a0f9e8a9-1c7c-11ec-8d25-16262ee38c7f</td>\n",
       "      <td>2017-12-01</td>\n",
       "      <td>DRUG_TYPE_2</td>\n",
       "    </tr>\n",
       "    <tr>\n",
       "      <th>3</th>\n",
       "      <td>a0f9e8a9-1c7c-11ec-8d25-16262ee38c7f</td>\n",
       "      <td>2018-12-05</td>\n",
       "      <td>DRUG_TYPE_1</td>\n",
       "    </tr>\n",
       "    <tr>\n",
       "      <th>4</th>\n",
       "      <td>a0f9e8a9-1c7c-11ec-8d25-16262ee38c7f</td>\n",
       "      <td>2017-11-04</td>\n",
       "      <td>SYMPTOM_TYPE_0</td>\n",
       "    </tr>\n",
       "  </tbody>\n",
       "</table>\n",
       "</div>"
      ],
      "text/plain": [
       "                            Patient-Uid       Date        Incident\n",
       "0  a0f9e8a9-1c7c-11ec-8d25-16262ee38c7f 2016-12-08  SYMPTOM_TYPE_0\n",
       "1  a0f9e8a9-1c7c-11ec-8d25-16262ee38c7f 2018-10-17     DRUG_TYPE_0\n",
       "2  a0f9e8a9-1c7c-11ec-8d25-16262ee38c7f 2017-12-01     DRUG_TYPE_2\n",
       "3  a0f9e8a9-1c7c-11ec-8d25-16262ee38c7f 2018-12-05     DRUG_TYPE_1\n",
       "4  a0f9e8a9-1c7c-11ec-8d25-16262ee38c7f 2017-11-04  SYMPTOM_TYPE_0"
      ]
     },
     "execution_count": 26,
     "metadata": {},
     "output_type": "execute_result"
    }
   ],
   "source": [
    "import pandas as pd\n",
    "\n",
    "test_data = pd.read_parquet(\"Structured_Data_Assignment/test.parquet\")\n",
    "test_data.head()"
   ]
  },
  {
   "cell_type": "markdown",
   "metadata": {},
   "source": [
    "2. Seperate the individual patients in each group"
   ]
  },
  {
   "cell_type": "code",
   "execution_count": 28,
   "metadata": {},
   "outputs": [
    {
     "data": {
      "text/html": [
       "<div>\n",
       "<style scoped>\n",
       "    .dataframe tbody tr th:only-of-type {\n",
       "        vertical-align: middle;\n",
       "    }\n",
       "\n",
       "    .dataframe tbody tr th {\n",
       "        vertical-align: top;\n",
       "    }\n",
       "\n",
       "    .dataframe thead th {\n",
       "        text-align: right;\n",
       "    }\n",
       "</style>\n",
       "<table border=\"1\" class=\"dataframe\">\n",
       "  <thead>\n",
       "    <tr style=\"text-align: right;\">\n",
       "      <th></th>\n",
       "      <th>Patient-Uid</th>\n",
       "      <th>Incident_text</th>\n",
       "    </tr>\n",
       "  </thead>\n",
       "  <tbody>\n",
       "    <tr>\n",
       "      <th>0</th>\n",
       "      <td>a0f9e8a9-1c7c-11ec-8d25-16262ee38c7f</td>\n",
       "      <td>DRUG_TYPE_7 SYMPTOM_TYPE_0 TEST_TYPE_0 DRUG_TY...</td>\n",
       "    </tr>\n",
       "    <tr>\n",
       "      <th>1</th>\n",
       "      <td>a0f9e9f9-1c7c-11ec-b565-16262ee38c7f</td>\n",
       "      <td>PRIMARY_DIAGNOSIS DRUG_TYPE_2 DRUG_TYPE_6 DRUG...</td>\n",
       "    </tr>\n",
       "    <tr>\n",
       "      <th>2</th>\n",
       "      <td>a0f9ea43-1c7c-11ec-aa10-16262ee38c7f</td>\n",
       "      <td>DRUG_TYPE_1 DRUG_TYPE_6 DRUG_TYPE_1 DRUG_TYPE_...</td>\n",
       "    </tr>\n",
       "    <tr>\n",
       "      <th>3</th>\n",
       "      <td>a0f9ea7c-1c7c-11ec-af15-16262ee38c7f</td>\n",
       "      <td>DRUG_TYPE_6 PRIMARY_DIAGNOSIS DRUG_TYPE_3 DRUG...</td>\n",
       "    </tr>\n",
       "    <tr>\n",
       "      <th>4</th>\n",
       "      <td>a0f9eab1-1c7c-11ec-a732-16262ee38c7f</td>\n",
       "      <td>DRUG_TYPE_2 DRUG_TYPE_2 PRIMARY_DIAGNOSIS DRUG...</td>\n",
       "    </tr>\n",
       "  </tbody>\n",
       "</table>\n",
       "</div>"
      ],
      "text/plain": [
       "                            Patient-Uid  \\\n",
       "0  a0f9e8a9-1c7c-11ec-8d25-16262ee38c7f   \n",
       "1  a0f9e9f9-1c7c-11ec-b565-16262ee38c7f   \n",
       "2  a0f9ea43-1c7c-11ec-aa10-16262ee38c7f   \n",
       "3  a0f9ea7c-1c7c-11ec-af15-16262ee38c7f   \n",
       "4  a0f9eab1-1c7c-11ec-a732-16262ee38c7f   \n",
       "\n",
       "                                       Incident_text  \n",
       "0  DRUG_TYPE_7 SYMPTOM_TYPE_0 TEST_TYPE_0 DRUG_TY...  \n",
       "1  PRIMARY_DIAGNOSIS DRUG_TYPE_2 DRUG_TYPE_6 DRUG...  \n",
       "2  DRUG_TYPE_1 DRUG_TYPE_6 DRUG_TYPE_1 DRUG_TYPE_...  \n",
       "3  DRUG_TYPE_6 PRIMARY_DIAGNOSIS DRUG_TYPE_3 DRUG...  \n",
       "4  DRUG_TYPE_2 DRUG_TYPE_2 PRIMARY_DIAGNOSIS DRUG...  "
      ]
     },
     "execution_count": 28,
     "metadata": {},
     "output_type": "execute_result"
    }
   ],
   "source": [
    "# Converting the 'Date' column to datetime\n",
    "test_data['Date'] = pd.to_datetime(test_data['Date'])\n",
    "\n",
    "# Sorting the DataFrame by 'patient_id' and 'Date'\n",
    "test_data.sort_values(by=['Patient-Uid', 'Date'], inplace=True)\n",
    "\n",
    "# Grouping by 'patient_id' and aggregating 'Incident' column\n",
    "grouped = test_data.groupby('Patient-Uid')['Incident'].apply(lambda x: ' '.join(x)).reset_index()\n",
    "\n",
    "# Renaming the aggregated column\n",
    "grouped.rename(columns={'Incident': 'Incident_text'}, inplace=True)\n",
    "\n",
    "#display the converted dataframe\n",
    "grouped.head()"
   ]
  },
  {
   "cell_type": "markdown",
   "metadata": {},
   "source": [
    "3. Tokenize the data with the tokenizer that we have saved"
   ]
  },
  {
   "cell_type": "code",
   "execution_count": 36,
   "metadata": {},
   "outputs": [
    {
     "data": {
      "text/plain": [
       "(11482, 1645)"
      ]
     },
     "execution_count": 36,
     "metadata": {},
     "output_type": "execute_result"
    }
   ],
   "source": [
    "from tensorflow.keras.preprocessing.text import Tokenizer\n",
    "import joblib\n",
    "\n",
    "# Define the path to the saved tokenizer\n",
    "tokenizer_path = 'tokenizer.pkl'\n",
    "\n",
    "# Load the vectorizer from the file\n",
    "loaded_tokenizer = joblib.load(tokenizer_path)\n",
    "\n",
    "# Encoding the text and applying front-side padding for the validation data\n",
    "X_test_encoded = loaded_tokenizer.texts_to_sequences(grouped['Incident_text'].values)\n",
    "X_test_padded = tf.keras.preprocessing.sequence.pad_sequences(X_test_encoded, padding='pre', maxlen=1645)\n",
    "\n",
    "X_test_padded.shape"
   ]
  },
  {
   "cell_type": "markdown",
   "metadata": {},
   "source": [
    "4. Get the time gap features "
   ]
  },
  {
   "cell_type": "code",
   "execution_count": 41,
   "metadata": {},
   "outputs": [
    {
     "name": "stdout",
     "output_type": "stream",
     "text": [
      "11482\n",
      "11482 1645\n"
     ]
    }
   ],
   "source": [
    "import numpy as np\n",
    "\n",
    "groups_2= test_data.groupby('Patient-Uid')\n",
    "\n",
    "print(groups_2.ngroups)\n",
    "\n",
    "max_length=1645\n",
    "\n",
    "#This is the access the exact cutoff date index for each patient\n",
    "count=0\n",
    "\n",
    "#List to store the final gaps in days in the form of list of lists\n",
    "Time_based_features=[]\n",
    "\n",
    "incident_text_list = grouped['Incident_text'].values\n",
    "\n",
    "#Iterate through the records of each patient\n",
    "for group_name, group_data in groups_2:\n",
    "\n",
    "    #list to store the gap history of each patient\n",
    "    temp_list=[]\n",
    "\n",
    "    #Loop thorugh the patient history\n",
    "    for j in range(len(incident_text_list[count].split())-1):\n",
    "            #take the difference between the consecutive dates in days\n",
    "            temp_list.append((group_data[\"Date\"].iloc[j+1]-group_data[\"Date\"].iloc[j]).days)\n",
    "    #pad the gap vector with the max_length which we have seen above \n",
    "    temp_list.extend(list(np.zeros(shape=max_length-len(temp_list),dtype=int)))\n",
    "\n",
    "    #finally add all the patient gap histories in to a single list\n",
    "    Time_based_features.append(temp_list)\n",
    "    count+=1\n",
    "\n",
    "#check the shape of the obtained features\n",
    "print(len(Time_based_features),len(Time_based_features[0]))"
   ]
  },
  {
   "cell_type": "code",
   "execution_count": 43,
   "metadata": {},
   "outputs": [
    {
     "name": "stdout",
     "output_type": "stream",
     "text": [
      "[[168   0   0 ...   0   0   0]\n",
      " [  1  17   0 ...   0   0   0]\n",
      " [ 19  11  17 ...   0   0   0]\n",
      " ...\n",
      " [ 38  39  16 ...   0   0   0]\n",
      " [158  36  39 ...   0   0   0]\n",
      " [  0  17   7 ...   0   0   0]]\n",
      "(11482, 1645)\n"
     ]
    }
   ],
   "source": [
    "import numpy as np\n",
    "import ast\n",
    "\n",
    "# Convert it to the desired format\n",
    "Time_based_X_test = np.array([np.array(sublist) for sublist in Time_based_features])\n",
    "\n",
    "# Print the new array\n",
    "print(Time_based_X_test)\n",
    "print(Time_based_X_test.shape)"
   ]
  },
  {
   "cell_type": "markdown",
   "metadata": {},
   "source": [
    "5. Get the tf-idf features"
   ]
  },
  {
   "cell_type": "code",
   "execution_count": 45,
   "metadata": {},
   "outputs": [
    {
     "name": "stdout",
     "output_type": "stream",
     "text": [
      "(11482, 1000)\n"
     ]
    }
   ],
   "source": [
    "import joblib\n",
    "from sklearn.feature_extraction.text import TfidfVectorizer\n",
    "\n",
    "# Define the path to the saved vectorizer\n",
    "vectorizer_path = 'tfidf_vectorizer.pkl'\n",
    "\n",
    "# Load the vectorizer from the file\n",
    "loaded_tfidf_vectorizer = joblib.load(vectorizer_path)\n",
    "\n",
    "X_test_tfidf = loaded_tfidf_vectorizer.transform(grouped['Incident_text'].values)\n",
    "\n",
    "print(X_test_tfidf.shape)"
   ]
  },
  {
   "cell_type": "markdown",
   "metadata": {},
   "source": [
    "6. Get all the inputs to the required shape for the model"
   ]
  },
  {
   "cell_type": "code",
   "execution_count": 46,
   "metadata": {},
   "outputs": [],
   "source": [
    "test_X=[X_test_padded,Time_based_X_test, X_test_tfidf.toarray()]"
   ]
  },
  {
   "cell_type": "markdown",
   "metadata": {},
   "source": [
    "7. Get the predictions of the model on the given test data"
   ]
  },
  {
   "cell_type": "code",
   "execution_count": 47,
   "metadata": {},
   "outputs": [
    {
     "name": "stdout",
     "output_type": "stream",
     "text": [
      "359/359 [==============================] - 30s 83ms/step\n"
     ]
    }
   ],
   "source": [
    "y_pred_test= loaded_model.predict(test_X)\n",
    "y_label_pred_test= [1 if d>=0.5 else 0 for d in y_pred_test]"
   ]
  },
  {
   "cell_type": "markdown",
   "metadata": {},
   "source": [
    "### Prepare the final test submission file and save to csv format"
   ]
  },
  {
   "cell_type": "code",
   "execution_count": 50,
   "metadata": {},
   "outputs": [
    {
     "data": {
      "text/html": [
       "<div>\n",
       "<style scoped>\n",
       "    .dataframe tbody tr th:only-of-type {\n",
       "        vertical-align: middle;\n",
       "    }\n",
       "\n",
       "    .dataframe tbody tr th {\n",
       "        vertical-align: top;\n",
       "    }\n",
       "\n",
       "    .dataframe thead th {\n",
       "        text-align: right;\n",
       "    }\n",
       "</style>\n",
       "<table border=\"1\" class=\"dataframe\">\n",
       "  <thead>\n",
       "    <tr style=\"text-align: right;\">\n",
       "      <th></th>\n",
       "      <th>Patient-Uid</th>\n",
       "      <th>label</th>\n",
       "    </tr>\n",
       "  </thead>\n",
       "  <tbody>\n",
       "    <tr>\n",
       "      <th>0</th>\n",
       "      <td>a0f9e8a9-1c7c-11ec-8d25-16262ee38c7f</td>\n",
       "      <td>0</td>\n",
       "    </tr>\n",
       "    <tr>\n",
       "      <th>1</th>\n",
       "      <td>a0f9e9f9-1c7c-11ec-b565-16262ee38c7f</td>\n",
       "      <td>0</td>\n",
       "    </tr>\n",
       "    <tr>\n",
       "      <th>2</th>\n",
       "      <td>a0f9ea43-1c7c-11ec-aa10-16262ee38c7f</td>\n",
       "      <td>0</td>\n",
       "    </tr>\n",
       "    <tr>\n",
       "      <th>3</th>\n",
       "      <td>a0f9ea7c-1c7c-11ec-af15-16262ee38c7f</td>\n",
       "      <td>0</td>\n",
       "    </tr>\n",
       "    <tr>\n",
       "      <th>4</th>\n",
       "      <td>a0f9eab1-1c7c-11ec-a732-16262ee38c7f</td>\n",
       "      <td>0</td>\n",
       "    </tr>\n",
       "  </tbody>\n",
       "</table>\n",
       "</div>"
      ],
      "text/plain": [
       "                            Patient-Uid  label\n",
       "0  a0f9e8a9-1c7c-11ec-8d25-16262ee38c7f      0\n",
       "1  a0f9e9f9-1c7c-11ec-b565-16262ee38c7f      0\n",
       "2  a0f9ea43-1c7c-11ec-aa10-16262ee38c7f      0\n",
       "3  a0f9ea7c-1c7c-11ec-af15-16262ee38c7f      0\n",
       "4  a0f9eab1-1c7c-11ec-a732-16262ee38c7f      0"
      ]
     },
     "execution_count": 50,
     "metadata": {},
     "output_type": "execute_result"
    }
   ],
   "source": [
    "final_submission=pd.DataFrame()\n",
    "\n",
    "final_submission['Patient-Uid']=grouped['Patient-Uid'].values\n",
    "final_submission['label']=y_label_pred_test\n",
    "\n",
    "final_submission.head()"
   ]
  },
  {
   "cell_type": "code",
   "execution_count": null,
   "metadata": {},
   "outputs": [],
   "source": [
    "final_submission.to_csv('final_submission.csv', index=False)"
   ]
  },
  {
   "cell_type": "markdown",
   "metadata": {},
   "source": [
    "### Future Scope"
   ]
  },
  {
   "cell_type": "markdown",
   "metadata": {},
   "source": [
    "1. One more approach of just removing the target_drug along with its dates and try modeling again, since we are losing some data which is after target_drug in the current approach. There may be some advantage to trying it out.\n",
    "2. More feature engineering could be done with the help timestamps, like day, month and year etc although the time gap features cover the pattern, but we have to see if we can get any improvement with the inclusion of absolute values.\n",
    "3. More complicated model architecture like BERT etc can be tried or also we can explore what type of results we can get using simpler models like random forest, XG_Boost which ignore the time dependency aspect unlike LSTMs.\n",
    "4. Some oversampling approaches could be explored as we have imbalanced data."
   ]
  },
  {
   "cell_type": "code",
   "execution_count": null,
   "metadata": {},
   "outputs": [],
   "source": []
  }
 ],
 "metadata": {
  "kernelspec": {
   "display_name": "base",
   "language": "python",
   "name": "python3"
  },
  "language_info": {
   "codemirror_mode": {
    "name": "ipython",
    "version": 3
   },
   "file_extension": ".py",
   "mimetype": "text/x-python",
   "name": "python",
   "nbconvert_exporter": "python",
   "pygments_lexer": "ipython3",
   "version": "3.10.9"
  },
  "orig_nbformat": 4
 },
 "nbformat": 4,
 "nbformat_minor": 2
}
